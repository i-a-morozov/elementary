{
 "cells": [
  {
   "cell_type": "markdown",
   "id": "4fe6c1e7-9391-4d0a-b890-3691d6c5e905",
   "metadata": {},
   "source": [
    "# Example-02: Hamiltonian factory (non-autonomous integration in extended phase space)"
   ]
  },
  {
   "cell_type": "code",
   "execution_count": 1,
   "id": "e5b0ff81-f09d-4772-b3b5-a5fa89183572",
   "metadata": {},
   "outputs": [],
   "source": [
    "# In this example non-autonomous hamiltonial is integrated"
   ]
  },
  {
   "cell_type": "code",
   "execution_count": 2,
   "id": "8d36ea78-e74a-4b7c-bea9-b3fb3e912f2d",
   "metadata": {},
   "outputs": [],
   "source": [
    "# Import \n",
    "\n",
    "import jax\n",
    "from jax import Array\n",
    "from jax import jit\n",
    "from jax import jacrev\n",
    "\n",
    "from elementary import fold\n",
    "from elementary import nest\n",
    "from elementary import midpoint\n",
    "from elementary import tao\n",
    "from elementary import sequence\n",
    "\n",
    "from elementary.hamiltonian import hamiltonian_factory\n",
    "from elementary.hamiltonian import autonomize\n",
    "\n",
    "jax.numpy.set_printoptions(linewidth=256, precision=12)"
   ]
  },
  {
   "cell_type": "code",
   "execution_count": 3,
   "id": "b8fc02ee-9f08-4456-92fe-d561a276a2c0",
   "metadata": {},
   "outputs": [],
   "source": [
    "# Set data type\n",
    "\n",
    "jax.config.update(\"jax_enable_x64\", True)"
   ]
  },
  {
   "cell_type": "code",
   "execution_count": 4,
   "id": "dc2e0cd9-8be4-4f2c-a40a-335c41935958",
   "metadata": {},
   "outputs": [],
   "source": [
    "# Set device\n",
    "\n",
    "device, *_ = jax.devices('cpu')\n",
    "jax.config.update('jax_default_device', device)"
   ]
  },
  {
   "cell_type": "code",
   "execution_count": 5,
   "id": "fd191c35-b7ce-4038-86dd-2a0f1a56e475",
   "metadata": {},
   "outputs": [],
   "source": [
    "# Set parameters\n",
    "\n",
    "si = jax.numpy.float64(0.5)\n",
    "ds = jax.numpy.float64(0.01)\n",
    "kn = jax.numpy.float64(1.0)"
   ]
  },
  {
   "cell_type": "code",
   "execution_count": 6,
   "id": "d0bb3c3f-eea3-4894-8a7a-79dcd729b369",
   "metadata": {},
   "outputs": [],
   "source": [
    "# Set initial condition\n",
    "\n",
    "qs = jax.numpy.array([0.001, -0.005, 0.0])\n",
    "ps = jax.numpy.array([0.005, -0.001, 0.0001])\n",
    "x = jax.numpy.hstack([qs, ps])"
   ]
  },
  {
   "cell_type": "code",
   "execution_count": 7,
   "id": "d957559c-df5d-430f-b080-74e2327a15c7",
   "metadata": {},
   "outputs": [],
   "source": [
    "# Define non-autonomous and extended hamiltonian (explicit)\n",
    "\n",
    "def hamiltonian(qs, ps, s, kn, *args):\n",
    "    q_x, q_y, q_s = qs\n",
    "    p_x, p_y, p_s = ps\n",
    "    return p_s - jax.numpy.sqrt((1 + p_s)**2 - p_x**2 - p_y**2) + 1/2*kn*(1 + jax.numpy.cos(s))*(q_x**2 + q_y**2)\n",
    "\n",
    "def extended(qs, ps, s, kn, *args):\n",
    "    q_x, q_y, q_s, q_t = qs\n",
    "    p_x, p_y, p_s, p_t = ps\n",
    "    return p_t + (p_s - jax.numpy.sqrt((1 + p_s)**2 - p_x**2 - p_y**2) + 1/2*kn*(1 + jax.numpy.cos(q_t))*(q_x**2 + q_y**2))"
   ]
  },
  {
   "cell_type": "code",
   "execution_count": 8,
   "id": "ec7439c5-33c0-4b90-841d-5cb91de3e615",
   "metadata": {},
   "outputs": [],
   "source": [
    "# Set extended initial condition\n",
    "\n",
    "Qs = jax.numpy.concat([qs, si.reshape(-1)])\n",
    "Ps = jax.numpy.concat([ps, -hamiltonian(qs, ps, si, kn).reshape(-1)])\n",
    "X = jax.numpy.hstack([Qs, Ps])"
   ]
  },
  {
   "cell_type": "code",
   "execution_count": 9,
   "id": "7bf4d7b0-8f7f-4f56-8a37-da51aaa8a8f9",
   "metadata": {},
   "outputs": [],
   "source": [
    "# Set implicit midpoint integration step\n",
    "\n",
    "integrator = jit(fold(sequence(0, 2**1, [midpoint(extended, ns=2**1)], merge=False)))"
   ]
  },
  {
   "cell_type": "code",
   "execution_count": 10,
   "id": "2cddbce9-6bdc-4775-b704-77a8751fe0d5",
   "metadata": {},
   "outputs": [
    {
     "name": "stdout",
     "output_type": "stream",
     "text": [
      "[ 4.093772217780e-03 -2.130920641490e-03 -1.157542898301e-05  1.500000000000e+00  7.828730523443e-04  5.455056721550e-03  1.000000000000e-04  9.999734128953e-01]\n"
     ]
    }
   ],
   "source": [
    "# Set and compile element\n",
    "\n",
    "element = jit(nest(10**2, integrator))\n",
    "out = element(X, ds, si, kn)\n",
    "print(out)"
   ]
  },
  {
   "cell_type": "code",
   "execution_count": 11,
   "id": "19999d5f-4812-49a5-947d-d8ab2dd23921",
   "metadata": {},
   "outputs": [],
   "source": [
    "# Set tao integration step\n",
    "\n",
    "integrator = jit(fold(sequence(0, 2**1, [tao(extended)], merge=False)))"
   ]
  },
  {
   "cell_type": "code",
   "execution_count": 12,
   "id": "0197ddbc-306e-473e-8efb-ef7350151b65",
   "metadata": {},
   "outputs": [
    {
     "name": "stdout",
     "output_type": "stream",
     "text": [
      "[ 4.093772217780e-03 -2.130920641487e-03 -1.157542898302e-05  1.500000000000e+00  7.828730523431e-04  5.455056721550e-03  1.000000000000e-04  9.999734128953e-01]\n"
     ]
    }
   ],
   "source": [
    "# Set and compile element\n",
    "\n",
    "element = jit(nest(10**2, integrator))\n",
    "out = element(X, ds, si, kn)\n",
    "print(out)"
   ]
  },
  {
   "cell_type": "code",
   "execution_count": 13,
   "id": "bed740e9-90ae-41cd-9497-4515a1357de8",
   "metadata": {},
   "outputs": [],
   "source": [
    "# Define non-autonomous and extended hamiltonian (factory)\n",
    "\n",
    "def vector(qs:Array, s:Array, kn:Array, *args:Array) -> tuple[Array, Array, Array]:\n",
    "    q_x, q_y, q_s = qs\n",
    "    a_x, a_y, a_s = jax.numpy.zeros_like(qs)\n",
    "    a_s = - 1/2*kn*(1 + jax.numpy.cos(s))*(q_x**2 + q_y**2)\n",
    "    return a_x, a_y, a_s\n",
    "\n",
    "def scalar(qs:Array, s:Array, kn:Array, *args:Array) -> Array:\n",
    "    q_x, q_y, q_s = qs\n",
    "    return jax.numpy.zeros_like(s)\n",
    "\n",
    "hamiltonian = hamiltonian_factory(vector, scalar)\n",
    "\n",
    "extended = autonomize(hamiltonian)"
   ]
  },
  {
   "cell_type": "code",
   "execution_count": 14,
   "id": "e0d482f4-339d-447b-b9e4-bf4ea9affe9a",
   "metadata": {},
   "outputs": [],
   "source": [
    "# Set extended initial condition\n",
    "\n",
    "Qs = jax.numpy.concat([qs, si.reshape(-1)])\n",
    "Ps = jax.numpy.concat([ps, -hamiltonian(qs, ps, si, kn).reshape(-1)])\n",
    "X = jax.numpy.hstack([Qs, Ps])"
   ]
  },
  {
   "cell_type": "code",
   "execution_count": 15,
   "id": "7c4b69cc-a971-496c-b06a-60e5a5523bf4",
   "metadata": {},
   "outputs": [],
   "source": [
    "# Set implicit midpoint integration step\n",
    "\n",
    "integrator = jit(fold(sequence(0, 2**1, [midpoint(extended, ns=2**1)], merge=False)))"
   ]
  },
  {
   "cell_type": "code",
   "execution_count": 16,
   "id": "da3b5a65-4622-48ad-98bf-5aeb105efe36",
   "metadata": {},
   "outputs": [
    {
     "name": "stdout",
     "output_type": "stream",
     "text": [
      "[ 4.093772217780e-03 -2.130920641490e-03 -1.157542898301e-05  1.500000000000e+00  7.828730523443e-04  5.455056721550e-03  1.000000000000e-04  9.999734128953e-01]\n"
     ]
    }
   ],
   "source": [
    "# Set and compile element\n",
    "\n",
    "element = jit(nest(10**2, integrator))\n",
    "out = element(X, ds, si, kn)\n",
    "print(out)"
   ]
  },
  {
   "cell_type": "code",
   "execution_count": 17,
   "id": "82028949-c38d-44a5-951f-adb343d576e3",
   "metadata": {},
   "outputs": [],
   "source": [
    "# Set tao integration step\n",
    "\n",
    "integrator = jit(fold(sequence(0, 2**1, [tao(extended)], merge=False)))"
   ]
  },
  {
   "cell_type": "code",
   "execution_count": 18,
   "id": "2fe48996-c406-4f12-af48-bcb6ea190787",
   "metadata": {},
   "outputs": [
    {
     "name": "stdout",
     "output_type": "stream",
     "text": [
      "[ 4.093772217780e-03 -2.130920641487e-03 -1.157542898302e-05  1.500000000000e+00  7.828730523431e-04  5.455056721550e-03  1.000000000000e-04  9.999734128953e-01]\n"
     ]
    }
   ],
   "source": [
    "# Set and compile element\n",
    "\n",
    "element = jit(nest(10**2, integrator))\n",
    "out = element(X, ds, si, kn)\n",
    "print(out)"
   ]
  },
  {
   "cell_type": "code",
   "execution_count": 19,
   "id": "951dec84-88db-49fd-980d-3712ee53dac9",
   "metadata": {},
   "outputs": [
    {
     "data": {
      "text/plain": [
       "Array([[ 2.733638829123e-01, -5.073806420139e-06,  0.000000000000e+00,  8.507003015250e-04,  7.640867440566e-01,  3.911335010850e-06, -2.099797209399e-03,  0.000000000000e+00],\n",
       "       [-5.073787794666e-06,  2.733566344460e-01,  0.000000000000e+00, -1.445226318313e-03,  3.911295686010e-06,  7.640874081955e-01, -2.608613878958e-03,  0.000000000000e+00],\n",
       "       [ 1.815088641299e-03,  2.754207969965e-03,  1.000000000000e+00,  3.912375857701e-06, -2.607918123372e-03, -1.844346610617e-03,  1.977826577988e-05,  0.000000000000e+00],\n",
       "       [ 0.000000000000e+00,  0.000000000000e+00,  0.000000000000e+00,  1.000000000000e+00,  0.000000000000e+00,  0.000000000000e+00,  0.000000000000e+00,  0.000000000000e+00],\n",
       "       [-1.169086112155e+00,  2.508455236989e-06,  0.000000000000e+00,  2.194571127834e-03,  3.903836816403e-01, -2.470173985962e-06,  2.340302050291e-03,  0.000000000000e+00],\n",
       "       [ 2.508450612498e-06, -1.169086571022e+00,  0.000000000000e+00, -2.552292481525e-03, -2.470160046831e-06,  3.903899102544e-01,  1.080983794292e-03,  0.000000000000e+00],\n",
       "       [ 0.000000000000e+00,  0.000000000000e+00,  0.000000000000e+00,  0.000000000000e+00,  0.000000000000e+00,  0.000000000000e+00,  1.000000000000e+00,  0.000000000000e+00],\n",
       "       [ 1.594474968020e-03, -2.387294032472e-03,  0.000000000000e+00,  9.568051265768e-06,  1.344729639275e-03, -1.385962089381e-03, -2.291214027951e-06,  1.000000000000e+00]], dtype=float64)"
      ]
     },
     "execution_count": 19,
     "metadata": {},
     "output_type": "execute_result"
    }
   ],
   "source": [
    "# Diffirentiability (initial condition)\n",
    "\n",
    "jacrev(element)(X, ds, si, kn)"
   ]
  },
  {
   "cell_type": "code",
   "execution_count": 20,
   "id": "6d84bd97-6ce3-418f-89be-6fb842d1c58d",
   "metadata": {},
   "outputs": [
    {
     "data": {
      "text/plain": [
       "Array([-1.720422619828e-03,  3.372942592063e-03, -8.584999600196e-06,  0.000000000000e+00, -3.509583906528e-03,  4.764367089934e-03,  0.000000000000e+00,  5.002086081004e-06], dtype=float64)"
      ]
     },
     "execution_count": 20,
     "metadata": {},
     "output_type": "execute_result"
    }
   ],
   "source": [
    "# Diffirentiability (parameter)\n",
    "\n",
    "jacrev(element, argnums=-1)(X, ds, si, kn)"
   ]
  }
 ],
 "metadata": {
  "colab": {
   "collapsed_sections": [
    "myt0_gMIOq7b",
    "5d97819c"
   ],
   "name": "03_frequency.ipynb",
   "provenance": []
  },
  "kernelspec": {
   "display_name": "Python 3 (ipykernel)",
   "language": "python",
   "name": "python3"
  },
  "language_info": {
   "codemirror_mode": {
    "name": "ipython",
    "version": 3
   },
   "file_extension": ".py",
   "mimetype": "text/x-python",
   "name": "python",
   "nbconvert_exporter": "python",
   "pygments_lexer": "ipython3",
   "version": "3.12.1"
  },
  "latex_envs": {
   "LaTeX_envs_menu_present": true,
   "autoclose": false,
   "autocomplete": true,
   "bibliofile": "biblio.bib",
   "cite_by": "apalike",
   "current_citInitial": 1,
   "eqLabelWithNumbers": true,
   "eqNumInitial": 1,
   "hotkeys": {
    "equation": "Ctrl-E",
    "itemize": "Ctrl-I"
   },
   "labels_anchors": false,
   "latex_user_defs": false,
   "report_style_numbering": false,
   "user_envs_cfg": false
  }
 },
 "nbformat": 4,
 "nbformat_minor": 5
}
