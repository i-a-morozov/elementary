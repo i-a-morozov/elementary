{
 "cells": [
  {
   "cell_type": "markdown",
   "id": "4fe6c1e7-9391-4d0a-b890-3691d6c5e905",
   "metadata": {},
   "source": [
    "# Example-02: Hamiltonian factory"
   ]
  },
  {
   "cell_type": "markdown",
   "id": "f8c953e8-1612-439d-8be6-8d6faad9e01d",
   "metadata": {},
   "source": [
    "In this example non-autonomous generic hamiltonial symplectic integration is illustrated. [`sympint`](https://github.com/i-a-morozov/sympint) JAX based library is used to perfrom integration. `elementary.hamiltonian` provides `hamiltonian_factory` that can be used to construct a generic accelerator element hamiltonian with the following signature:\n",
    "\n",
    "```python\n",
    "def hamiltonian(qs: Array, ps: Array, s: Array, *args: Array) -> Array:\n",
    "    q_x, q_y, q_s = qs\n",
    "    p_x, p_y, p_s = ps\n",
    "    ...\n",
    "```\n",
    "\n",
    "In the most general case one needs to pass `vector` (required), `scalar`, `torsion` and `curvature` functions with signatures:\n",
    "\n",
    "```python\n",
    "def vector(qs:Array, s:Array, *args:Array) -> tuple[Array, Array, Array]:\n",
    "  q_x, q_y, q_s = qs\n",
    "  ...\n",
    "\n",
    "def scalar(qs:Array, s:Array, *args:Array) -> Array:\n",
    "  q_x, q_y, q_s = qs\n",
    "  ...\n",
    "\n",
    "def curvature(s:Array, *args:Array) -> Array:\n",
    "  ...\n",
    "\n",
    "def torsion(s:Array, *args:Array) -> Array:\n",
    "  ...\n",
    "```\n",
    "\n",
    "Note, `*args` are expexted to match between all the above functions.\n",
    "\n",
    "Explicitly, the accelerator hamiltonian is:\n",
    "\n",
    "$\n",
    "\\begin{align}\n",
    "& H(q_x, q_y, q_s, p_x, p_y, p_s; s) = \\frac{p_s}{\\beta} - t(s)(q_x p_y - q_y p_x) - (1 + h(s) q_x) \\left(\\sqrt{P_s^2 - P_x^2 - P_y^2 - \\frac{1}{\\beta^2 \\gamma^2}} + a_s(q_x, q_y, q_s; s)\\right)  \\\\\n",
    "& \\\\\n",
    "& P_s = p_s + 1/\\beta - \\varphi(q_x, q_y, q_s; s)  \\\\\n",
    "& P_x = p_x - a_x(q_x, q_y, q_s; s)  \\\\\n",
    "& P_y = p_y - a_y(q_x, q_y, q_s; s)\n",
    "\\end{align}\n",
    "$\n",
    "\n",
    "where $\\beta$ and $\\gamma$ are the relativistic factors, $h(s)$ is the reference trajectory curvature and $t(s)$ is the reference trajectory torsion, $a_x(q_x, q_y, q_s; s)$, $a_y(q_x, q_y, q_s; s)$ and $a_s(q_x, q_y, q_s; s)$ are the scaled vector potential components, and $\\varphi(q_x, q_y, q_s; s)$ is the scaled scalar potential. Additionaly, longitudinal coordinate and momentum are given by:\n",
    "\n",
    "$\n",
    "\\begin{align}\n",
    "& q_s = \\frac{s}{\\beta} - c t \\\\\n",
    "& p_s = \\frac{E}{c P} - \\frac{1}{\\beta}\n",
    "\\end{align}\n",
    "$\n",
    "\n",
    "The expression for $q_s$ should be used to replace explicit time dependence.\n",
    "\n",
    "As an example, the following non-autonomous hamiltonian is used:\n",
    "\n",
    "$\n",
    "\\begin{align}\n",
    "& H = p_s - \\left(\\sqrt{(1 + p_s)^2 - p_x^2 - p_y^2} + \\frac{1}{2} k_n \\left(1 + \\sin\\left(2 \\pi \\frac{s}{l}\\right)\\right) \\left(q_x^2 - q_y^2\\right)\\right)\n",
    "\\end{align}\n",
    "$"
   ]
  },
  {
   "cell_type": "code",
   "execution_count": 1,
   "id": "91c0a4a4-a4ca-49a9-9dbd-afcb3d7291af",
   "metadata": {},
   "outputs": [],
   "source": [
    "# Import \n",
    "\n",
    "import jax\n",
    "from jax import Array\n",
    "from jax import jit\n",
    "from jax import jacrev\n",
    "\n",
    "from elementary import fold\n",
    "from elementary import nest\n",
    "from elementary import tao\n",
    "from elementary import midpoint\n",
    "from elementary import sequence\n",
    "\n",
    "from elementary.hamiltonian import hamiltonian_factory\n",
    "from elementary.hamiltonian import autonomize\n",
    "\n",
    "jax.numpy.set_printoptions(linewidth=256, precision=12)"
   ]
  },
  {
   "cell_type": "code",
   "execution_count": 2,
   "id": "95319826-d3a0-49b1-b72c-dd3fc871dbb2",
   "metadata": {},
   "outputs": [],
   "source": [
    "# Set data type\n",
    "\n",
    "jax.config.update(\"jax_enable_x64\", True)"
   ]
  },
  {
   "cell_type": "code",
   "execution_count": 3,
   "id": "891247cb-b78c-4db1-a952-53b0f1750feb",
   "metadata": {},
   "outputs": [],
   "source": [
    "# Set device\n",
    "\n",
    "device, *_ = jax.devices('cpu')\n",
    "jax.config.update('jax_default_device', device)"
   ]
  },
  {
   "cell_type": "code",
   "execution_count": 4,
   "id": "37c8cdee-8b36-4f8c-ad66-01a725bf0698",
   "metadata": {},
   "outputs": [],
   "source": [
    "# Set parameters (initial independent parameter value, integration step length and quadrupole amplitude)\n",
    "\n",
    "si = jax.numpy.float64(0.5)\n",
    "ds = jax.numpy.float64(0.01)\n",
    "\n",
    "l = jax.numpy.float64(1.0)\n",
    "kn = jax.numpy.float64(1.0)"
   ]
  },
  {
   "cell_type": "code",
   "execution_count": 5,
   "id": "890029e7-c0ca-4ba0-b8f8-8b880749fde8",
   "metadata": {},
   "outputs": [],
   "source": [
    "# Set initial condition\n",
    "\n",
    "qs = jax.numpy.array([0.001, -0.005, 0.0])\n",
    "ps = jax.numpy.array([0.005, -0.001, 0.0001])\n",
    "\n",
    "qsps = jax.numpy.hstack([qs, ps])"
   ]
  },
  {
   "cell_type": "code",
   "execution_count": 6,
   "id": "67b4528d-351a-4779-9891-b36e97269518",
   "metadata": {},
   "outputs": [],
   "source": [
    "# Define non-autonomous and extended hamiltonian (explicit)\n",
    "\n",
    "def hamiltonian(qs, ps, s, l, kn, *args):\n",
    "    q_x, q_y, q_s = qs\n",
    "    p_x, p_y, p_s = ps\n",
    "    return p_s - (jax.numpy.sqrt((1 + p_s)**2 - p_x**2 - p_y**2) + 1/2*kn*(1 + jax.numpy.sin(2*jax.numpy.pi*s/l))*(q_x**2 - q_y**2))\n",
    "\n",
    "def extended(qs, ps, s, l, kn, *args):\n",
    "    q_x, q_y, q_s, q_t = qs\n",
    "    p_x, p_y, p_s, p_t = ps\n",
    "    return p_t + (p_s - jax.numpy.sqrt((1 + p_s)**2 - p_x**2 - p_y**2) - 1/2*kn*(1 + jax.numpy.sin(2*jax.numpy.pi*q_t/l))*(q_x**2 - q_y**2))"
   ]
  },
  {
   "cell_type": "code",
   "execution_count": 7,
   "id": "c68242d2-42e1-407f-b376-6806b151e663",
   "metadata": {},
   "outputs": [],
   "source": [
    "# Set extended initial condition\n",
    "\n",
    "Qs = jax.numpy.concat([qs, si.reshape(-1)])\n",
    "Ps = jax.numpy.concat([ps, -hamiltonian(qs, ps, si, l, kn).reshape(-1)])\n",
    "QsPs = jax.numpy.hstack([Qs, Ps])"
   ]
  },
  {
   "cell_type": "code",
   "execution_count": 8,
   "id": "75258b95-dc3b-43da-9c9a-f1f237667f5d",
   "metadata": {},
   "outputs": [],
   "source": [
    "# Set implicit midpoint integration step\n",
    "\n",
    "integrator = jit(fold(sequence(0, 2**1, [midpoint(extended, ns=2**1)], merge=False)))"
   ]
  },
  {
   "cell_type": "code",
   "execution_count": 9,
   "id": "f6183863-2a38-4a7b-b14b-8b9aa97f0fad",
   "metadata": {},
   "outputs": [
    {
     "name": "stdout",
     "output_type": "stream",
     "text": [
      "[ 7.235126271922e-03 -4.257064841347e-03 -2.199863474715e-05  1.500000000000e+00  9.664543767467e-03  3.998219958383e-03  1.000000000000e-04  9.999624216145e-01]\n"
     ]
    }
   ],
   "source": [
    "# Set and compile element\n",
    "\n",
    "element = jit(nest(int(l/ds), integrator))\n",
    "out = element(QsPs, ds, si, l, kn)\n",
    "print(out)"
   ]
  },
  {
   "cell_type": "code",
   "execution_count": 10,
   "id": "741de123-9f44-45bb-a627-e7ab0707ee7d",
   "metadata": {},
   "outputs": [],
   "source": [
    "# Set tao integration step\n",
    "\n",
    "integrator = jit(fold(sequence(0, 2**1, [tao(extended)], merge=False)))"
   ]
  },
  {
   "cell_type": "code",
   "execution_count": 11,
   "id": "bde311b4-a1bd-4d20-8f7a-583315f95bcc",
   "metadata": {},
   "outputs": [
    {
     "name": "stdout",
     "output_type": "stream",
     "text": [
      "[ 7.235126271969e-03 -4.257064841463e-03 -2.199863474965e-05  1.500000000000e+00  9.664543767678e-03  3.998219958148e-03  1.000000000000e-04  9.999624216145e-01]\n"
     ]
    }
   ],
   "source": [
    "# Set and compile element\n",
    "\n",
    "element = jit(nest(int(l/ds), integrator))\n",
    "out = element(QsPs, ds, si, l, kn)\n",
    "print(out)"
   ]
  },
  {
   "cell_type": "code",
   "execution_count": 12,
   "id": "3a436ba2-0625-437e-af0c-11fff7657745",
   "metadata": {},
   "outputs": [],
   "source": [
    "# Define non-autonomous and extended hamiltonian (factory)\n",
    "\n",
    "def vector(qs:Array, s:Array, l:Array, kn:Array, *args:Array) -> tuple[Array, Array, Array]:\n",
    "    q_x, q_y, q_s = qs\n",
    "    a_x, a_y, a_s = jax.numpy.zeros_like(qs)\n",
    "    a_s = 1/2*kn*(1 + jax.numpy.sin(2*jax.numpy.pi*s/l))*(q_x**2 - q_y**2)\n",
    "    return a_x, a_y, a_s\n",
    "\n",
    "def scalar(qs:Array, s:Array, l:Array, kn:Array, *args:Array) -> Array:\n",
    "    q_x, q_y, q_s = qs\n",
    "    return jax.numpy.zeros_like(s)\n",
    "\n",
    "hamiltonian = hamiltonian_factory(vector, scalar)\n",
    "extended = autonomize(hamiltonian)"
   ]
  },
  {
   "cell_type": "code",
   "execution_count": 13,
   "id": "57ed66e2-6210-489b-8ed3-73ac125cd6db",
   "metadata": {},
   "outputs": [],
   "source": [
    "# Set extended initial condition\n",
    "\n",
    "Qs = jax.numpy.concat([qs, si.reshape(-1)])\n",
    "Ps = jax.numpy.concat([ps, -hamiltonian(qs, ps, si, l, kn).reshape(-1)])\n",
    "QsPs = jax.numpy.hstack([Qs, Ps])"
   ]
  },
  {
   "cell_type": "code",
   "execution_count": 14,
   "id": "61a9b89a-167f-4dbe-a6bc-b8629ab5ecfa",
   "metadata": {},
   "outputs": [],
   "source": [
    "# Set implicit midpoint integration step\n",
    "\n",
    "integrator = jit(fold(sequence(0, 2**1, [midpoint(extended, ns=2**1)], merge=False)))"
   ]
  },
  {
   "cell_type": "code",
   "execution_count": 15,
   "id": "0a2d3aa9-873f-4121-bbcb-e07739986ee8",
   "metadata": {},
   "outputs": [
    {
     "name": "stdout",
     "output_type": "stream",
     "text": [
      "[ 7.235126271922e-03 -4.257064841347e-03 -2.199863474715e-05  1.500000000000e+00  9.664543767467e-03  3.998219958383e-03  1.000000000000e-04  9.999624216145e-01]\n"
     ]
    }
   ],
   "source": [
    "# Set and compile element\n",
    "\n",
    "element = jit(nest(int(l/ds), integrator))\n",
    "out = element(QsPs, ds, si, l, kn)\n",
    "print(out)"
   ]
  },
  {
   "cell_type": "code",
   "execution_count": 16,
   "id": "088d46c6-3517-4b35-9e04-3337243273bf",
   "metadata": {},
   "outputs": [],
   "source": [
    "# Set tao integration step\n",
    "\n",
    "integrator = jit(fold(sequence(0, 2**1, [tao(extended)], merge=False)))"
   ]
  },
  {
   "cell_type": "code",
   "execution_count": 17,
   "id": "1c5669e4-e185-4695-991f-181125fc4790",
   "metadata": {},
   "outputs": [
    {
     "name": "stdout",
     "output_type": "stream",
     "text": [
      "[ 7.235126271969e-03 -4.257064841463e-03 -2.199863474965e-05  1.500000000000e+00  9.664543767678e-03  3.998219958148e-03  1.000000000000e-04  9.999624216145e-01]\n"
     ]
    }
   ],
   "source": [
    "# Set and compile element\n",
    "\n",
    "element = jit(nest(int(l/ds), integrator))\n",
    "out = element(QsPs, ds, si, l, kn)\n",
    "print(out)"
   ]
  },
  {
   "cell_type": "code",
   "execution_count": 18,
   "id": "aedb4f0f-f7d1-491b-82ca-d6f039e1475d",
   "metadata": {},
   "outputs": [
    {
     "name": "stdout",
     "output_type": "stream",
     "text": [
      "[[ 1.366527779203e+00 -5.802223397334e-06  0.000000000000e+00  1.658258296648e-03  1.173782172073e+00  3.024552512394e-06 -7.166765586369e-03  0.000000000000e+00]\n",
      " [ 6.891863981574e-06  6.833771361996e-01  0.000000000000e+00  4.804596565370e-04  1.099963935945e-05  8.401702767985e-01 -7.785286136285e-04  0.000000000000e+00]\n",
      " [-2.784634943647e-03  6.697396020357e-04  1.000000000000e+00 -1.788345235604e-05 -7.636376226265e-03 -3.158011828099e-04  5.159686903021e-05  0.000000000000e+00]\n",
      " [ 0.000000000000e+00  0.000000000000e+00  0.000000000000e+00  1.000000000000e+00  0.000000000000e+00  0.000000000000e+00  0.000000000000e+00  0.000000000000e+00]\n",
      " [ 1.134284155157e+00 -9.555360071284e-07  0.000000000000e+00 -1.418791282023e-04  1.706077662573e+00 -1.231406521087e-07 -3.911016696259e-03  0.000000000000e+00]\n",
      " [-1.121934780525e-06 -8.767306145299e-01  0.000000000000e+00  1.453245809425e-03 -1.267627972649e-06  3.854343128509e-01  1.873697940944e-05  0.000000000000e+00]\n",
      " [ 0.000000000000e+00  0.000000000000e+00  0.000000000000e+00  0.000000000000e+00  0.000000000000e+00  0.000000000000e+00  1.000000000000e+00  0.000000000000e+00]\n",
      " [-2.074807326405e-03  1.414351057111e-03  0.000000000000e+00 -1.733134500028e-04 -2.995636035736e-03  1.035788071469e-03  2.424534688640e-05  1.000000000000e+00]]\n",
      "1.0\n"
     ]
    }
   ],
   "source": [
    "# Diffirentiability (initial condition)\n",
    "\n",
    "matrix = jacrev(element)(QsPs, ds, si, l, kn)\n",
    "\n",
    "print(matrix)\n",
    "print(jax.numpy.linalg.det(matrix))"
   ]
  },
  {
   "cell_type": "code",
   "execution_count": 19,
   "id": "c51d5d00-3c9c-4ef2-9dd8-bb717e917887",
   "metadata": {},
   "outputs": [
    {
     "name": "stdout",
     "output_type": "stream",
     "text": [
      "[ 1.298574427115e-03  1.618721745092e-03 -1.373594876871e-05  0.000000000000e+00  5.045563129602e-03  4.364921756032e-03  0.000000000000e+00 -2.081340401732e-05]\n"
     ]
    }
   ],
   "source": [
    "# Diffirentiability (parameter)\n",
    "\n",
    "print(jacrev(element, argnums=-1)(QsPs, ds, si, l, kn))"
   ]
  }
 ],
 "metadata": {
  "colab": {
   "collapsed_sections": [
    "myt0_gMIOq7b",
    "5d97819c"
   ],
   "name": "03_frequency.ipynb",
   "provenance": []
  },
  "kernelspec": {
   "display_name": "Python 3 (ipykernel)",
   "language": "python",
   "name": "python3"
  },
  "language_info": {
   "codemirror_mode": {
    "name": "ipython",
    "version": 3
   },
   "file_extension": ".py",
   "mimetype": "text/x-python",
   "name": "python",
   "nbconvert_exporter": "python",
   "pygments_lexer": "ipython3",
   "version": "3.12.1"
  },
  "latex_envs": {
   "LaTeX_envs_menu_present": true,
   "autoclose": false,
   "autocomplete": true,
   "bibliofile": "biblio.bib",
   "cite_by": "apalike",
   "current_citInitial": 1,
   "eqLabelWithNumbers": true,
   "eqNumInitial": 1,
   "hotkeys": {
    "equation": "Ctrl-E",
    "itemize": "Ctrl-I"
   },
   "labels_anchors": false,
   "latex_user_defs": false,
   "report_style_numbering": false,
   "user_envs_cfg": false
  }
 },
 "nbformat": 4,
 "nbformat_minor": 5
}
