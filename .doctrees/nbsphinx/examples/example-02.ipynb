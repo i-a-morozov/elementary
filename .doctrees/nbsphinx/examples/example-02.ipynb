{
 "cells": [
  {
   "attachments": {},
   "cell_type": "markdown",
   "id": "556562f3-8ece-4517-8c93-ee5e2fc29131",
   "metadata": {},
   "source": [
    "# Example-03: Drift element factory"
   ]
  },
  {
   "cell_type": "code",
   "execution_count": 1,
   "id": "6d032ad2-c569-41b9-a29c-471a4d08f85a",
   "metadata": {},
   "outputs": [],
   "source": [
    "# In this example drift factory is illustrated"
   ]
  },
  {
   "cell_type": "code",
   "execution_count": 2,
   "id": "244ec679-fbed-4498-bbf5-e654c851e0eb",
   "metadata": {},
   "outputs": [],
   "source": [
    "import jax\n",
    "from jax import jit\n",
    "from jax import jacrev\n",
    "\n",
    "from elementary.util import ptc\n",
    "from elementary.util import beta\n",
    "from elementary.drift import drift_factory\n",
    "\n",
    "jax.numpy.set_printoptions(linewidth=256, precision=12)"
   ]
  },
  {
   "cell_type": "code",
   "execution_count": 3,
   "id": "903fc66f-330f-4f86-8210-daa8e647c440",
   "metadata": {},
   "outputs": [],
   "source": [
    "# Set data type\n",
    "\n",
    "jax.config.update(\"jax_enable_x64\", True)"
   ]
  },
  {
   "cell_type": "code",
   "execution_count": 4,
   "id": "00273e8a-0af3-4259-b4fe-c2d49ba2e83c",
   "metadata": {},
   "outputs": [],
   "source": [
    "# Set device\n",
    "\n",
    "device, *_ = jax.devices('cpu')\n",
    "jax.config.update('jax_default_device', device)"
   ]
  },
  {
   "cell_type": "code",
   "execution_count": 5,
   "id": "83eac826-dd08-46c6-ba9b-949f83aa7819",
   "metadata": {},
   "outputs": [],
   "source": [
    "# Set initial condition\n",
    "\n",
    "(q_x, q_y, q_s) = qs = jax.numpy.array([0.0, 0.0, 0.001])\n",
    "(p_x, p_y, p_s) = ps = jax.numpy.array([0.001, 0.001, -0.0001])\n",
    "x = jax.numpy.hstack([qs, ps])"
   ]
  },
  {
   "cell_type": "code",
   "execution_count": 6,
   "id": "01a2e5f8-94c3-4a85-a54c-348e0b9fa02f",
   "metadata": {},
   "outputs": [],
   "source": [
    "# Define generic drift element\n",
    "\n",
    "gamma = 10**4\n",
    "element = jit(drift_factory(beta=beta(gamma), gamma=gamma))"
   ]
  },
  {
   "cell_type": "code",
   "execution_count": 7,
   "id": "10e8ce7b-0bc0-480b-9f73-0f5c5183eb96",
   "metadata": {},
   "outputs": [
    {
     "name": "stdout",
     "output_type": "stream",
     "text": [
      "[ 0.00100010101   0.00100010101   0.000998999797  0.001           0.001          -0.0001        ]\n",
      "[ 0.00100010101   0.00100010101   0.000998999797  0.001           0.001          -0.0001        ]\n",
      "True\n"
     ]
    }
   ],
   "source": [
    "# Compare with PTC\n",
    "\n",
    "print(res := element(x, 1.0))\n",
    "print(ref := ptc(x, 'drift', {'l': 1.0}, gamma=gamma))\n",
    "print(jax.numpy.allclose(res, ref))"
   ]
  },
  {
   "cell_type": "code",
   "execution_count": 8,
   "id": "7c555c8f-19b8-47ad-a025-ef37c5744b15",
   "metadata": {},
   "outputs": [
    {
     "name": "stdout",
     "output_type": "stream",
     "text": [
      "[[ 1.000000000000e+00  0.000000000000e+00  0.000000000000e+00  1.000102010606e+00  1.000303061531e-06 -1.000203036215e-03]\n",
      " [ 0.000000000000e+00  1.000000000000e+00  0.000000000000e+00  1.000303061532e-06  1.000102010606e+00 -1.000203036215e-03]\n",
      " [ 0.000000000000e+00  0.000000000000e+00  1.000000000000e+00 -1.000203036215e-03 -1.000203036215e-03  2.010609153797e-06]\n",
      " [ 0.000000000000e+00  0.000000000000e+00  0.000000000000e+00  1.000000000000e+00  2.153530860291e-16  4.365802117678e-20]\n",
      " [ 0.000000000000e+00  0.000000000000e+00  0.000000000000e+00 -5.759110665868e-17  1.000000000000e+00 -1.666666809949e-20]\n",
      " [ 0.000000000000e+00  0.000000000000e+00  0.000000000000e+00 -1.030790028879e-17 -1.902883163971e-16  1.000000000000e+00]]\n",
      "\n",
      "[ 1.000101010303e-03  1.000101010303e-03 -1.000202535512e-06 -4.365361716197e-20  1.638774596422e-20 -2.007338881283e-19]\n",
      "\n"
     ]
    }
   ],
   "source": [
    "# Differentiability\n",
    "\n",
    "length = jax.numpy.float64(1.0)\n",
    "\n",
    "print(jacrev(element)(x, length))\n",
    "print()\n",
    "\n",
    "print(jacrev(element, -1)(x, length))\n",
    "print()"
   ]
  }
 ],
 "metadata": {
  "colab": {
   "collapsed_sections": [
    "myt0_gMIOq7b",
    "5d97819c"
   ],
   "name": "03_frequency.ipynb",
   "provenance": []
  },
  "kernelspec": {
   "display_name": "Python 3 (ipykernel)",
   "language": "python",
   "name": "python3"
  },
  "language_info": {
   "codemirror_mode": {
    "name": "ipython",
    "version": 3
   },
   "file_extension": ".py",
   "mimetype": "text/x-python",
   "name": "python",
   "nbconvert_exporter": "python",
   "pygments_lexer": "ipython3",
   "version": "3.12.1"
  },
  "latex_envs": {
   "LaTeX_envs_menu_present": true,
   "autoclose": false,
   "autocomplete": true,
   "bibliofile": "biblio.bib",
   "cite_by": "apalike",
   "current_citInitial": 1,
   "eqLabelWithNumbers": true,
   "eqNumInitial": 1,
   "hotkeys": {
    "equation": "Ctrl-E",
    "itemize": "Ctrl-I"
   },
   "labels_anchors": false,
   "latex_user_defs": false,
   "report_style_numbering": false,
   "user_envs_cfg": false
  }
 },
 "nbformat": 4,
 "nbformat_minor": 5
}
