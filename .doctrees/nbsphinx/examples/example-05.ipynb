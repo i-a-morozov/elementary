{
 "cells": [
  {
   "attachments": {},
   "cell_type": "markdown",
   "id": "556562f3-8ece-4517-8c93-ee5e2fc29131",
   "metadata": {},
   "source": [
    "# Example-06: Octupole element factory"
   ]
  },
  {
   "cell_type": "code",
   "execution_count": 1,
   "id": "475649e7-6f40-48f9-807b-92c51b33d74d",
   "metadata": {},
   "outputs": [],
   "source": [
    "# In this example octupole factory is illustrated"
   ]
  },
  {
   "cell_type": "code",
   "execution_count": 2,
   "id": "4ef4a96d-6a5e-43dd-bb92-602d8b730f7e",
   "metadata": {},
   "outputs": [],
   "source": [
    "import jax\n",
    "from jax import jit\n",
    "from jax import jacrev\n",
    "\n",
    "from elementary.util import ptc\n",
    "from elementary.util import beta\n",
    "from elementary.octupole import octupole_factory\n",
    "\n",
    "jax.numpy.set_printoptions(linewidth=256, precision=12)"
   ]
  },
  {
   "cell_type": "code",
   "execution_count": 3,
   "id": "c962156e-6144-4ad5-9fc8-1a65c7872549",
   "metadata": {},
   "outputs": [],
   "source": [
    "# Set data type\n",
    "\n",
    "jax.config.update(\"jax_enable_x64\", True)"
   ]
  },
  {
   "cell_type": "code",
   "execution_count": 4,
   "id": "c7c95a32-bf26-46c9-906c-d17f9d8276ef",
   "metadata": {},
   "outputs": [],
   "source": [
    "# Set device\n",
    "\n",
    "device, *_ = jax.devices('cpu')\n",
    "jax.config.update('jax_default_device', device)"
   ]
  },
  {
   "cell_type": "code",
   "execution_count": 5,
   "id": "d077e097-21dc-4b03-adaa-23a287e62c8a",
   "metadata": {},
   "outputs": [],
   "source": [
    "# Set initial condition\n",
    "\n",
    "(q_x, q_y, q_s) = qs = jax.numpy.array([-0.01, 0.005, 0.001])\n",
    "(p_x, p_y, p_s) = ps = jax.numpy.array([0.001, 0.001, -0.0001])\n",
    "x = jax.numpy.hstack([qs, ps])"
   ]
  },
  {
   "cell_type": "code",
   "execution_count": 6,
   "id": "9ca72e23-ba74-4611-b0b5-e83b801d476f",
   "metadata": {},
   "outputs": [],
   "source": [
    "# Define generic sextupole element\n",
    "\n",
    "gamma = 10**6\n",
    "element = jit(octupole_factory(beta=beta(gamma), gamma=gamma, order=2**1, iterations=100, settings=dict(ns=2**1)))"
   ]
  },
  {
   "cell_type": "code",
   "execution_count": 7,
   "id": "d5d5014e-cc0c-4b62-bb34-03e80638b116",
   "metadata": {},
   "outputs": [
    {
     "name": "stdout",
     "output_type": "stream",
     "text": [
      "[-0.009797768862  0.005199205032  0.000999798545  0.001022114248  0.000992148146 -0.0001        ]\n",
      "[-0.009797768862  0.005199205032  0.000999798545  0.001022114248  0.000992148146 -0.0001        ]\n",
      "True\n"
     ]
    }
   ],
   "source": [
    "# Compare with PTC\n",
    "\n",
    "length = jax.numpy.float64(0.2)\n",
    "kn = jax.numpy.float64(-100.0)\n",
    "ks = jax.numpy.float64(+500.0)\n",
    "\n",
    "print(res := element(x, length, kn, ks))\n",
    "print(ref := ptc(x, 'octupole', {'l': float(length), 'k3': float(kn), 'k3s': float(ks)}, gamma=gamma))\n",
    "print(jax.numpy.allclose(res, ref))"
   ]
  },
  {
   "cell_type": "code",
   "execution_count": 8,
   "id": "2b8a2a81-d713-41b0-a82f-11730df79304",
   "metadata": {},
   "outputs": [
    {
     "name": "stdout",
     "output_type": "stream",
     "text": [
      "[[ 9.995697830497e-01  4.656632792030e-04  0.000000000000e+00  1.999915493270e-01  3.093502378318e-05 -2.022534219311e-04]\n",
      " [ 4.656649770852e-04  1.000430351571e+00  0.000000000000e+00  3.093510854154e-05  2.000492660272e-01 -1.992850675588e-04]\n",
      " [-2.659895940131e-08 -9.006308190735e-07  1.000000000000e+00 -2.022529821769e-04 -1.992852940463e-04  4.030115086891e-07]\n",
      " [-4.326806733307e-03  4.608973281252e-03  0.000000000000e+00  9.995646349961e-01  4.562292899751e-04 -1.639275718681e-08]\n",
      " [ 4.609037834467e-03  4.329471623181e-03  0.000000000000e+00  4.562327538090e-04  1.000435498762e+00 -8.939564944818e-07]\n",
      " [ 1.882573265034e-27  5.786541258829e-28  0.000000000000e+00  1.104032840606e-26 -2.209639763016e-26  1.000000000000e+00]]\n",
      "\n",
      "[ 1.022217507043e-03  9.922483777202e-04 -1.014742222594e-06  1.106308301324e-04 -3.477926503173e-05 -1.217281183102e-28]\n",
      "\n"
     ]
    }
   ],
   "source": [
    "# Differentiability\n",
    "\n",
    "print(jacrev(element)(x, length, kn, ks))\n",
    "print()\n",
    "\n",
    "print(jacrev(element, 1)(x, length, kn, ks))\n",
    "print()"
   ]
  }
 ],
 "metadata": {
  "colab": {
   "collapsed_sections": [
    "myt0_gMIOq7b",
    "5d97819c"
   ],
   "name": "03_frequency.ipynb",
   "provenance": []
  },
  "kernelspec": {
   "display_name": "Python 3 (ipykernel)",
   "language": "python",
   "name": "python3"
  },
  "language_info": {
   "codemirror_mode": {
    "name": "ipython",
    "version": 3
   },
   "file_extension": ".py",
   "mimetype": "text/x-python",
   "name": "python",
   "nbconvert_exporter": "python",
   "pygments_lexer": "ipython3",
   "version": "3.12.1"
  },
  "latex_envs": {
   "LaTeX_envs_menu_present": true,
   "autoclose": false,
   "autocomplete": true,
   "bibliofile": "biblio.bib",
   "cite_by": "apalike",
   "current_citInitial": 1,
   "eqLabelWithNumbers": true,
   "eqNumInitial": 1,
   "hotkeys": {
    "equation": "Ctrl-E",
    "itemize": "Ctrl-I"
   },
   "labels_anchors": false,
   "latex_user_defs": false,
   "report_style_numbering": false,
   "user_envs_cfg": false
  }
 },
 "nbformat": 4,
 "nbformat_minor": 5
}
