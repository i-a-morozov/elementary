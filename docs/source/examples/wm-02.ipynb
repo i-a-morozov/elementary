{
 "cells": [
  {
   "cell_type": "markdown",
   "id": "526f087b-e635-4d12-923b-be1bc099646b",
   "metadata": {},
   "source": [
    "# WM-02: Differentiable operators in 3D curvilinear generic coordinates"
   ]
  },
  {
   "cell_type": "code",
   "execution_count": 1,
   "id": "ad63a9d2-7575-41e9-a6a6-8acafa067b59",
   "metadata": {},
   "outputs": [],
   "source": [
    "(* In this example differentiable operations in 3D curvilinear coordinates are computed *)\n",
    "(* The results are projected to cartesian frame and then to one of the selected orthogonal ones for comparison with WM *)\n",
    "(* Note, results for parametric WM charts, like \"Toroidal\" do not match, no adjustment for handedness is performed *)\n",
    "(* Note, low case letters are used for covariant components, while upper case letters are used for contravariant ones *)"
   ]
  },
  {
   "cell_type": "code",
   "execution_count": 5,
   "id": "b176aea7-c20e-4817-813a-9d7fd82be9aa",
   "metadata": {},
   "outputs": [],
   "source": [
    "(* Differential operations in curvilinear coordinates *)\n",
    "\n",
    "(* Gradient *)\n",
    "(* Input  : scalar *)\n",
    "(* Output : covariant vector *)\n",
    "\n",
    "ClearAll[grad] ;\n",
    "grad[sqrt_][scalar_, coordinates_] :=  D[scalar, {coordinates}] ;\n",
    "\n",
    "(* Divergence *)\n",
    "(* Input  : contravariant vector *)\n",
    "(* Output : scalar *)\n",
    "\n",
    "ClearAll[div] ;\n",
    "div[sqrt_][vector_, coordinates_] := 1/sqrt*Div[sqrt*vector, coordinates] ;\n",
    "\n",
    "(* Curl *)\n",
    "(* Input  : covariant vector *)\n",
    "(* Output : contravariant vector *)\n",
    "\n",
    "ClearAll[curl] ;\n",
    "curl[sqrt_][vector_, coordinates_] := 1/sqrt*Curl[vector, coordinates] ;\n",
    "\n",
    "(* Laplacian *)\n",
    "(* Input  : scalar *)\n",
    "(* Output : scalar *)\n",
    "\n",
    "ClearAll[laplacian] ;\n",
    "laplacian[sqrt_, inverse_][scalar_, coordinates_] := div[sqrt][inverse . grad[sqrt][scalar, coordinates], coordinates] ;"
   ]
  },
  {
   "cell_type": "code",
   "execution_count": 26,
   "id": "f59ab3b7-f2c1-4da2-8c5c-95616366948a",
   "metadata": {},
   "outputs": [],
   "source": [
    "(* Start with generic cartesian vector field *)\n",
    "\n",
    "fCartesian = {fx[qx, qy, qz], fy[qx, qy, qz], fz[qx, qy, qz]} ;\n",
    "\n",
    "(* Select build-in chart *)\n",
    "\n",
    "chart = \"Hyperspherical\" ;\n",
    "\n",
    "(* Coordinates (q1, q2, q3) are contravariant coordinates *)\n",
    "\n",
    "coordinates = {q1, q2, q3} ;\n",
    "\n",
    "(* Transformed field using build-in function *)\n",
    "\n",
    "fChart = Simplify[TransformedField[\"Cartesian\" -> chart, fCartesian, {qx, qy, qz} -> coordinates]] ;\n",
    "\n",
    "(* Radius vector *)\n",
    "\n",
    "radius = CoordinateTransform[chart -> \"Cartesian\", coordinates] ;\n",
    "\n",
    "(* Covariant basis *)\n",
    "\n",
    "{ea, eb, ec} = Transpose[D[radius, {coordinates}]] ;\n",
    "\n",
    "(* Metric tensor *)\n",
    "\n",
    "forward = Simplify[Outer[Dot, {ea, eb, ec}, {ea, eb, ec}, 1]] ;\n",
    "\n",
    "(* Metric tensor inverse *)\n",
    "\n",
    "inverse = Simplify[Inverse[forward]] ;\n",
    "\n",
    "(* Scaling factor *)\n",
    "\n",
    "sqrt = Simplify[Sqrt[Det[forward]]] ;\n",
    "\n",
    "(* Contravariant basis *)\n",
    "\n",
    "{eA, eB, eC} = Transpose[inverse] . {ea, eb, ec} ;\n",
    "\n",
    "(* Transformation *)\n",
    "\n",
    "transform = Thread[{qx, qy, qz} -> radius] ;\n",
    "\n",
    "(* Construct covariant components *)\n",
    "\n",
    "{fa, fb, fc} = Simplify[{ea, eb, ec} . fCartesian /. transform] ;\n",
    "\n",
    "(* Construct contravariant components *)\n",
    "\n",
    "{fA, fB, fC}  = Simplify[Transpose[inverse . {fa, fb, fc}] ] ;\n",
    "\n",
    "(* Projection basis (orthonormal basis) *)\n",
    "\n",
    "e1 = Simplify[ea/Sqrt[Total[ea^2]]] ;\n",
    "e2 = Simplify[eb/Sqrt[Total[eb^2]]] ;\n",
    "e3 = Simplify[ec/Sqrt[Total[ec^2]]] ;"
   ]
  },
  {
   "cell_type": "code",
   "execution_count": 56,
   "id": "488362f1-390a-4f65-9966-84011837a42c",
   "metadata": {},
   "outputs": [
    {
     "data": {
      "text/html": [
       "<div><pre style=\"&#102;&#111;&#110;&#116;&#45;&#102;&#97;&#109;&#105;&#108;&#121;&#58;&#32;&#34;&#67;&#111;&#117;&#114;&#105;&#101;&#114;&#32;&#78;&#101;&#119;&#34;&#44;&#67;&#111;&#117;&#114;&#105;&#101;&#114;&#44;&#109;&#111;&#110;&#111;&#115;&#112;&#97;&#99;&#101;&#59;\">&#123;&#48;&#44;&#32;&#48;&#44;&#32;&#48;&#125;</pre></div>"
      ],
      "text/plain": [
       "{0, 0, 0}"
      ]
     },
     "execution_count": 57,
     "metadata": {
      "text/html": [],
      "text/plain": []
     },
     "output_type": "execute_result"
    }
   ],
   "source": [
    "(* Transformation (cartesian -> orthogonal) *)\n",
    "\n",
    "Simplify@PowerExpand@Simplify[fChart - Simplify[Dot[{e1, e2, e3}, fCartesian]] /. transform]"
   ]
  },
  {
   "cell_type": "code",
   "execution_count": 58,
   "id": "3cf87b75-6ba6-4351-8283-557395049d34",
   "metadata": {},
   "outputs": [
    {
     "data": {
      "text/html": [
       "<div><pre style=\"&#102;&#111;&#110;&#116;&#45;&#102;&#97;&#109;&#105;&#108;&#121;&#58;&#32;&#34;&#67;&#111;&#117;&#114;&#105;&#101;&#114;&#32;&#78;&#101;&#119;&#34;&#44;&#67;&#111;&#117;&#114;&#105;&#101;&#114;&#44;&#109;&#111;&#110;&#111;&#115;&#112;&#97;&#99;&#101;&#59;\">&#123;&#48;&#44;&#32;&#48;&#44;&#32;&#48;&#125;</pre></div>"
      ],
      "text/plain": [
       "{0, 0, 0}"
      ]
     },
     "execution_count": 62,
     "metadata": {
      "text/html": [],
      "text/plain": []
     },
     "output_type": "execute_result"
    }
   ],
   "source": [
    "(* Transformation (covariant -> contravariant -> cartesian -> orhtogonal) *)\n",
    "\n",
    "fCovariant = {fa, fb, fc} ;\n",
    "fContravariant = Transpose[inverse . fCovariant] ;\n",
    "fCartesian = Simplify[Dot[fContravariant, {ea, eb, ec}]] ;\n",
    "Simplify@PowerExpand@Simplify[fChart - Simplify[Dot[{e1, e2, e3}, fCartesian]] /. transform]"
   ]
  },
  {
   "cell_type": "code",
   "execution_count": 63,
   "id": "fabad2d4-c919-457b-952a-e7a25b1d35c5",
   "metadata": {},
   "outputs": [
    {
     "data": {
      "text/html": [
       "<div><pre style=\"&#102;&#111;&#110;&#116;&#45;&#102;&#97;&#109;&#105;&#108;&#121;&#58;&#32;&#34;&#67;&#111;&#117;&#114;&#105;&#101;&#114;&#32;&#78;&#101;&#119;&#34;&#44;&#67;&#111;&#117;&#114;&#105;&#101;&#114;&#44;&#109;&#111;&#110;&#111;&#115;&#112;&#97;&#99;&#101;&#59;\">&#123;&#48;&#44;&#32;&#48;&#44;&#32;&#48;&#125;</pre></div>"
      ],
      "text/plain": [
       "{0, 0, 0}"
      ]
     },
     "execution_count": 69,
     "metadata": {
      "text/html": [],
      "text/plain": []
     },
     "output_type": "execute_result"
    }
   ],
   "source": [
    "(* Gradient *)\n",
    "\n",
    "fWM = Grad[f @@ coordinates, coordinates, chart] ;\n",
    "\n",
    "fCovariant = grad[sqrt][f @@ coordinates, coordinates] ;\n",
    "fContravariant = Transpose[inverse . fCovariant] ;\n",
    "fCartesian = Simplify[Dot[fContravariant, {ea, eb, ec}]] ;\n",
    "fProjected = Simplify[Dot[{e1, e2, e3}, fCartesian]] ;\n",
    "\n",
    "Simplify@PowerExpand@Simplify[fWM - fProjected]"
   ]
  },
  {
   "cell_type": "code",
   "execution_count": 70,
   "id": "ba91a48b-7732-4caf-a888-6ee917c46a5d",
   "metadata": {},
   "outputs": [
    {
     "data": {
      "text/html": [
       "<div><pre style=\"&#102;&#111;&#110;&#116;&#45;&#102;&#97;&#109;&#105;&#108;&#121;&#58;&#32;&#34;&#67;&#111;&#117;&#114;&#105;&#101;&#114;&#32;&#78;&#101;&#119;&#34;&#44;&#67;&#111;&#117;&#114;&#105;&#101;&#114;&#44;&#109;&#111;&#110;&#111;&#115;&#112;&#97;&#99;&#101;&#59;\">&#48;</pre></div>"
      ],
      "text/plain": [
       "0"
      ]
     },
     "execution_count": 71,
     "metadata": {
      "text/html": [],
      "text/plain": []
     },
     "output_type": "execute_result"
    }
   ],
   "source": [
    "(* Divergence *)\n",
    "\n",
    "Simplify@PowerExpand@Simplify[Div[fChart, coordinates, chart] - div[sqrt][{fA, fB, fC}, coordinates]]"
   ]
  },
  {
   "cell_type": "code",
   "execution_count": 72,
   "id": "da7a4ea3-c059-45fc-94a5-e94d806ad089",
   "metadata": {},
   "outputs": [
    {
     "data": {
      "text/html": [
       "<div><pre style=\"&#102;&#111;&#110;&#116;&#45;&#102;&#97;&#109;&#105;&#108;&#121;&#58;&#32;&#34;&#67;&#111;&#117;&#114;&#105;&#101;&#114;&#32;&#78;&#101;&#119;&#34;&#44;&#67;&#111;&#117;&#114;&#105;&#101;&#114;&#44;&#109;&#111;&#110;&#111;&#115;&#112;&#97;&#99;&#101;&#59;\">&#123;&#48;&#44;&#32;&#48;&#44;&#32;&#48;&#125;</pre></div>"
      ],
      "text/plain": [
       "{0, 0, 0}"
      ]
     },
     "execution_count": 77,
     "metadata": {
      "text/html": [],
      "text/plain": []
     },
     "output_type": "execute_result"
    }
   ],
   "source": [
    "(* Curl *)\n",
    "\n",
    "fWM = Curl[fChart, coordinates, chart] ;\n",
    "\n",
    "fContravariant = curl[sqrt][{fa, fb, fc}, coordinates] ;\n",
    "fCartesian = Simplify[Dot[fContravariant, {ea, eb, ec}]] ;\n",
    "fProjected = Simplify[Dot[{e1, e2, e3}, fCartesian]] ;\n",
    "\n",
    "Simplify@PowerExpand@Simplify[fWM - fProjected]"
   ]
  },
  {
   "cell_type": "code",
   "execution_count": 78,
   "id": "6dcf2ddf-5c5a-48db-a46d-ea68fc233cc6",
   "metadata": {},
   "outputs": [
    {
     "data": {
      "text/html": [
       "<div><pre style=\"&#102;&#111;&#110;&#116;&#45;&#102;&#97;&#109;&#105;&#108;&#121;&#58;&#32;&#34;&#67;&#111;&#117;&#114;&#105;&#101;&#114;&#32;&#78;&#101;&#119;&#34;&#44;&#67;&#111;&#117;&#114;&#105;&#101;&#114;&#44;&#109;&#111;&#110;&#111;&#115;&#112;&#97;&#99;&#101;&#59;\">&#48;</pre></div>"
      ],
      "text/plain": [
       "0"
      ]
     },
     "execution_count": 79,
     "metadata": {
      "text/html": [],
      "text/plain": []
     },
     "output_type": "execute_result"
    }
   ],
   "source": [
    "(* Laplacian *)\n",
    "\n",
    "Simplify@PowerExpand@Simplify[Laplacian[f @@ coordinates, coordinates, chart] - laplacian[sqrt, inverse][f @@ coordinates, coordinates]]"
   ]
  }
 ],
 "metadata": {
  "colab": {
   "collapsed_sections": [
    "myt0_gMIOq7b",
    "5d97819c"
   ],
   "name": "03_frequency.ipynb",
   "provenance": []
  },
  "kernelspec": {
   "display_name": "Python 3 (ipykernel)",
   "language": "python",
   "name": "python3"
  },
  "language_info": {
   "codemirror_mode": {
    "name": "ipython",
    "version": 3
   },
   "file_extension": ".py",
   "mimetype": "text/x-python",
   "name": "python",
   "nbconvert_exporter": "python",
   "pygments_lexer": "ipython3",
   "version": "3.12.1"
  },
  "latex_envs": {
   "LaTeX_envs_menu_present": true,
   "autoclose": false,
   "autocomplete": true,
   "bibliofile": "biblio.bib",
   "cite_by": "apalike",
   "current_citInitial": 1,
   "eqLabelWithNumbers": true,
   "eqNumInitial": 1,
   "hotkeys": {
    "equation": "Ctrl-E",
    "itemize": "Ctrl-I"
   },
   "labels_anchors": false,
   "latex_user_defs": false,
   "report_style_numbering": false,
   "user_envs_cfg": false
  }
 },
 "nbformat": 4,
 "nbformat_minor": 5
}
