{
 "cells": [
  {
   "cell_type": "markdown",
   "id": "02082354-8ab4-40ff-b244-8ec986ff10d4",
   "metadata": {},
   "source": [
    "# WM-01: Differentiable operators in 3D curvilinear orthogonal coordinates"
   ]
  },
  {
   "cell_type": "code",
   "execution_count": 1,
   "id": "fdb4b3d6-ac57-4508-80ba-dcc5e32c8617",
   "metadata": {},
   "outputs": [],
   "source": [
    "(* In this example differentiable operations in 3D curvilinear orthogonal coordinates are computed *)\n",
    "(* Mathematica already supports different chart types to be used with build-in functions like Grad, Div, Curl and Laplacian *)\n",
    "(* For operations on vectors, components are assumed to be presented in the corresponding coordinate chart *)"
   ]
  },
  {
   "cell_type": "code",
   "execution_count": 4,
   "id": "e7e326fd-de5e-48ca-85fd-154a9d3570f0",
   "metadata": {},
   "outputs": [],
   "source": [
    "(* Differential operations in curvilinear orthogonal coordinates *)\n",
    "\n",
    "(* Gradient *)\n",
    "(* Input  : scalar *)\n",
    "(* Output : vector *)\n",
    "\n",
    "ClearAll[grad] ;\n",
    "grad[{h1_, h2_, h3_}, {q1_, q2_, q3_}][f_] := {1/h1*D[f, q1], 1/h2*D[f, q2], 1/h3*D[f, q3]} ;\n",
    "\n",
    "(* Divergence *)\n",
    "(* Input  : vector *)\n",
    "(* Output : scalar *)\n",
    "\n",
    "ClearAll[div] ;\n",
    "div[{h1_, h2_, h3_}, {q1_, q2_, q3_}][{f1_, f2_, f3_}] := 1/(h1*h2*h3)*(D[f1 h2 h3, q1] + D[h1 f2 h3, q2] + D[h1 h2 f3, q3])\n",
    "\n",
    "(* Curl *)\n",
    "(* Input  : vector *)\n",
    "(* Output : vector *)\n",
    "\n",
    "ClearAll[curl] ;\n",
    "curl[{h1_, h2_, h3_}, {q1_, q2_, q3_}][{f1_, f2_, f3_}] := {1/(h2*h3)*(D[h3 f3, q2] - D[h2 f2, q3]), 1/(h1*h3)*(D[h1 f1, q3] - D[h3 f3, q1]), 1/(h1*h2)*(D[h2 f2, q1] - D[h1 f1, q2])} ;\n",
    "\n",
    "(* Laplacian *)\n",
    "(* Input  : scalar *)\n",
    "(* Output : scalar *)\n",
    "\n",
    "ClearAll[laplacian] ;\n",
    "laplacian[{h1_, h2_, h3_}, {q1_, q2_, q3_}][f_] := div[{h1, h2, h3}, {q1, q2, q3}][grad[{h1, h2, h3}, {q1, q2, q3}][f]] ;"
   ]
  },
  {
   "cell_type": "code",
   "execution_count": 25,
   "id": "ff3a4ec6-536a-4588-9803-a1951234ed70",
   "metadata": {},
   "outputs": [
    {
     "data": {
      "text/html": [
       "<style>\n",
       "\t\t\t\t\t\t\t\t\t\t\t\t\t.grid-container {\n",
       "\t\t\t\t\t\t\t\t\t\t\t\t\t\tdisplay: inline-grid;\n",
       "\t\t\t\t\t\t\t\t\t\t\t\t\t\tgrid-template-columns: auto;\n",
       "\t\t\t\t\t\t\t\t\t\t\t\t\t}\n",
       "\t\t\t\t\t\t\t\t\t\t\t\t</style>\n",
       "\n",
       "\t\t\t\t\t\t\t\t\t\t\t\t<div><div class=\"grid-container\"><div class=\"grid-item\"><img alt=\"Output\" src=\"data:image/png;base64,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\"></div><div class=\"grid-item\"><img alt=\"Output\" src=\"data:image/png;base64,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\"></div><div class=\"grid-item\"><img alt=\"Output\" src=\"data:image/png;base64,iVBORw0KGgoAAAANSUhEUgAAAFUAAAAWCAIAAAA+W0fPAAAAzHpUWHRSYXcgcHJvZmlsZSB0eXBlIGV4aWYAAHjabU/bDQMhDPtnio6QBzgwDtdSqRt0/CYHuoqqlkgcxwmQxvv1TLeAMKVcrKIB5MgtN+lOKk3MzNTOeKKU1eNdT4yld5fKt4Gx9GPXbfml/iwimUTjBuea18BapDJ17rM+ll96rfsiow2g6+l/66wmKGDLHrOQGZrzmpx6QhEqhifugBsZD6F89zxg5mOwcGiPwYAM290jQV14xBc0TtHu2WaUUNQ5e9WdsxxXN77zARRhWokifdLPAAAACXBIWXMAAA7EAAAOxAGVKw4bAAAAPHRFWHRTb2Z0d2FyZQBDcmVhdGVkIHdpdGggdGhlIFdvbGZyYW0gTGFuZ3VhZ2UgOiB3d3cud29sZnJhbS5jb21coqaFAAAAIXRFWHRDcmVhdGlvbiBUaW1lADIwMjU6MDc6MDcgMjM6MTA6MjGLdYz2AAACyElEQVRYhe2YvWvqYBTGEyOi1Ao2agWXQnFQFESXInRwjpQqduxUKrRdRJw07q5Oov9CKUGcCqWiDm6ttOii0MGQlvpZDBYVkzsINnn1Um+8moI9W56c88t5Tj7el8Asy0IbHBKxGxA5fv1vdizkn6bpy8tLjUazvb3t8Xjq9fqSV/1BQJYf5XIZx/GnpyeuiGHY/v7+zc3N7e3t4eGh0Wjs9/vsErFmYKfTCYVChUJhtpDnn6Kok5OTRqPBFfP5PAzD04l8fHygKBqPxwX3KgqQpulgMJjL5YBa3vP/8PDg9Xo1Gg1XzGQyDofDarVODlUqlc/nS6fTgp9VUYBbW1sXFxe5XA6o5fkfjUZSqRTIKJfLNpsNgqDn5+dsNgtBkM1mq1QqgtsVCyiVSgeDASh+S+90OpPRut1ukiQpikJRtN1uC273RwF5/hmGQRDkb6l2u10ul6tUKvY/bRnXDEQQhGEYQPzyX6/X7+/vo9EokIGiaKvVgiCIIIiJ0mq1UBQV3KVYQIPB8P7+XqlUzGbzVPx6/1OplF6v393dBcosFkupVOIqpVJp+rEREGIBJRKJy+XCcZyncheDRCIxu0IUi0UYhh8fHyeH7XZbrVYnEgkgLRaLnZ6evr29fbtciQXsdrt+vx8Qef4Jgri+vp69wPHx8d7eHkEQd3d3TqfTZDJ9fn5yE0iSnEwzEAh8264oQJZlX15eIpEIIC7kn6bpq6urnZ0dpVLp8XhIkgQShsPhwcEBDMMYhi3S7vqB7DL+Fwy/3392dia4fNXAuf55+x+tVktRlLCPUK/XS6fTGIYJK18DkKIonU4HqtxhjMfj8/PzQCBQrVb/abS1Ws3pdB4dHTEMs+xtWgGw1+vhOO7z+ZrNJnAKZme2CjRNIwiiUCgWH20ymXx9fQ2HwzKZbMm7tArgeDzudrtztxhz/G9UbPr/nz8S1wEyX/uqXwAAAABJRU5ErkJggg==\"></div><div class=\"grid-item\"><img alt=\"Output\" src=\"data:image/png;base64,iVBORw0KGgoAAAANSUhEUgAAAAsAAAAWCAIAAACZhvE0AAAAynpUWHRSYXcgcHJvZmlsZSB0eXBlIGV4aWYAAHjabU/bDQMhDPtnio6QBzgwDnelUjfo+E0KuoqqloiNcQKk8Xo+0i0gTCkXq2gAOXLLTbqLShOTmdqnThyLefcTY/ndrfI9wFj+sfu28lJ/BpFMoXGDa82rYQ1SmT739aCVl17rPshoA+h6+t99VhMUsGWvWcgMzXVNLp1QhIrhgRPwIOMulE/nATNvg0VCezQGZNieHgnqxj2+oLGKdmebVcJR1+y77prluE7jO29PRFqxvSI4qAAAAAlwSFlzAAAOxAAADsQBlSsOGwAAADx0RVh0U29mdHdhcmUAQ3JlYXRlZCB3aXRoIHRoZSBXb2xmcmFtIExhbmd1YWdlIDogd3d3LndvbGZyYW0uY29tXKKmhQAAACF0RVh0Q3JlYXRpb24gVGltZQAyMDI1OjA3OjA3IDIzOjEwOjIxi3WM9gAAASZJREFUKJHNkj+Kg1AQxueFFCmioC8HEMQiEEEklZAmrRZ6CkFrD2LlKcQ6IAg2lhEluUDEToMgsZwt3hLdJs1usV81zPyYPx9DEBE+avW5/LfEOI6e5+12O47jHMd5PB4zgoiIaJqmLMtxHF8ul9PppCjK6/ViJUDEPM8JIVVVsdQwDJTSMAxnIgiC4/GIC7muez6fWbwCgNvtpmkaANR1nWUZAGiadr/f2RprAHg+n6qqAoBlWU3TtG1LKe37fibe0nV9s9nwPL80eg0AlNKu6wAgSRKW7bqOUjr7cTgcyrJcNivLks399qMoCkLI9Xply/d9LwhCFEXztYho27YkSUmSpGlqGMZ+v5+m6QcxjqPv+6Iobrdbx3Gapnl7Q/7Xf/yK+AI6ZMNPKI/76AAAAABJRU5ErkJggg==\"></div><div class=\"grid-item\"><img alt=\"Output\" src=\"data:image/png;base64,iVBORw0KGgoAAAANSUhEUgAAAFUAAAAWCAIAAAA+W0fPAAAAzHpUWHRSYXcgcHJvZmlsZSB0eXBlIGV4aWYAAHjabU/bDQMhDPtnio6QBzgwDtdSqRt0/CYHuoqqlkgcxwmQxvv1TLeAMKVcrKIB5MgtN+lOKk3MzNTOeKKU1eNdT4yld5fKt4Gx9GPXbfml/iwimUTjBuea18BapDJ17rM+ll96rfsiow2g6+l/66wmKGDLHrOQGZrzmpx6QhEqhifugBsZD6F89zxg5mOwcGiPwYAM290jQV14xBc0TtHu2WaUUNQ5e9WdsxxXN77zARRhWokifdLPAAAACXBIWXMAAA7EAAAOxAGVKw4bAAAAPHRFWHRTb2Z0d2FyZQBDcmVhdGVkIHdpdGggdGhlIFdvbGZyYW0gTGFuZ3VhZ2UgOiB3d3cud29sZnJhbS5jb21coqaFAAAAIXRFWHRDcmVhdGlvbiBUaW1lADIwMjU6MDc6MDcgMjM6MTA6MjGLdYz2AAACyElEQVRYhe2YvWvqYBTGEyOi1Ao2agWXQnFQFESXInRwjpQqduxUKrRdRJw07q5Oov9CKUGcCqWiDm6ttOii0MGQlvpZDBYVkzsINnn1Um+8moI9W56c88t5Tj7el8Asy0IbHBKxGxA5fv1vdizkn6bpy8tLjUazvb3t8Xjq9fqSV/1BQJYf5XIZx/GnpyeuiGHY/v7+zc3N7e3t4eGh0Wjs9/vsErFmYKfTCYVChUJhtpDnn6Kok5OTRqPBFfP5PAzD04l8fHygKBqPxwX3KgqQpulgMJjL5YBa3vP/8PDg9Xo1Gg1XzGQyDofDarVODlUqlc/nS6fTgp9VUYBbW1sXFxe5XA6o5fkfjUZSqRTIKJfLNpsNgqDn5+dsNgtBkM1mq1QqgtsVCyiVSgeDASh+S+90OpPRut1ukiQpikJRtN1uC273RwF5/hmGQRDkb6l2u10ul6tUKvY/bRnXDEQQhGEYQPzyX6/X7+/vo9EokIGiaKvVgiCIIIiJ0mq1UBQV3KVYQIPB8P7+XqlUzGbzVPx6/1OplF6v393dBcosFkupVOIqpVJp+rEREGIBJRKJy+XCcZyncheDRCIxu0IUi0UYhh8fHyeH7XZbrVYnEgkgLRaLnZ6evr29fbtciQXsdrt+vx8Qef4Jgri+vp69wPHx8d7eHkEQd3d3TqfTZDJ9fn5yE0iSnEwzEAh8264oQJZlX15eIpEIIC7kn6bpq6urnZ0dpVLp8XhIkgQShsPhwcEBDMMYhi3S7vqB7DL+Fwy/3392dia4fNXAuf55+x+tVktRlLCPUK/XS6fTGIYJK18DkKIonU4HqtxhjMfj8/PzQCBQrVb/abS1Ws3pdB4dHTEMs+xtWgGw1+vhOO7z+ZrNJnAKZme2CjRNIwiiUCgWH20ymXx9fQ2HwzKZbMm7tArgeDzudrtztxhz/G9UbPr/nz8S1wEyX/uqXwAAAABJRU5ErkJggg==\"></div><div class=\"grid-item\"><img alt=\"Output\" src=\"data:image/png;base64,iVBORw0KGgoAAAANSUhEUgAAAAsAAAAWCAIAAACZhvE0AAAAynpUWHRSYXcgcHJvZmlsZSB0eXBlIGV4aWYAAHjabU/bDQMhDPtnio6QBzgwDnelUjfo+E0KuoqqloiNcQKk8Xo+0i0gTCkXq2gAOXLLTbqLShOTmdqnThyLefcTY/ndrfI9wFj+sfu28lJ/BpFMoXGDa82rYQ1SmT739aCVl17rPshoA+h6+t99VhMUsGWvWcgMzXVNLp1QhIrhgRPwIOMulE/nATNvg0VCezQGZNieHgnqxj2+oLGKdmebVcJR1+y77prluE7jO29PRFqxvSI4qAAAAAlwSFlzAAAOxAAADsQBlSsOGwAAADx0RVh0U29mdHdhcmUAQ3JlYXRlZCB3aXRoIHRoZSBXb2xmcmFtIExhbmd1YWdlIDogd3d3LndvbGZyYW0uY29tXKKmhQAAACF0RVh0Q3JlYXRpb24gVGltZQAyMDI1OjA3OjA3IDIzOjEwOjIxi3WM9gAAASZJREFUKJHNkj+Kg1AQxueFFCmioC8HEMQiEEEklZAmrRZ6CkFrD2LlKcQ6IAg2lhEluUDEToMgsZwt3hLdJs1usV81zPyYPx9DEBE+avW5/LfEOI6e5+12O47jHMd5PB4zgoiIaJqmLMtxHF8ul9PppCjK6/ViJUDEPM8JIVVVsdQwDJTSMAxnIgiC4/GIC7muez6fWbwCgNvtpmkaANR1nWUZAGiadr/f2RprAHg+n6qqAoBlWU3TtG1LKe37fibe0nV9s9nwPL80eg0AlNKu6wAgSRKW7bqOUjr7cTgcyrJcNivLks399qMoCkLI9Xply/d9LwhCFEXztYho27YkSUmSpGlqGMZ+v5+m6QcxjqPv+6Iobrdbx3Gapnl7Q/7Xf/yK+AI6ZMNPKI/76AAAAABJRU5ErkJggg==\"></div></div></div>"
      ],
      "text/plain": [
       "                  2               2        2\n",
       "{{1, 0, 0}, {0, q1 , 0}, {0, 0, q1  Sin[q2] }}\n",
       "                  2               2        2\n",
       "{{1, 0, 0}, {0, q1 , 0}, {0, 0, q1  Sin[q2] }}\n",
       "{0, 0, 0}\n",
       "0\n",
       "{0, 0, 0}\n",
       "0"
      ]
     },
     "execution_count": 41,
     "metadata": {
      "text/html": [],
      "text/plain": []
     },
     "output_type": "execute_result"
    }
   ],
   "source": [
    "(* Test against WM build-in charts *)\n",
    "\n",
    "(* Select build-in chart *)\n",
    "\n",
    "chart = \"Hyperspherical\" ;\n",
    "\n",
    "(* Coordinates *)\n",
    "\n",
    "coordinates = {q1, q2, q3} ;\n",
    "\n",
    "(* Raduis vector *)\n",
    "\n",
    "radius = CoordinateTransform[chart -> \"Cartesian\", coordinates] ;\n",
    "\n",
    "(* Basis *)\n",
    "\n",
    "basis = Transpose[D[radius, {coordinates}]] ;\n",
    "\n",
    "(* Metric tensor *)\n",
    "\n",
    "metric = Simplify[Outer[Dot, basis, basis, 1]] ;\n",
    "\n",
    "(* Scales *)\n",
    "\n",
    "scales = Simplify[Sqrt[Diagonal[metric]]] ;\n",
    "\n",
    "(* Adjust scales sign to match WM convension (handedness) *)\n",
    "\n",
    "scales = Simplify[scales*(Det[basis]/Times @@ scales)] ;\n",
    "\n",
    "(* Compare metric tensors *)\n",
    "\n",
    "Simplify@PowerExpand@Simplify[metric]\n",
    "Simplify@PowerExpand@Simplify[CoordinateChartData[chart, \"Metric\", coordinates]]\n",
    "\n",
    "(* Compare gradient *)\n",
    "\n",
    "ref = Grad[f @@ coordinates, coordinates, chart] ;\n",
    "res = grad[scales, coordinates][f @@ coordinates] ;\n",
    "Simplify@PowerExpand@Simplify[ref - res]\n",
    "\n",
    "(* Compare divergence *)\n",
    "\n",
    "ref = Div[Through[{f1, f2, f3} @@ coordinates], coordinates, chart] ;\n",
    "res = div[scales, coordinates][Through[{f1, f2, f3} @@ coordinates]] ;\n",
    "Simplify@PowerExpand@Simplify[ref - res]\n",
    "\n",
    "(* Compare curl *)\n",
    "\n",
    "ref = Curl[Through[{f1, f2, f3} @@ coordinates], coordinates, chart] ;\n",
    "res = curl[scales, coordinates][Through[{f1, f2, f3} @@ coordinates]] ;\n",
    "Simplify@PowerExpand@Simplify[ref - res]\n",
    "\n",
    "(* Compare laplacian *)\n",
    "\n",
    "ref = Laplacian[f @@ coordinates, coordinates, chart] ;\n",
    "res = laplacian[scales, coordinates][f @@ coordinates] ;\n",
    "Simplify@PowerExpand@Simplify[ref - res]"
   ]
  }
 ],
 "metadata": {
  "colab": {
   "collapsed_sections": [
    "myt0_gMIOq7b",
    "5d97819c"
   ],
   "name": "03_frequency.ipynb",
   "provenance": []
  },
  "kernelspec": {
   "display_name": "Python 3 (ipykernel)",
   "language": "python",
   "name": "python3"
  },
  "language_info": {
   "codemirror_mode": {
    "name": "ipython",
    "version": 3
   },
   "file_extension": ".py",
   "mimetype": "text/x-python",
   "name": "python",
   "nbconvert_exporter": "python",
   "pygments_lexer": "ipython3",
   "version": "3.12.1"
  },
  "latex_envs": {
   "LaTeX_envs_menu_present": true,
   "autoclose": false,
   "autocomplete": true,
   "bibliofile": "biblio.bib",
   "cite_by": "apalike",
   "current_citInitial": 1,
   "eqLabelWithNumbers": true,
   "eqNumInitial": 1,
   "hotkeys": {
    "equation": "Ctrl-E",
    "itemize": "Ctrl-I"
   },
   "labels_anchors": false,
   "latex_user_defs": false,
   "report_style_numbering": false,
   "user_envs_cfg": false
  }
 },
 "nbformat": 4,
 "nbformat_minor": 5
}
