{
 "cells": [
  {
   "attachments": {},
   "cell_type": "markdown",
   "id": "556562f3-8ece-4517-8c93-ee5e2fc29131",
   "metadata": {},
   "source": [
    "# Example-08: Dipole element factory (body + cylindrical multipole)"
   ]
  },
  {
   "cell_type": "code",
   "execution_count": 1,
   "id": "dfdebb91-400c-4936-b362-ea38398ff159",
   "metadata": {},
   "outputs": [],
   "source": [
    "# In this example dipole factory is illustrated with addidional cylindrical multipoles"
   ]
  },
  {
   "cell_type": "code",
   "execution_count": 2,
   "id": "e6b456d4-2f31-4628-b811-b76c928eb167",
   "metadata": {},
   "outputs": [],
   "source": [
    "import jax\n",
    "from jax import jit\n",
    "from jax import jacrev\n",
    "\n",
    "from elementary.util import ptc\n",
    "from elementary.util import beta\n",
    "from elementary.dipole import dipole_factory\n",
    "\n",
    "jax.numpy.set_printoptions(linewidth=256, precision=12)"
   ]
  },
  {
   "cell_type": "code",
   "execution_count": 3,
   "id": "43a1a0d4-7876-4b8b-9de8-20802e494b95",
   "metadata": {},
   "outputs": [],
   "source": [
    "# Set data type\n",
    "\n",
    "jax.config.update(\"jax_enable_x64\", True)"
   ]
  },
  {
   "cell_type": "code",
   "execution_count": 4,
   "id": "5501301a-8041-43bd-b2f5-cf68a8d0abac",
   "metadata": {},
   "outputs": [],
   "source": [
    "# Set device\n",
    "\n",
    "device, *_ = jax.devices('cpu')\n",
    "jax.config.update('jax_default_device', device)"
   ]
  },
  {
   "cell_type": "code",
   "execution_count": 5,
   "id": "f4373270-98c9-4e1f-9d05-ae573092782c",
   "metadata": {},
   "outputs": [],
   "source": [
    "# Set initial condition\n",
    "\n",
    "(q_x, q_y, q_s) = qs = jax.numpy.array([-0.01, 0.005, 0.001])\n",
    "(p_x, p_y, p_s) = ps = jax.numpy.array([0.001, 0.001, -0.0001])\n",
    "x = jax.numpy.hstack([qs, ps])"
   ]
  },
  {
   "cell_type": "code",
   "execution_count": 6,
   "id": "4d1bf598-e110-432a-9d95-8cc73bc51c09",
   "metadata": {},
   "outputs": [],
   "source": [
    "# Define generic dipole element\n",
    "\n",
    "gamma = 10**6\n",
    "element = jit(dipole_factory(multipole=True, beta=beta(gamma), gamma=gamma, order=2**1, iterations=200, settings=dict(ns=2**1)))"
   ]
  },
  {
   "cell_type": "code",
   "execution_count": 7,
   "id": "002697fb-e3c4-4ab3-be2b-b5f4457457fa",
   "metadata": {},
   "outputs": [
    {
     "name": "stdout",
     "output_type": "stream",
     "text": [
      "[-0.017200420755 -0.003042779236  0.00151939261  -0.017822768068 -0.015620313086 -0.0001        ]\n",
      "[-0.017200420755 -0.003042779236  0.00151939261  -0.017822768068 -0.015620313086 -0.0001        ]\n",
      "True\n"
     ]
    }
   ],
   "source": [
    "# Compare with PTC\n",
    "\n",
    "length = jax.numpy.float64(1.0)\n",
    "angle = jax.numpy.float64(0.05)\n",
    "\n",
    "kq_n = jax.numpy.float64(-2.0)\n",
    "kq_s = jax.numpy.float64(+1.5)\n",
    "ks_n = jax.numpy.float64(-50.0)\n",
    "ks_s = jax.numpy.float64(+75.0)\n",
    "ko_n = jax.numpy.float64(-100.0)\n",
    "ko_s = jax.numpy.float64(+500.0)\n",
    "\n",
    "print(res := element(x, length, angle, kq_n, kq_s, ks_n, ks_s, ko_n, ko_s))\n",
    "print(ref := ptc(x, 'sbend', {'l': float(length), 'angle': float(angle), 'knl': f'{{0.0,{float(kq_n*length)}, {float(ks_n*length)}, {float(ko_n*length)}}}', 'ksl': f'{{0.0,{float(kq_s*length)}, {float(ks_s*length)}, {float(ko_s*length)}}}', 'kill_ent_fringe': 'true', 'kill_exi_fringe': 'true'}, gamma=gamma))\n",
    "print(jax.numpy.allclose(res, ref))"
   ]
  }
 ],
 "metadata": {
  "colab": {
   "collapsed_sections": [
    "myt0_gMIOq7b",
    "5d97819c"
   ],
   "name": "03_frequency.ipynb",
   "provenance": []
  },
  "kernelspec": {
   "display_name": "Python 3 (ipykernel)",
   "language": "python",
   "name": "python3"
  },
  "language_info": {
   "codemirror_mode": {
    "name": "ipython",
    "version": 3
   },
   "file_extension": ".py",
   "mimetype": "text/x-python",
   "name": "python",
   "nbconvert_exporter": "python",
   "pygments_lexer": "ipython3",
   "version": "3.12.1"
  },
  "latex_envs": {
   "LaTeX_envs_menu_present": true,
   "autoclose": false,
   "autocomplete": true,
   "bibliofile": "biblio.bib",
   "cite_by": "apalike",
   "current_citInitial": 1,
   "eqLabelWithNumbers": true,
   "eqNumInitial": 1,
   "hotkeys": {
    "equation": "Ctrl-E",
    "itemize": "Ctrl-I"
   },
   "labels_anchors": false,
   "latex_user_defs": false,
   "report_style_numbering": false,
   "user_envs_cfg": false
  }
 },
 "nbformat": 4,
 "nbformat_minor": 5
}
