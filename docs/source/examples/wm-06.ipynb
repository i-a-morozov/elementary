{
 "cells": [
  {
   "cell_type": "markdown",
   "id": "1b97cdc9-bf15-4022-b0bc-6df3702b9f03",
   "metadata": {},
   "source": [
    "# WM-06: Vector potential and magnetic field in curvilinear coordinates (dipole magnetic field)"
   ]
  },
  {
   "cell_type": "code",
   "execution_count": 1,
   "id": "047d90f3-522b-4115-98a7-f23f8636f94e",
   "metadata": {},
   "outputs": [],
   "source": [
    "(* In this example vector potential is derived for the sector dipole magnet *)"
   ]
  },
  {
   "cell_type": "code",
   "execution_count": 2,
   "id": "3907ab7d-5d6a-49dd-be66-6d262e996533",
   "metadata": {},
   "outputs": [],
   "source": [
    "(* Differential operations in curvilinear coordinates *)\n",
    "\n",
    "(* Gradient *)\n",
    "(* Input  : scalar *)\n",
    "(* Output : covariant vector *)\n",
    "\n",
    "ClearAll[grad] ;\n",
    "grad[sqrt_][scalar_, coordinates_] :=  D[scalar, {coordinates}] ;\n",
    "\n",
    "(* Divergence *)\n",
    "(* Input  : contravariant vector *)\n",
    "(* Output : scalar *)\n",
    "\n",
    "ClearAll[div] ;\n",
    "div[sqrt_][vector_, coordinates_] := 1/sqrt*Div[sqrt*vector, coordinates] ;\n",
    "\n",
    "(* Curl *)\n",
    "(* Input  : covariant vector *)\n",
    "(* Output : contravariant vector *)\n",
    "\n",
    "ClearAll[curl] ;\n",
    "curl[sqrt_][vector_, coordinates_] := 1/sqrt*Curl[vector, coordinates] ;\n",
    "\n",
    "(* Laplacian *)\n",
    "(* Input  : scalar *)\n",
    "(* Output : scalar *)\n",
    "\n",
    "ClearAll[laplacian] ;\n",
    "laplacian[sqrt_, inverse_][scalar_, coordinates_] := div[sqrt][inverse . grad[sqrt][scalar, coordinates], coordinates] ;"
   ]
  },
  {
   "cell_type": "code",
   "execution_count": 23,
   "id": "65377ac1-b739-41a2-bc18-e78344f15f5c",
   "metadata": {},
   "outputs": [],
   "source": [
    "(* Define field and vector potential in (qx, qy, qz) cartesian coordinates *)\n",
    "(* Dipole  (cartesian) *)\n",
    "\n",
    "{aqx, aqy, aqz} = {0, 0,  -b qx} ;\n",
    "{bqx, bqy, bqz} = {0, b, 0} ;"
   ]
  },
  {
   "cell_type": "code",
   "execution_count": 27,
   "id": "af43298f-bb69-494e-93b6-495350931583",
   "metadata": {},
   "outputs": [
    {
     "data": {
      "text/html": [
       "<style>\n",
       "\t\t\t\t\t\t\t\t\t\t\t\t\t.grid-container {\n",
       "\t\t\t\t\t\t\t\t\t\t\t\t\t\tdisplay: inline-grid;\n",
       "\t\t\t\t\t\t\t\t\t\t\t\t\t\tgrid-template-columns: auto;\n",
       "\t\t\t\t\t\t\t\t\t\t\t\t\t}\n",
       "\t\t\t\t\t\t\t\t\t\t\t\t</style>\n",
       "\n",
       "\t\t\t\t\t\t\t\t\t\t\t\t<div><div class=\"grid-container\"><div class=\"grid-item\"><pre style=\"&#102;&#111;&#110;&#116;&#45;&#102;&#97;&#109;&#105;&#108;&#121;&#58;&#32;&#34;&#67;&#111;&#117;&#114;&#105;&#101;&#114;&#32;&#78;&#101;&#119;&#34;&#44;&#67;&#111;&#117;&#114;&#105;&#101;&#114;&#44;&#109;&#111;&#110;&#111;&#115;&#112;&#97;&#99;&#101;&#59;\">&#48;</pre></div><div class=\"grid-item\"><pre style=\"&#102;&#111;&#110;&#116;&#45;&#102;&#97;&#109;&#105;&#108;&#121;&#58;&#32;&#34;&#67;&#111;&#117;&#114;&#105;&#101;&#114;&#32;&#78;&#101;&#119;&#34;&#44;&#67;&#111;&#117;&#114;&#105;&#101;&#114;&#44;&#109;&#111;&#110;&#111;&#115;&#112;&#97;&#99;&#101;&#59;\">&#123;&#48;&#44;&#32;&#48;&#44;&#32;&#48;&#125;</pre></div><div class=\"grid-item\"><pre style=\"&#102;&#111;&#110;&#116;&#45;&#102;&#97;&#109;&#105;&#108;&#121;&#58;&#32;&#34;&#67;&#111;&#117;&#114;&#105;&#101;&#114;&#32;&#78;&#101;&#119;&#34;&#44;&#67;&#111;&#117;&#114;&#105;&#101;&#114;&#44;&#109;&#111;&#110;&#111;&#115;&#112;&#97;&#99;&#101;&#59;\">&#48;</pre></div></div></div>"
      ],
      "text/plain": [
       "0\n",
       "{0, 0, 0}\n",
       "0"
      ]
     },
     "execution_count": 29,
     "metadata": {
      "text/html": [],
      "text/plain": []
     },
     "output_type": "execute_result"
    }
   ],
   "source": [
    "(* Test *)\n",
    "(* Note, laplasian of the last vector field component being zero is a special case for this transverse field in cartesian frame *)\n",
    "\n",
    "Simplify[Div[{bqx, bqy, bqz}, {qx, qy, qz}]]\n",
    "Simplify[{bqx, bqy, bqz} - Curl[{aqx, aqy, aqz}, {qx, qy, qz}]]\n",
    "Simplify[Laplacian[Last[{aqx, aqy, aqz}], {qx, qy, qz}]]"
   ]
  },
  {
   "cell_type": "code",
   "execution_count": 32,
   "id": "327bc3e8-9299-42ce-968f-d152589159e8",
   "metadata": {},
   "outputs": [
    {
     "data": {
      "text/html": [
       "<div><pre style=\"&#102;&#111;&#110;&#116;&#45;&#102;&#97;&#109;&#105;&#108;&#121;&#58;&#32;&#34;&#67;&#111;&#117;&#114;&#105;&#101;&#114;&#32;&#78;&#101;&#119;&#34;&#44;&#67;&#111;&#117;&#114;&#105;&#101;&#114;&#44;&#109;&#111;&#110;&#111;&#115;&#112;&#97;&#99;&#101;&#59;\">&#123;&#48;&#44;&#32;&#48;&#44;&#32;&#48;&#125;</pre></div>"
      ],
      "text/plain": [
       "{0, 0, 0}"
      ]
     },
     "execution_count": 43,
     "metadata": {
      "text/html": [],
      "text/plain": []
     },
     "output_type": "execute_result"
    }
   ],
   "source": [
    "(* Define the reference curve *)\n",
    "(* Note, the reference curve should be parameterized by its arclength *)\n",
    "\n",
    "$Assumptions = {r > 0, r + x > 0, r + y > 0} ;\n",
    "\n",
    "ClearAll[rx] ;\n",
    "ClearAll[ry] ;\n",
    "ClearAll[rz] ;\n",
    "\n",
    "(* Circle *)\n",
    "\n",
    "rx[s_] := r (1 - Cos[s/r])\n",
    "ry[s_] := 0\n",
    "rz[s_] := - r Sin[s/r] \n",
    "\n",
    "rxyz = {rx[s], ry[s], rz[s]} ;\n",
    "\n",
    "rxyz /. s -> 0"
   ]
  },
  {
   "cell_type": "code",
   "execution_count": 44,
   "id": "f363e9ad-02d1-4fa5-8ae0-cfe0091f8ad2",
   "metadata": {},
   "outputs": [
    {
     "data": {
      "text/html": [
       "<div><img alt=\"Output\" src=\"data:image/png;base64,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\"></div>"
      ],
      "text/plain": [
       "-Graphics3D-"
      ]
     },
     "execution_count": 45,
     "metadata": {
      "text/html": [],
      "text/plain": []
     },
     "output_type": "execute_result"
    }
   ],
   "source": [
    "(* Plot *)\n",
    "\n",
    "ParametricPlot3D[rxyz /. r -> 1, {s, 0, 25}, ImageSize -> Medium, Boxed -> False, Axes -> False, PlotStyle -> Black]"
   ]
  },
  {
   "cell_type": "code",
   "execution_count": 46,
   "id": "59e8433e-9d0f-4b81-85cc-7fdb2bf5b85e",
   "metadata": {},
   "outputs": [],
   "source": [
    "(* Compute Frenet Serret data for the reference curve *)\n",
    "(* Note, generic curve can be used with FrenetSerretSystem function *)\n",
    "\n",
    "{{curvature, torsion}, {tangent, normal, binormal}} = Simplify[FrenetSerretSystem[rxyz, s]] ;\n",
    "\n",
    "(* Accelerator reference frame convension (inward-pointing normal) *)\n",
    "\n",
    "normal = - normal ;\n",
    "binormal = Cross[tangent, normal] ;"
   ]
  },
  {
   "cell_type": "code",
   "execution_count": 52,
   "id": "81566071-30a7-444b-bb94-914ee7d3da1d",
   "metadata": {},
   "outputs": [
    {
     "data": {
      "text/html": [
       "<div><img alt=\"Output\" src=\"data:image/png;base64,iVBORw0KGgoAAAANSUhEUgAAAEAAAAApCAIAAAAK8LgbAAAAzHpUWHRSYXcgcHJvZmlsZSB0eXBlIGV4aWYAAHjabU/bDQMhDPtnio4QkuDAOFxLpW7Q8ZscqCeqWiJ2nAeQxvv1TLcAZ0parKIB5NCmjbuLShOTM7UzntBV8nzzE7fld7fKVcBY/rH7hslcfxYRTyFxg2tZV9paJDz93Gd+rH7ute6LjDbgevrfXMUYBdnUozKZobmuyaUTClMxPHEHvDHjwaR35wEzH4NFh/QYDPCwvXskiBuP+ILEKdKdbUYOR1yzVI8qxMe3Gt/5ABHnWpH+0nYiAAAACXBIWXMAAA7EAAAOxAGVKw4bAAAAPHRFWHRTb2Z0d2FyZQBDcmVhdGVkIHdpdGggdGhlIFdvbGZyYW0gTGFuZ3VhZ2UgOiB3d3cud29sZnJhbS5jb21coqaFAAAAIXRFWHRDcmVhdGlvbiBUaW1lADIwMjU6MDc6MDcgMjM6Mjg6NDAoPEnZAAAEMUlEQVRYhe2YzUsyXxTHr5ZvREaMFbSwiBaGvYhFiW2KKAIVDEyGqBZFSC3KNhbkH1ARBKFFGS2iRRQhErRQyUWQSUiGlAupRZkINQpmmDbls/BHT45pzlNTBr/PzjPn3Ps99+XMGUEMD16vd319vaOjAwDgdrtxxRJELsDD8vLy6upqJBLBFUUs/5C0xWIBWbMD5J9ewM/yfwI/za9PAFuFQqHQ3NxcMBhsbW2VSCQ/oimZsbGxSCQCw3BLSwv2GeZS9/T02O329Bf/R6oQiqLDw8NHR0cYe8IRQlGUQqHw+fzvWlkc5OTkqNVqg8GAsSccIQRBWCxWqiEQBHG5XAAAp9MJALDb7T6fj0wmC4VCAgS/Q2lp6fX1NcaYkEAsFksTb7FYuru7X3/CMAwAoNFoj4+PXyfyA5IV4mglZDJZ+gx/hGwpo6FQaGRkhMVi5efnd3V1JR+VVGRLAjAMG43GlZWVnZ0dBEHa2trC4XAmgfi6UYI4ODjY29s7PT2tqakBAAgEgoqKCp1ONzo6+mFsVuzA7u5ufX19XD0AgMlkymSy5Ir5LlmRwNnZGY/HAwA4nc74W5LH452fn2cSm3CEgsFgQUEBERLTEwgE4ssvFos9Ho/X64UgyO/3J3t+UEatVmtDQwNxQj+Ez+fT6XQmk5mqXsdisUgkQqPRXi3/JRCNRo1Go81m02q1yWEGg8HhcKSalcFgqFSqz+iGIAhBEACAXq+PWxAEgSAo2VOpVI6Pj09OTrLZ7IQETCbT7Ozs2toaiURKDmtubq6rq0s1PZn82YtUXV1tNpvfWhwOx+udfktjY+Ph4eHAwMBf/9e27uHhobe3NxAIfFX/OD093dfX5/P5PvS0Wq0kEunk5CT+0+/3FxYWLi0tJXtqtdqtra23loR2en9/X6fTfULzXzweT3yBlEplJv5SqbS8vFyv15vNZqFQWFVVFQ6Hk93kcjnGkrD7lZWVl5eXnzwPcYqLiwUCAYlEcrvdmfhvbGyIRKLBwUGpVFpSUmIymeh0erIbhULBWHIxj6PR6D+LxgxltVoVCsXz83Mm/nl5eRqNRqPR4J2IwBfZ/f29wWAQiUTETQGIS+Di4qKzs7OpqUkqlRI0RRyiEjCbze3t7dvb2+/W5S+EqG5UoVAQNDIGfDugVqvlcvnLy8v8/DyHw6FSqSwW6zs/KZPBvQPBYBCG4dvb24WFBTabfXV19W69+zawZRRF0fQBZrNZLBabTKbc3FwAAIfDIVBdIiiKUqlUjDHhCEEQdHNzk34UBoOh0+ni6r+Z4+NjLpeLMWLvgEQimZiYuLu7SzUKBEFFRUVfry4tT09PNpttZmZmaGgI8wi7kP39/S6Xa3Fxsba2lugSnjkqlYrL5W5ubr5z33C1aFNTU2VlZbhCiCYrvok/w69PgBTLvn8LcfHrd+APSqpverXYh5AAAAAASUVORK5CYII=\"></div>"
      ],
      "text/plain": [
       " 1\n",
       "{-, 0}\n",
       " r"
      ]
     },
     "execution_count": 53,
     "metadata": {
      "text/html": [],
      "text/plain": []
     },
     "output_type": "execute_result"
    }
   ],
   "source": [
    "(* Curvature and torsion *)\n",
    "\n",
    "Simplify[{curvature, torsion}]"
   ]
  },
  {
   "cell_type": "code",
   "execution_count": 54,
   "id": "fee5d430-6466-4b98-81f8-9d3edacf3bc0",
   "metadata": {},
   "outputs": [],
   "source": [
    "(* Coordinates (x, y, s) are contravariant coordinates *)\n",
    "\n",
    "coordinates = {x, y, s} ;"
   ]
  },
  {
   "cell_type": "code",
   "execution_count": 56,
   "id": "8effc48f-b072-40bc-a2e7-a526d9de820a",
   "metadata": {},
   "outputs": [
    {
     "data": {
      "text/html": [
       "<style>\n",
       "\t\t\t\t\t\t\t\t\t\t\t\t\t.grid-container {\n",
       "\t\t\t\t\t\t\t\t\t\t\t\t\t\tdisplay: inline-grid;\n",
       "\t\t\t\t\t\t\t\t\t\t\t\t\t\tgrid-template-columns: auto;\n",
       "\t\t\t\t\t\t\t\t\t\t\t\t\t}\n",
       "\t\t\t\t\t\t\t\t\t\t\t\t</style>\n",
       "\n",
       "\t\t\t\t\t\t\t\t\t\t\t\t<div><div class=\"grid-container\"><div class=\"grid-item\"><pre style=\"&#102;&#111;&#110;&#116;&#45;&#102;&#97;&#109;&#105;&#108;&#121;&#58;&#32;&#34;&#67;&#111;&#117;&#114;&#105;&#101;&#114;&#32;&#78;&#101;&#119;&#34;&#44;&#67;&#111;&#117;&#114;&#105;&#101;&#114;&#44;&#109;&#111;&#110;&#111;&#115;&#112;&#97;&#99;&#101;&#59;\">&#48;</pre></div><div class=\"grid-item\"><pre style=\"&#102;&#111;&#110;&#116;&#45;&#102;&#97;&#109;&#105;&#108;&#121;&#58;&#32;&#34;&#67;&#111;&#117;&#114;&#105;&#101;&#114;&#32;&#78;&#101;&#119;&#34;&#44;&#67;&#111;&#117;&#114;&#105;&#101;&#114;&#44;&#109;&#111;&#110;&#111;&#115;&#112;&#97;&#99;&#101;&#59;\">&#123;&#48;&#44;&#32;&#48;&#44;&#32;&#48;&#125;</pre></div><div class=\"grid-item\"><pre style=\"&#102;&#111;&#110;&#116;&#45;&#102;&#97;&#109;&#105;&#108;&#121;&#58;&#32;&#34;&#67;&#111;&#117;&#114;&#105;&#101;&#114;&#32;&#78;&#101;&#119;&#34;&#44;&#67;&#111;&#117;&#114;&#105;&#101;&#114;&#44;&#109;&#111;&#110;&#111;&#115;&#112;&#97;&#99;&#101;&#59;\">&#123;&#48;&#44;&#32;&#48;&#44;&#32;&#48;&#125;</pre></div></div></div>"
      ],
      "text/plain": [
       "0\n",
       "{0, 0, 0}\n",
       "{0, 0, 0}"
      ]
     },
     "execution_count": 78,
     "metadata": {
      "text/html": [],
      "text/plain": []
     },
     "output_type": "execute_result"
    }
   ],
   "source": [
    "(* Define radius vector expressed in (x, y, s) curvilinear coordinates *)\n",
    "(* Coordinates (x, y, s) are contravariant coordinates *)\n",
    "\n",
    "radius = Simplify[rxyz + x normal + y binormal] ;\n",
    "\n",
    "(* Covariant basis *)\n",
    "\n",
    "{ea, eb, ec} = Transpose[D[radius, {coordinates}]] ;\n",
    "\n",
    "(* Metric tensor *)\n",
    "\n",
    "forward = Simplify[Outer[Dot, {ea, eb, ec}, {ea, eb, ec}, 1]] ;\n",
    "\n",
    "(* Metric tensor inverse *)\n",
    "\n",
    "inverse = Simplify[Inverse[forward]] ;\n",
    "\n",
    "(* Scaling factor *)\n",
    "\n",
    "sqrt = Simplify[Sqrt[Det[forward]]] ;\n",
    "\n",
    "(* Contravariant basis *)\n",
    "\n",
    "{eA, eB, eC} = Transpose[inverse] . {ea, eb, ec} ;\n",
    "\n",
    "(* Transformation *)\n",
    "\n",
    "transform = Thread[{qx, qy, qz} -> radius] ;\n",
    "\n",
    "(* Construct covariant components *)\n",
    "\n",
    "{Aa, Ab, Ac} = Simplify[{ea, eb, ec} . {aqx, aqy, aqz} /. transform] ;\n",
    "{Ba, Bb, Bc} = Simplify[{ea, eb, ec} . {bqx, bqy, bqz} /. transform] ;\n",
    "\n",
    "(* Construct contravariant components *)\n",
    "\n",
    "{AA, AB, AC}  = Simplify[Transpose[inverse . {Aa, Ab, Ac}] ] ;\n",
    "{BA, BB, BC}  = Simplify[Transpose[inverse . {Ba, Bb, Bc}] ] ;\n",
    "\n",
    "(* Divergence of magnetic field *)\n",
    "\n",
    "Simplify@PowerExpand@Simplify[div[sqrt][{BA, BB, BC}, coordinates]]\n",
    "\n",
    "(* Curl of vector potential *)\n",
    "\n",
    "Simplify@PowerExpand@Simplify[{BA, BB, BC} - curl[sqrt][{Aa, Ab, Ac}, coordinates]]\n",
    "\n",
    "(* Vector potential gauge *)\n",
    "\n",
    "Simplify@PowerExpand@Simplify[{BA, BB, BC} - curl[sqrt][{Aa, Ab, Ac} + grad[sqrt][f @@ coordinates, coordinates], coordinates]]"
   ]
  },
  {
   "cell_type": "code",
   "execution_count": 83,
   "id": "b199ff5d-1768-4736-b844-b5fd2dbc53c8",
   "metadata": {},
   "outputs": [],
   "source": [
    "(* Transformation to cartesian *)\n",
    "\n",
    "{acx, acy, acz} = Simplify[Dot[{AA, AB, AC}, {ea, eb, ec}]] ;\n",
    "{bcx, bcy, bcz} = Simplify[Dot[{BA, BB, BC}, {ea, eb, ec}]] ;"
   ]
  },
  {
   "cell_type": "code",
   "execution_count": 86,
   "id": "2e21719e-8451-4a78-8fcd-0853c7271576",
   "metadata": {},
   "outputs": [
    {
     "data": {
      "text/html": [
       "<style>\n",
       "\t\t\t\t\t\t\t\t\t\t\t\t\t.grid-container {\n",
       "\t\t\t\t\t\t\t\t\t\t\t\t\t\tdisplay: inline-grid;\n",
       "\t\t\t\t\t\t\t\t\t\t\t\t\t\tgrid-template-columns: auto;\n",
       "\t\t\t\t\t\t\t\t\t\t\t\t\t}\n",
       "\t\t\t\t\t\t\t\t\t\t\t\t</style>\n",
       "\n",
       "\t\t\t\t\t\t\t\t\t\t\t\t<div><div class=\"grid-container\"><div class=\"grid-item\"><pre style=\"&#102;&#111;&#110;&#116;&#45;&#102;&#97;&#109;&#105;&#108;&#121;&#58;&#32;&#34;&#67;&#111;&#117;&#114;&#105;&#101;&#114;&#32;&#78;&#101;&#119;&#34;&#44;&#67;&#111;&#117;&#114;&#105;&#101;&#114;&#44;&#109;&#111;&#110;&#111;&#115;&#112;&#97;&#99;&#101;&#59;\">&#123;&#48;&#44;&#32;&#48;&#44;&#32;&#48;&#125;</pre></div><div class=\"grid-item\"><pre style=\"&#102;&#111;&#110;&#116;&#45;&#102;&#97;&#109;&#105;&#108;&#121;&#58;&#32;&#34;&#67;&#111;&#117;&#114;&#105;&#101;&#114;&#32;&#78;&#101;&#119;&#34;&#44;&#67;&#111;&#117;&#114;&#105;&#101;&#114;&#44;&#109;&#111;&#110;&#111;&#115;&#112;&#97;&#99;&#101;&#59;\">&#123;&#48;&#44;&#32;&#48;&#44;&#32;&#48;&#125;</pre></div></div></div>"
      ],
      "text/plain": [
       "{0, 0, 0}\n",
       "{0, 0, 0}"
      ]
     },
     "execution_count": 87,
     "metadata": {
      "text/html": [],
      "text/plain": []
     },
     "output_type": "execute_result"
    }
   ],
   "source": [
    "(* Compare with initial *)\n",
    "\n",
    "Simplify[{acx, acy, acz} - {aqx, aqy, aqz} /. transform]\n",
    "Simplify[{bcx, bcy, bcz} - {bqx, bqy, bqz} /. transform]"
   ]
  },
  {
   "cell_type": "code",
   "execution_count": 89,
   "id": "f1c9de5e-38e7-48b5-8c83-26405251d472",
   "metadata": {},
   "outputs": [
    {
     "data": {
      "text/html": [
       "<style>\n",
       "\t\t\t\t\t\t\t\t\t\t\t\t\t.grid-container {\n",
       "\t\t\t\t\t\t\t\t\t\t\t\t\t\tdisplay: inline-grid;\n",
       "\t\t\t\t\t\t\t\t\t\t\t\t\t\tgrid-template-columns: auto;\n",
       "\t\t\t\t\t\t\t\t\t\t\t\t\t}\n",
       "\t\t\t\t\t\t\t\t\t\t\t\t</style>\n",
       "\n",
       "\t\t\t\t\t\t\t\t\t\t\t\t<div><div class=\"grid-container\"><div class=\"grid-item\"><img alt=\"Output\" src=\"data:image/png;base64,iVBORw0KGgoAAAANSUhEUgAAAoIAAAAnCAIAAAAU3L42AAAAzXpUWHRSYXcgcHJvZmlsZSB0eXBlIGV4aWYAAHjabU9bDsMgDPvnFDtCSIIDx6ErlXaDHX/JoJs6zRKx4zyANJ6PI90CnClpsYoGkEObNu4uKk1MztTecVpMvNyLn9imyN2t8i1gLH+7+obJXH8Wrf0kcYNr0TWwFglPP/eZb6ufe63XRetFJ3CK/D9XMUZBNvWoTGZormty6YTCVAwH7oA3ZuxMenceMPMxWHRIj8EAD7t2jwRxY48vSJwi3dlm5HDENUv1qALePtX4zgsbT1qdu4QhSQAAAAlwSFlzAAAOxAAADsQBlSsOGwAAADx0RVh0U29mdHdhcmUAQ3JlYXRlZCB3aXRoIHRoZSBXb2xmcmFtIExhbmd1YWdlIDogd3d3LndvbGZyYW0uY29tXKKmhQAAACF0RVh0Q3JlYXRpb24gVGltZQAyMDI1OjA3OjA3IDIzOjI4OjQ2wV/s7AAAEiFJREFUeJztnWtUE0cbxyeQgCABIyAexOChalXQolBFK3hFUQTFetQKKIqoeEGtxeCBSqu0SuspFUGtaGupRUWtR7wcBSyIjRHrFaJYbUXQeEETKoJckpD3w/ZNQxI3m83sbkjn94nszj7PM8yz/9mdnZ0FKqapr69//Pgx01EgTKW8vHzy5Mmurq5dunTx9/fPzMxsbW0lYaeiogJ6bNQBq9YI6NDQNEi7LAYo2UJau6wA0xw4cMDKivkwEKYglUonTZrk5OR07NixkpKSmJiYrKysiooKEqZOnjxZW1sLPUIqgFhrBFzoaRqkXZYBrGwhr13kem+IJCUlMR0CwlSEQiEAoLy83HRTYrF406ZNptuhAYi1RsCFnqZB2mUZwMoW0trFJtN1w+PPP//s0aMHszEgiCCTyRYvXuzu7g4ASE9P79q1q+Zef3//0aNHR0RErFmz5sMPP/Ty8nqbnYKCgsLCQgCAm5vbp59+qlvA29t706ZNsMMnCW21RhgLrKYBZFsHaVdnAT9VALwTmbx2aXXLr1+/Tk1NXbt2bUFBgYmXBkTYtm1bZWUlDY4QJvL06dN169bhFJDL5Xv37h0/fjybzfbx8dm+fXtbWxtO+cjIyLftWr9+fU1NDflY4UFnrRFGAb1pVEa2DtKuzoLBVFHBO5FxtCshIWHp0qUlJSW6u7QfbCxdujQ8PPybb74JCwsj06sbye3bt729vWlwhKAaNpsdGxt7/vz5urq6uLi45OTk+Ph4cqbef//9srIyuOFRBMRaI+BCddMg7bIkYGULjnZt3749Ozs7Pz+/vLxca1eHblihUHA4nGHDhpFwTwKVStXW1sZisehxh6CO+vr6v//+G/ubx+MlJCQsW7asuLiYnLWhQ4diT2vMHLi1RkCE6qZB2mVJQMwWfO2ytrZOSUk5ceKE1vYOz4alUqmLiwsJ3+Soqqry8PCgzR2COtLT0/ft25eYmBgYGNi1a1exWPzTTz/NnDmTnDUvL6/q6mq4EVIB3FojIEJ10yDtsiQgZotB7XJ3d3/06JHWxg7dsEqlIuGYNNeuXfPx8aHTI4Iivvjii4EDB+bm5m7ZsqW1tbVPnz4rVqwQCATkrLFYLGtra7gRUgHcWiMgQnXTIO2yJCBmCxHt0u1nIcyUzsrK+uSTT1paWow98O7du/Q8gUZQjbW19YIFCxYsWADLoJub24sXL1xdXU208+rVq6FDh/L5/NLSUhhxdQB6rc0Z0qc5I1DdNEi7LAm42UJCu5h89/zBgwfvvPMOgwFYEkKhMDQ0tFu3blwud8qUKZWVlUxHZBJ6h260kMlkq1ev9vLysrOz8/HxycjIkMvlWmVevXpVU1MjFotpHumhmsbGxuXLl7u4uHC53IiICIP/K0awsJzUBGkXXCwpVYholxZMdsMvXryg81E0cZRKZX5+PtNRgNLSUolEQqRkXl5eUFBQU1PTtm3bdu7cKZfLQ0NDdfukToS7u/vjx49xCigUimnTph0/fnzlypX79++fMWNGamrq5s2btYrx+fzKysrr169b2GyauXPnFhYW7tmz59ixY1KpdMKECc3NzUwH1QHLy0lNkHbhQ1y7gMWlikHt0gXO8h3kNK69vd08xTE3N3fgwIFMRwHee+89gUCwZ88e/GISiWTJkiVRUVE//vgjtiUqKqq6uprD4VAfI1UYvKIUCoUikaisrCwwMBAAMGfOnLi4OCcnJ92SgwYNoipKhrh48eKZM2du3bo1ePBgAEBAQICXl1dOTk5CQgKlfomfrRaZk5og7cKHoHYBS0wVxu6G2Wx2ZWXllClT7O3te/XqhS3oZfAo0nmckpIye/bs9vb2jIyMAQMG2NjYuLi4wHpq1draeu7cuYCAAKo9Hj58mM1mq98ha2xs9PT0TExMVBfg8XhOTk43b97Et7N3716lUvntt9+qt7BYLM2FYGpra+fNm8fj8bp27RocHHzlyhXNw588ebJw4UI+n29ra9uvXz+BQFBXV2dKvaDQs2fPZ8+e4RTA1vJVKpXqLZ6ent26dcP+3rp1K0uD0aNHax4rFotZLFZzc/OXX37J5/MdHR0nTZpUU1NDQT0o4eTJk35+flgfDABwdHScNWuW7lsQ0CF+mltkTmrSibSLCqewtAtYYqoY1C5d4HTDLS0tU6dOHTNmzOHDh8PDw1NTU7OysqBYfhsNDQ1z584tKCjIzMysqKjIy8vr0qULTngNDQ0ELe/evVvv5AvoHufMmRMREbFw4cLW1lYAQHJysq2trdZaaGvXrs3IyMC3U1ZW5ufnx+Px9O59/vz5qFGjbt26lZmZmZubCwAICgrSfH989uzZN2/e3LVrl0gk+vzzzy9fvnzw4EF8jzTg4ODw5s0bnALDhw/v169fZGRkXl6eQqHQ2jt//nzR/5k6dapeC+PHj29oaCgrK/v1119ramri4uKgRU8xt2/f9vX1BQBUVlaWlJQAAHx9fe/cuUO1X+KnuUXmJCzo1y7oTmFpF7DEVDGoXXrQXFLrjz/+ILEy9Y4dO6ytre/fv6/eMmfOnN69e+MfJZfLJ0+ebKwvjOTkZGtr6+nTp8vlciLlL168uGvXLoLGAwMDGxsb6fFYV1fn6uqampp6/fp1NptdVlamWyYsLOzNmzc4RgYMGBAdHf22vcuXL3dycpJKpdhPhULh6+s7atQo7KdSqbS1tU1PTzcYKpEF4YwCf+HA+/fvx8fH41t4+PDhhAkTAACenp4ZGRlNTU16iy1YsOCDDz7Q3IJNAPn666/VW7777jsWi9XS0qJ1LM21JsjIkSMFAoFKpeLz+VZWVs+ePcvPz7exsTHdMg5GneY05CT0plERbp3OpV0UOYWiXSpLTBWD2jVv3jytLR3uhkUikb+/P4n+n81m9+3bV/0zNDT00aNHMpkM5xC5XG7K6L+dnV1OTg6bDfnTFFKp1NHRUXftb4o8urq6Zmdnb9myJSoqKj4+HnvMqUVgYOBvv/2GY0SlUmmOzWpx+vTpmTNndu/eHftpbW0dFxd36dIlqVQKALCyslq9enVqaurHH3985coVldlMJ+7SpYvBOUeenp7FxcWXLl0aOnTounXr3n333Rs3bhB3oTlS7eXlpVKpjB1KYpxhw4b17dvX0dGRnoYjfppbZE6q6XTaRYVTKNoFLDFVDGqXSqXCRhHU/NMqbW1thYWF5eXl2dnZWscoFIrGxkZdTzhjGtgIw/Pnz9X/Pl0UCoVuThD35ezsbPDFLLW1xsbG5uZmbLky/Mhra2v79++vdxdFHsPCwhwdHauqqs6dO6e3QO/evfEfW3p4eOCs2/L8+XM+n69lENvu7OwMAEhPT584ceLevXsnTpzI5XI/+ugjgUBA/KU3hULx8uVLnAJOTk52dnYEramxs7MjOPV35MiRx48fF4vFERER0dHRYrHYWF8AACwViU/ObG1tra+vxynQvXt3GxsbEpEQwdnZGZOh48ePY1ukUinWmuQgcY4D3NOc2ZzEv5yyt7d3dHQkaEovnU67KHJqunYBplNFKpXinPUcDofEaWVQu9asWbN27dqkpCR11f5JpqKioq+++ur777/XnXpw79493QlvISEhISEhb3Pz8OFDAICbmxt+uLqrjZDwhYPa2pMnT6RSKZYQ+Naampr0zralzmNKSoq7u7uHh0diYqLepxpcLhdfVsaOHZuWlvby5Uu9b1C4urpqzZ7HfmpmanBwcHBwcFtb2+nTpwUCwalTp27fvk1wHasXL15kZmbiFJg1a5afnx8RU5rY2NgY9caCj4/Phg0bYmNjZTIZzsUfLKqrq9UTO/USGxureeMIFx8fH60Fb2/evKmesUUCcucdzmnObE5mZWXh3GCNGjXK9JU3LE+7SDg1XbsA06mSn59fW1v7tr18Pp/EBx4Matfw4cMvXbq0aNGif89i9fB0U1NTVFRUfX29saPkO3bssLGxaW5uxn4qlcphw4aNGDEC/6i2trbp06cb6wsjOTnZ09OTeHniz1fu3bu3fPly2jwKhUIOh3P58uVbt25xOJyff/5Zt8wPP/xw8OBBHCMSicTe3j4yMrK9vV298dChQwqFQqVSrVq1isfjyWQybLtSqfTz8xs9ejT2s729vbq6WtPaqVOnAABaG1W0PyWVyWT4BYqKinbs2KG5ZcOGDdh1qFbJtz0bFolE6i3YRCfNB58YdNZ669at0dHRz549M2hEJBKxWKwbN25gP2UyGY/H05tvxG0axKjTnIacZPDZcOfSLoqcQtEulSWmikHtwr6zpLnl36EVe3v7RYsWHT16dPHixcb2/1ZWVgEBAfHx8S4uLjk5ORUVFUVFRfiHmOdrYX369KHtxZU3b97ExMSsXLlyxIgRAIDPPvtsxYoVQUFBWkvG37lzJyYmBseOu7t7dnb2okWLampqoqKibG1tjxw5Ulpa6u3t7ePjs2nTpl9++SUwMDApKcne3n737t1isVg96f/cuXPh4eHx8fHh4eE9evSQSCSbN2/29vb29PSkrN6EUCgU+EPZFy5cSEtLO3r06OzZsx0cHEQiUU5OzpYtW/DHUc0WiUSSlJQEAHB2djY4vzQgIGD69OkREREZGRlcLnfjxo09e/bUTRKjbBKB+GlukTmpBmkXLO0ClpgqRLTr8OHDmls6TNHq27fvgwcPSDgePnx4VlbWvn37IiMjX758eebMmbFjx5KwQxGurq4ERwg5HA6Xy1V/9IpSj0lJSUqlMi0tDfspEAgGDRoUExOj6jjR4O7duwYXoIiJiTl//rytrW1iYmJCQgKLxbp8+TK29Hy3bt2EQuHgwYNXrVoVHR3d3t5+4cKFIUOGYAeGhIQUFRU9ffo0KirK399/2bJlQ4YMKSwsZHxpgubmZvxU3rx589mzZ+3s7FJSUlasWHH16tX9+/drvrnYuejRo0dAQACLxbp//z6R8gcOHAgNDY2NjZ0xY4abm1tRUZHu9YexNg1i1GlueTnJCPRrFxGnELULWFyqGNQuPZdxmrfGVNy84xAaGkqbL+KcPXt227ZtTEfxDxcvXkxLS2M6CpWK9kFpsVi8fv16iO7IQXOtlyxZEhsbC9EdRTbNAQYHpVVIuwhgwdqlwk0Vg9qleyyTa0qrzGN+uRaTJ0++cOGCmaxounv3bhJzBCyAhoYGBwcHpqOgldevX584cSI0NNTMbSIA0i4CIO0iDpPdsK2tLYPecVi3bl1eXh7TUYCqqipfX18a5v2aIXV1db169WI6Cvr466+/QkJCRowYMWPGDHO2icBA2oUP0i6jDmGyG3ZwcDCTCzctxowZM23aNKajAO7u7mvWrGE6CmbQfV/QsikuLg4ODj5y5AjEx1pU2ERgIO3CB2mXUYdAXsnFKDw8PCQSSZ8+fRiM4W2YshgCLEx8C7BTU1tba1az/Khm6dKlncImAgNpFz5Iu4w6hMm7YT6fT25iNsIMgfsVl+rqamy5HDOH0g/mIEyB0qZB2mVhQMwWEtrF5N1w//797927N378eAZjQEAE+4oLtq4Wn8+vra0l/RZvU1MTiSUwGQFirRFwoa5pkHZZHrCyhYR2deiGORyO7jfjqMPX1/fYsWO0uUNQTXFx8bRp04qKirAVdwcMGEDODvbhFKihUQisWiOgQ13TIO2yPKBki0HtUigUuqvNdxiUdnZ2lkgkJHyTo3v37lBeNkeYCbC+4nL37l1vb28oIdEARR/MQZgOdU2DtMvygJItBrXr999/1y2g7TIsLEwgECQmJupdaBs6XC63paUFDeKZPywWq7S0dOXKlQCA9PR0vd9TI/IVl4KCgsLCQqBvcXw1QqEwKCjItHjhQGetEUYBq2kA2dZB2tVZIJIqANKJjKNdcrn8+vXr6enpubm5Wru0u+H58+dXVVXt3LlzyJAhNLxuGBgYKBKJxo0bR7UjhIm4ubldvXrVdDvh4eHh4eH4Za5duzZ//nzTfZkOnbVGGAWspgFkWwdpV2eBzlTB0a7169d7e3sfOnRI99JNz0zpgQMHbty4kZ5X/qdOnWrwIxCI/xTt7e0sFgvdZCDMHKRdCC3wtSsjI2Px4sV69zL5whIAgMfjNTU1MRsDwqwQCoXoDgNh/iDtQmhBWrsY7oYBAOPGjYM1YoCwAEpKStDii4hOAdIuhCaktYtlnmuUIxAIBALxX4D5u2EEAoFAIP6zoG4YgUAgEAjG+B/9aOYy7MiSrQAAAABJRU5ErkJggg==\"></div><div class=\"grid-item\"><img alt=\"Output\" src=\"data:image/png;base64,iVBORw0KGgoAAAANSUhEUgAAAFUAAAAWCAIAAAA+W0fPAAAAy3pUWHRSYXcgcHJvZmlsZSB0eXBlIGV4aWYAAHjabU/RDUMhCPx3io6AgIeO42tt0g06fuFpXmPTS4TjOFDTeL+e6RbgTEmLVTSAHNq0cXdSaWLmTO2MJ0pZvbzrKWPp3aXybWAs/dh1W36uP4uIJ5G4wbnoGliLhKee+6yP5ede677IaAPoevrfWsUYBdnUozKZoTmvyaknFKZieOIOuDHjwaR3zwNmPgYLh/QYDPCw3T0SxIVHfEHiFOmebUYORZyzVI8q4OPqxnc+FZ1ambTRSGoAAAAJcEhZcwAADsQAAA7EAZUrDhsAAAA8dEVYdFNvZnR3YXJlAENyZWF0ZWQgd2l0aCB0aGUgV29sZnJhbSBMYW5ndWFnZSA6IHd3dy53b2xmcmFtLmNvbVyipoUAAAAhdEVYdENyZWF0aW9uIFRpbWUAMjAyNTowNzowNyAyMzoyODo0NsFf7OwAAAOVSURBVFiF7ZjPSypRFMfvNINpPwQb+wFuWrgJikSJYhZFtIiakgyDNq0ioSKQoE0ZQaugVYxg+R9ExSDtJBqsoF1JkhAFBTNMP0cNB+wHzrzFwHs6+p7zZqq36H1393jPuZ/vuTpnEBJFEXxjlf1rgH+s//6/XH6/X6/Xf/25RaXIP8/zU1NTZrO5urra5XLRNP3ZWH8r1YRy//F4fHFxMRaL5QZHR0fD4XAwGNzZ2eE4rqenJ5PJfAz4B+nPhKlUam5u7ujoqEimmCOWZUdGRh4fH3ODBwcHEASdnZ1Jy+fnZxRF19bWRLUiCEKv16tOL5QSQp7nZ2dnI5GILDfv/k9OToaHh81mc25wd3fX4XC0tLRIS6PR6Ha7Q6GQlutCECQWi/X19VVUVFgsluXlZVHDGFZCWFlZOTk5GYlEZLl5/t/f3xEEke04Pz+32WwAgFgsRlEUAMBms8XjcdW4AICXl5f+/v6urq7NzU2n07m0tOT3+1VXU0iIIMjr66s8WLJ6MpmUWjswMMAwDMuyKIomEgnVuAAAURQpirJarQCAwcHBZDK5uro6MzOjrpoWwrz7FwQBhuHfbbXb7Var1Wg0avmuSkIQRDIvCcdxmqY19hSUIoRhWBAEWfCXf5qm9/f3MQyT7UBRlOM4AABJkhcXFwaDgeM4FEU1subKZDIBAO7v79WlKyS0WCwPDw+y38Uv/8FgsKGhob6+XpbW3NwcjUZzI9Fo9OfD5kN0c3MDACg8WqEUEpaVlXV3d/t8vrxo7jAIBAKFE+L4+BiCoNPTU2mZSCRMJlMgEJBtW1lZGRsbu7u7KzmuCILQ6XSZTEZaZrNZu93e3t6uuqBCwlQq5fF4ZME8/yRJbm1tFR4wNDTU2NhIkuTe3h6GYU1NTT/pJTEMI3XT6/WWxJXmf2tr6/r6+vb2dm9vL4IgFEWpLqiEUBTF6+vrhYUFWVCRf57np6ena2pqqqqqXC4XwzCyDW9vbx0dHRAE4ThekpUgiM7OzsPDw7a2tvLycofDEQ6HtRRUQihq8a9QHo9nfHxcdfpnFyzqP2/+1dbWsiyr7iGUTqdDoRCO4+rSv6Agy7J1dXXyaG4zstnsxMSE1+u9vLz8q9ZeXV1hGOZ0OgVB0HpNn1AwnU77fD632/309CT7CBILXhV4nodh2GAwKG/txsbG7e3t/Py8TqfTeEufUTCbzaZSqaLvLEX8fyt99/+/fgAxx0pUDbP/6AAAAABJRU5ErkJggg==\"></div><div class=\"grid-item\"><img alt=\"Output\" src=\"data:image/png;base64,iVBORw0KGgoAAAANSUhEUgAAAAsAAAAWCAIAAACZhvE0AAAAynpUWHRSYXcgcHJvZmlsZSB0eXBlIGV4aWYAAHjabU9RDkMhCPv3FDsCAhY9ju/NJbvBjj+Y5i0uayKttaCm8Xo+0i3AmZIWq2gAObRp4+6i0sTkTO1TJ47FefdTxvK7W+V7gLH8Y/dt5bn+DCKeQuIG16KrYQ0Snn7u60Erz73WfZDRBtD19L97FWMUZFOvymSG5roml04oTMXwwAl4MOPOpKfzgJm3wSIhPRoDPGxPjwRx4x5fkFhFurPNyuGIa5bqVQV8XKfxnTdQgFrBriiuuwAAAAlwSFlzAAAOxAAADsQBlSsOGwAAADx0RVh0U29mdHdhcmUAQ3JlYXRlZCB3aXRoIHRoZSBXb2xmcmFtIExhbmd1YWdlIDogd3d3LndvbGZyYW0uY29tXKKmhQAAACF0RVh0Q3JlYXRpb24gVGltZQAyMDI1OjA3OjA3IDIzOjI4OjQ2wV/s7AAAASZJREFUKJHNkj+Kg1AQxueFFCmioC8HEMQiEEEklZAmrRZ6CkFrD2LlKcQ6IAg2lhEluUDEToMgsZwt3hLdJs1usV81zPyYPx9DEBE+avW5/LfEOI6e5+12O47jHMd5PB4zgoiIaJqmLMtxHF8ul9PppCjK6/ViJUDEPM8JIVVVsdQwDJTSMAxnIgiC4/GIC7muez6fWbwCgNvtpmkaANR1nWUZAGiadr/f2RprAHg+n6qqAoBlWU3TtG1LKe37fibe0nV9s9nwPL80eg0AlNKu6wAgSRKW7bqOUjr7cTgcyrJcNivLks399qMoCkLI9Xply/d9LwhCFEXztYho27YkSUmSpGlqGMZ+v5+m6QcxjqPv+6Iobrdbx3Gapnl7Q/7Xf/yK+AI6ZMNPKI/76AAAAABJRU5ErkJggg==\"></div><div class=\"grid-item\"><img alt=\"Output\" src=\"data:image/png;base64,iVBORw0KGgoAAAANSUhEUgAAAAsAAAAWCAIAAACZhvE0AAAAynpUWHRSYXcgcHJvZmlsZSB0eXBlIGV4aWYAAHjabU9RDkMhCPv3FDsCAhY9ju/NJbvBjj+Y5i0uayKttaCm8Xo+0i3AmZIWq2gAObRp4+6i0sTkTO1TJ47FefdTxvK7W+V7gLH8Y/dt5bn+DCKeQuIG16KrYQ0Snn7u60Erz73WfZDRBtD19L97FWMUZFOvymSG5roml04oTMXwwAl4MOPOpKfzgJm3wSIhPRoDPGxPjwRx4x5fkFhFurPNyuGIa5bqVQV8XKfxnTdQgFrBriiuuwAAAAlwSFlzAAAOxAAADsQBlSsOGwAAADx0RVh0U29mdHdhcmUAQ3JlYXRlZCB3aXRoIHRoZSBXb2xmcmFtIExhbmd1YWdlIDogd3d3LndvbGZyYW0uY29tXKKmhQAAACF0RVh0Q3JlYXRpb24gVGltZQAyMDI1OjA3OjA3IDIzOjI4OjQ2wV/s7AAAASZJREFUKJHNkj+Kg1AQxueFFCmioC8HEMQiEEEklZAmrRZ6CkFrD2LlKcQ6IAg2lhEluUDEToMgsZwt3hLdJs1usV81zPyYPx9DEBE+avW5/LfEOI6e5+12O47jHMd5PB4zgoiIaJqmLMtxHF8ul9PppCjK6/ViJUDEPM8JIVVVsdQwDJTSMAxnIgiC4/GIC7muez6fWbwCgNvtpmkaANR1nWUZAGiadr/f2RprAHg+n6qqAoBlWU3TtG1LKe37fibe0nV9s9nwPL80eg0AlNKu6wAgSRKW7bqOUjr7cTgcyrJcNivLks399qMoCkLI9Xply/d9LwhCFEXztYho27YkSUmSpGlqGMZ+v5+m6QcxjqPv+6Iobrdbx3Gapnl7Q/7Xf/yK+AI6ZMNPKI/76AAAAABJRU5ErkJggg==\"></div></div></div>"
      ],
      "text/plain": [
       "                       s       s               s                    s\n",
       "{-(b (-r + (r + x) Cos[-]) Sin[-]), 0, -(b Cos[-] (-r + (r + x) Cos[-]))}\n",
       "                       r       r               r                    r\n",
       "{0, b, 0}\n",
       "0\n",
       "0"
      ]
     },
     "execution_count": 90,
     "metadata": {
      "text/html": [],
      "text/plain": []
     },
     "output_type": "execute_result"
    }
   ],
   "source": [
    "(* Projections (orthonormal FS basis) *)\n",
    "\n",
    "{A1, A2, A3} = Simplify[Dot[{normal, binormal, tangent}, {acx, acy, acz}]] \n",
    "{B1, B2, B3} = Simplify[Dot[{normal, binormal, tangent}, {bcx, bcy, bcz}]] \n",
    "\n",
    "Simplify[Total[{aqx, aqy, aqz}^2] - Total[{A1, A2, A3}^2] /. transform]\n",
    "Simplify[Total[{bqx, bqy, bqz}^2] - Total[{B1, B2, B3}^2] /. transform]"
   ]
  },
  {
   "cell_type": "code",
   "execution_count": 94,
   "id": "666e559d-6376-41cc-bd70-77220a6df08e",
   "metadata": {},
   "outputs": [
    {
     "data": {
      "text/html": [
       "<style>\n",
       "\t\t\t\t\t\t\t\t\t\t\t\t\t.grid-container {\n",
       "\t\t\t\t\t\t\t\t\t\t\t\t\t\tdisplay: inline-grid;\n",
       "\t\t\t\t\t\t\t\t\t\t\t\t\t\tgrid-template-columns: auto;\n",
       "\t\t\t\t\t\t\t\t\t\t\t\t\t}\n",
       "\t\t\t\t\t\t\t\t\t\t\t\t</style>\n",
       "\n",
       "\t\t\t\t\t\t\t\t\t\t\t\t<div><div class=\"grid-container\"><div class=\"grid-item\"><img alt=\"Output\" src=\"data:image/png;base64,iVBORw0KGgoAAAANSUhEUgAAAFUAAAAWCAIAAAA+W0fPAAAAzHpUWHRSYXcgcHJvZmlsZSB0eXBlIGV4aWYAAHjabU/RDUMhCPx3io6AIIeO42tt0g06fuFpXmPTS4TjOFDTeL+e6RbgTKmoVTSAHKWVxt1JpYmZM7UznlBdvbzrKWPp3SX9NjCWfuy6LT/Xn0XEk0jc4FzKGliLhKee+6yP5ede677IaAPoevrfuogxFNmKx8Jkhua8JqeeoExqeOIOuDHjwVTungfMfAwWDukxGOBhu3skiAuP+ILEUemebUYORZyzVI8qzMfVje98ABVvWpb1iG5oAAAACXBIWXMAAA7EAAAOxAGVKw4bAAAAPHRFWHRTb2Z0d2FyZQBDcmVhdGVkIHdpdGggdGhlIFdvbGZyYW0gTGFuZ3VhZ2UgOiB3d3cud29sZnJhbS5jb21coqaFAAAAIXRFWHRDcmVhdGlvbiBUaW1lADIwMjU6MDc6MDcgMjM6Mjg6NTLfKRm0AAACyElEQVRYhe2YvWvqYBTGEyOi1Ao2agWXQnFQFESXInRwjpQqduxUKrRdRJw07q5Oov9CKUGcCqWiDm6ttOii0MGQlvpZDBYVkzsINnn1Um+8moI9W56c88t5Tj7el8Asy0IbHBKxGxA5fv1vdizkn6bpy8tLjUazvb3t8Xjq9fqSV/1BQJYf5XIZx/GnpyeuiGHY/v7+zc3N7e3t4eGh0Wjs9/vsErFmYKfTCYVChUJhtpDnn6Kok5OTRqPBFfP5PAzD04l8fHygKBqPxwX3KgqQpulgMJjL5YBa3vP/8PDg9Xo1Gg1XzGQyDofDarVODlUqlc/nS6fTgp9VUYBbW1sXFxe5XA6o5fkfjUZSqRTIKJfLNpsNgqDn5+dsNgtBkM1mq1QqgtsVCyiVSgeDASh+S+90OpPRut1ukiQpikJRtN1uC273RwF5/hmGQRDkb6l2u10ul6tUKvY/bRnXDEQQhGEYQPzyX6/X7+/vo9EokIGiaKvVgiCIIIiJ0mq1UBQV3KVYQIPB8P7+XqlUzGbzVPx6/1OplF6v393dBcosFkupVOIqpVJp+rEREGIBJRKJy+XCcZyncheDRCIxu0IUi0UYhh8fHyeH7XZbrVYnEgkgLRaLnZ6evr29fbtciQXsdrt+vx8Qef4Jgri+vp69wPHx8d7eHkEQd3d3TqfTZDJ9fn5yE0iSnEwzEAh8264oQJZlX15eIpEIIC7kn6bpq6urnZ0dpVLp8XhIkgQShsPhwcEBDMMYhi3S7vqB7DL+Fwy/3392dia4fNXAuf55+x+tVktRlLCPUK/XS6fTGIYJK18DkKIonU4HqtxhjMfj8/PzQCBQrVb/abS1Ws3pdB4dHTEMs+xtWgGw1+vhOO7z+ZrNJnAKZme2CjRNIwiiUCgWH20ymXx9fQ2HwzKZbMm7tArgeDzudrtztxhz/G9UbPr/nz8S1wEyX/uqXwAAAABJRU5ErkJggg==\"></div><div class=\"grid-item\"><img alt=\"Output\" src=\"data:image/png;base64,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\"></div></div></div>"
      ],
      "text/plain": [
       "{0, 0, 0}\n",
       "         1  b x (2 r + x)\n",
       "{0, 0, -(-) -------------}\n",
       "         2        r"
      ]
     },
     "execution_count": 101,
     "metadata": {
      "text/html": [],
      "text/plain": []
     },
     "output_type": "execute_result"
    }
   ],
   "source": [
    "(* Simplify covariant vector potential by gauge transformation *)\n",
    "\n",
    "ClearAll[alpha] ;\n",
    "ClearAll[beta] ;\n",
    "\n",
    "{Ca, Cb, Cc} = {Aa, Ab, Ac} + grad[sqrt][alpha[s] + beta[x, s], {x, y, s}] ;\n",
    "\n",
    "beta[x_, s_] = Simplify[beta[x, s] /. First[DSolve[{Ca == 0, beta[0, s] == alpha[s]}, beta[x, s], {x, s}]]] ;\n",
    "alpha[s_] = Simplify[alpha[s] /. First[DSolve[{(Cc /. x -> 0) == 0, alpha[0] == 0}, alpha[s], s]]] ;\n",
    "\n",
    "(* Check *)\n",
    "\n",
    "Simplify[{BA, BB, BC} - curl[sqrt][{Aa, Ab, Ac} + grad[sqrt][alpha[s] + beta[x, s], {x, y, s}], {x, y, s}]]\n",
    "\n",
    "(* Transformed potential (covariant) *)\n",
    "\n",
    "Simplify[({Aa, Ab, Ac} + grad[sqrt][alpha[s] + beta[x, s], {x, y, s}])]"
   ]
  },
  {
   "cell_type": "code",
   "execution_count": 104,
   "id": "2a28aec2-6703-4a94-9346-60115e3ca28a",
   "metadata": {},
   "outputs": [
    {
     "data": {
      "text/html": [
       "<div><img alt=\"Output\" src=\"data:image/png;base64,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\"></div>"
      ],
      "text/plain": [
       "         1  b x (2 r + x)\n",
       "{0, 0, -(-) -------------}\n",
       "         2      r + x"
      ]
     },
     "execution_count": 107,
     "metadata": {
      "text/html": [],
      "text/plain": []
     },
     "output_type": "execute_result"
    }
   ],
   "source": [
    "(* Physical *)\n",
    "\n",
    "{AA, AB, AC}  = Simplify[Transpose[inverse . ({Aa, Ab, Ac} + grad[sqrt][alpha[s] + beta[x, s], {x, y, s}])] ] ;\n",
    "{acx, acy, acz} = Simplify[Dot[{AA, AB, AC}, {ea, eb, ec}]] ;\n",
    "{A1, A2, A3} = Simplify[Dot[{normal, binormal, tangent}, {acx, acy, acz}]] "
   ]
  },
  {
   "cell_type": "code",
   "execution_count": 108,
   "id": "75a85a19-f62f-4d03-ace5-dce0d4407977",
   "metadata": {},
   "outputs": [
    {
     "data": {
      "text/html": [
       "<div><img alt=\"Output\" src=\"data:image/png;base64,iVBORw0KGgoAAAANSUhEUgAAAMQAAAA6CAIAAABgXGFVAAAAy3pUWHRSYXcgcHJvZmlsZSB0eXBlIGV4aWYAAHjabU/bDQMhDPtnio4QkuDAONwdlbpBx29SUCuqWiI2zgvSeD7u6RbgTEmLVTSAHNq0cXdRaWJypvaOb5y6cnn3k/Tld7fKN4Gx/GP3DZO5/gwinkJig2tZG20NEp5+XguPVc+91n2Q0QbQ5+l/7yrGKMimHpXJDM11TS6dUJiK4Y4T8MKMi0lP5wEzb4NFhfRoDPCwvXokiBtXfEHiFOnONiOHI65ZqsfizvHJxndelhRa9fBX/MUAAAAJcEhZcwAADsQAAA7EAZUrDhsAAAA8dEVYdFNvZnR3YXJlAENyZWF0ZWQgd2l0aCB0aGUgV29sZnJhbSBMYW5ndWFnZSA6IHd3dy53b2xmcmFtLmNvbVyipoUAAAAhdEVYdENyZWF0aW9uIFRpbWUAMjAyNTowNzowNyAyMzoyODo1N69D7TsAAAplSURBVHic7ZxpTBNbFMdvpS0FQl+wbEG2GFwwmGBRiiQQXICSiq0RBRWFaExBhWAAI6nGlWiMC2tUGk2MiAsxFQ0foChUaguJSFUEotG4UERJWcta2r4P89KUrkM7XXid37c5c/ifM+nhzp2Zew9GqVQCFBQkWGLrBFD+P6DFhIIYaDFZipaWlkU0hejt7e3v7zdTBC0mi6BUKuvq6jAYjK0TgQuJRLpz546ZIo5VTBUVFQQCwQqBmpqaYmNjrRAIKby8vPr7++VyuTkijlVMVqO2tjYpKUndwuFwKBSKq6urj49PQUHBxMSErXLTR1xcXFNTkzkKaDEhj0wmm5ycVB8Ci4uL9+zZs23btvr6+gsXLlRXV2dkZNgwQ50kJCTU19ebo4BFKpXFghXmMTweb+PGjeqW+Pj4zZs3Q8ZNmzb5+vrS6XSxWLxs2TJLJwMfDw8PsVhsjoLDjUxYLPbjx49JSUmurq7Lli07f/68vmeux48fY7HY9vZ26FAqlQYFBRUWFhoNwePxNmzYoG6JjIxULy/o7NevX/UpnDp1avfu3QqF4saNG6tXr8bj8Z6entPT03AuUCcwryUoKOj79+8mRwFKR6K8vByLxfr7+1+6dOn58+dZWVkAgLKyMn3+KSkpoaGh09PTSqUyNzd3xYoVk5OTRqPQ6XTDbjweDwDw8+dPfQ4sFisxMXHXrl1xcXENDQ09PT0NDQ0GBKempkZHRw1nBeda2Gw2h8MxrGMAhysmJyenL1++qCypqakBAQH6/P/+/evl5XXmzJl3795hsdjXr1/DibJ161bDDtu3b6dSqQYcWCyWk5MTnU6XyWRwIra2tt68edOwD5xr4fP50FBtGg43Z8JisSEhIapDGo32+PHjoaGhpUuXajt7eXlVVlamp6fX1tZmZ2fHxMTACaFQKAycvX//PpfL7ezsNCzi4uLCZrOxWMR+IDjX4u3t/ffvX5NDOFwxaeDh4QEA+PPnj85iAgAkJycTiUToRgNHcG5uDo/H6zsrEAiYTObt27dXrVplWIdEInl5eRmNJZVKAQBSqXRqampkZAQAQCAQ9L1LM3otRCIREjENRy8maL7p4+Ojz+HUqVN+fn7+/v6FhYUPHz40KjgzM6PvtxSJRDQaraioaP/+/abmO4/Pnz9XVVUBAPr7+yUSyY8fPwAAVCqVSqXq9Dd6LXg8fmZmxvSENG574+PjZ86cOX78+PPnz02+d9ot5eXleDx+amoKOpTL5WQymUKh6PN/8+YNDodra2t7//49Dod78OABnChJSUnaxs7OThKJdPLkSTgKLBYrKCgIjicEnDkTnGv5/v374cOHDYjk5uYymczm5madZzVHJiaTmZ+fTyaTTS9P+2bJkiVRUVHZ2dmenp5sNvvDhw9cLlen5+TkZGZm5rFjxygUCgDg7NmzR48ejY2N9ff3NxpCw/L27duEhIR169bRaDQ+nw8ZCQTC+vXrzb4gWMC8lrGxMX23e4jS0lK5XJ6Tk+Pi4gJJzUO9smQyWUZGhuECX9SUl5fHxsa2trZu2LDB2dk5IiKisbFRn3NOTs7y5csnJiagw7m5uejo6C1btigUCsNRGAyGhkXnbNfA2LPQkam3t5fL5RpwgHktz549Y7PZRsOJxeKioiJt+7xiGhgYyM/PN547ikGysrJGRkZsnYUpXLx4saOjA45nenq6tnGJxihl2iiKok5ERIRIJLJ1FqbQ29sbFhYGx1NnqTjc5xQrQKVSX758aessFoxSqZTL5QbeaxgFVjFJpdIjR454enq6u7vv2LHj169fJsezkKBd4e/vPzAwYOssFkxHR4eOOfVCgFVMaWlpjY2NVVVVT58+lUgkW7ZsmZqaMicq4oL2hrlfTG1BfX09nU43S0J9AvX792/tCfjr168xGMyHDx+gw9HRURKJVFpauvDpnaUE7RCxWFxcXGzrLBaAQqFgMpnw/fft26dtND4yvXjxIiIiYu3atdAhkUhMSUmpq6szuXwRF7RD/Pz8JBKJcvE80PD5/Pj4eDNFjBfTp0+fwsPDAQAfP35sbm4GAISHh3d3d5scEnFB++TatWuLaENBTEzMzp07zRSZ9wZ8bGzsn3/+0fAYHh6GRpFt27b19fX19/eTSKShoSGTQyIuiGJ9dA6684pJKBQaeMFPJpMJBAKRSERq9EZcEMVqKJXKmZkZZ2dndeN/xTQ7O9vY2Nje3l5ZWanxZyQSSSKRAAA4HA5kkUgkJBLJ5DwQF1StxFBHYyWGUqk0c+uFY0Imk3X+NHl5ecePHz958mRgYKDK+F8xcbncK1eu3L17V/s2HxYWpvEziEQi1fTZBBAXVK3EUEd7Jcbg4KDJIRyW2dlZnfbIyEiBQHDw4MF5P6XquW5iYiI9PX14eFjjeU8oFGIwmM7OTuhwaGjIw8NDe8HD5cuX9+/fPzAwYPSpEnFBFOtTWVn55MkTDeO890yvXr3S+dGYwWAEBwdzOJympqbo6OjQ0FDVkiCIvr4+qDTz8vLgpIK4IIqV2b17t7Zx3quBkJCQb9++aY9p1dXVNBrt0KFDDAbDx8eHy+VqLCb09vaOiorCYDBfvnyBM3giLohiZXA4nLYRq+Gh8x7p5uZWUVFRUVFhQFooFDKZTJib1REXRLEHEFs1MD4+XldXR6PR7FYQxdIgU0xfv36lUqkUCoXBYNinIIoVQKaYmpqa4uPja2trkfqAgLggihVAZqsTk8lERMdygihWAF1piYIYaDEZwv47dNkV84oJh8PNzc3ZKhV7w5wOXXK5/MmTJxZNzygtLS1m9lvSh94t8BovMVNSUqzyBnUR0N7eLhAIVIfQ8r2+vj44f3v37l2hUGix1GAxNDRkeHuuyQgEgqtXr2rbNYvp3r17J06cGBwctEQSixqoszGPxzPqOT09nZqaqmFksVi7du2Sy+XXr19ftWoVDocjkUgaH5EWxKNHj5ycnNra2qDD8fHxwMDAgoICdZ+CggLVN1BEmJ2dbWtro9PpOttB6ejP1N3dfe7cOXOaPv0vMdqhS0VJSUl1dbWG0Sb9u8Ri8YEDB4wmDJ+8vDw2m63vf8Cxmn2Zg9EOXSpiYmKkUqmG0Vb9u5KTk+F0u0MER2+pAxOYHboAABKJhEgkurm5aZ+ySf+umJgYRDYLwAEtJuPA79AFAPj58+fKlSt1nrJJ/66AgACob5MVQIvJCAvt0DUxMaG9KQM+iPfvcnd3t9r2YrSYDCESibZu3ZqVlXX69GmYf+Lj42NOW8g1a9aUlJQAAPh8fldXF9QPWB8CgaCsrKy1tdXFxWX9+vU1NTV79+7V8BkcHPT19TU5nwWBFpNeTOvQFRwcbJ3bCsz+Xd3d3ZmZmVbIBwAH6wO+IBbaoUtFWlqa9lJ6W/XvSk5Ohh/UTDBKdM8a0jQ0NHR1deXn59s6EcDn83k8HovFsk449EMv8iQmJvJ4PJlMZutEwK1bt7Kzs60WDi0mi5Cfn19TU2PbHHp6esLDww03PEUW9DZnKczcpmw+o6Ojbm5uCL4jNQpaTCiIgd7mUBADLSYUxPgXNhoxjfg1h+YAAAAASUVORK5CYII=\"></div>"
      ],
      "text/plain": [
       "         1  b x (2 r + x)\n",
       "{0, 0, -(-) -------------}\n",
       "         2      r + x"
      ]
     },
     "execution_count": 109,
     "metadata": {
      "text/html": [],
      "text/plain": []
     },
     "output_type": "execute_result"
    }
   ],
   "source": [
    "(* Expected solution for dipole *)\n",
    "\n",
    "Simplify[{0, 0, -1/2*(b*x*(2*r + x))/(r + x)}]"
   ]
  }
 ],
 "metadata": {
  "colab": {
   "collapsed_sections": [
    "myt0_gMIOq7b",
    "5d97819c"
   ],
   "name": "03_frequency.ipynb",
   "provenance": []
  },
  "kernelspec": {
   "display_name": "Python 3 (ipykernel)",
   "language": "python",
   "name": "python3"
  },
  "language_info": {
   "codemirror_mode": {
    "name": "ipython",
    "version": 3
   },
   "file_extension": ".py",
   "mimetype": "text/x-python",
   "name": "python",
   "nbconvert_exporter": "python",
   "pygments_lexer": "ipython3",
   "version": "3.12.1"
  },
  "latex_envs": {
   "LaTeX_envs_menu_present": true,
   "autoclose": false,
   "autocomplete": true,
   "bibliofile": "biblio.bib",
   "cite_by": "apalike",
   "current_citInitial": 1,
   "eqLabelWithNumbers": true,
   "eqNumInitial": 1,
   "hotkeys": {
    "equation": "Ctrl-E",
    "itemize": "Ctrl-I"
   },
   "labels_anchors": false,
   "latex_user_defs": false,
   "report_style_numbering": false,
   "user_envs_cfg": false
  }
 },
 "nbformat": 4,
 "nbformat_minor": 5
}
