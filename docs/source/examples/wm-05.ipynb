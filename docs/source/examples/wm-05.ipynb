{
 "cells": [
  {
   "cell_type": "markdown",
   "id": "83a0f19d-027c-461d-b506-1fdfce817ce2",
   "metadata": {},
   "source": [
    "# WM-05: Vector potential and magnetic field in curvilinear coordinates (helix reference curve)"
   ]
  },
  {
   "cell_type": "code",
   "execution_count": 1,
   "id": "df0b6d1d-8b8f-4747-ad14-e04c22178c1e",
   "metadata": {},
   "outputs": [],
   "source": [
    "(* In this example properties and relations between vector potential and magnetic field are explored in curvilinear coordinates *)\n",
    "(* Curvilinear coordinates are constructed using Frenet Serret frame around the reference curve *)\n",
    "(* The reference curve is chosen to be a helix parameterized by its arc length *)"
   ]
  },
  {
   "cell_type": "code",
   "execution_count": 4,
   "id": "91a150a7-b063-4e6b-bb68-47344c0d97fe",
   "metadata": {},
   "outputs": [],
   "source": [
    "(* Differential operations in curvilinear coordinates *)\n",
    "\n",
    "(* Gradient *)\n",
    "(* Input  : scalar *)\n",
    "(* Output : covariant vector *)\n",
    "\n",
    "ClearAll[grad] ;\n",
    "grad[sqrt_][scalar_, coordinates_] :=  D[scalar, {coordinates}] ;\n",
    "\n",
    "(* Divergence *)\n",
    "(* Input  : contravariant vector *)\n",
    "(* Output : scalar *)\n",
    "\n",
    "ClearAll[div] ;\n",
    "div[sqrt_][vector_, coordinates_] := 1/sqrt*Div[sqrt*vector, coordinates] ;\n",
    "\n",
    "(* Curl *)\n",
    "(* Input  : covariant vector *)\n",
    "(* Output : contravariant vector *)\n",
    "\n",
    "ClearAll[curl] ;\n",
    "curl[sqrt_][vector_, coordinates_] := 1/sqrt*Curl[vector, coordinates] ;\n",
    "\n",
    "(* Laplacian *)\n",
    "(* Input  : scalar *)\n",
    "(* Output : scalar *)\n",
    "\n",
    "ClearAll[laplacian] ;\n",
    "laplacian[sqrt_, inverse_][scalar_, coordinates_] := div[sqrt][inverse . grad[sqrt][scalar, coordinates], coordinates] ;"
   ]
  },
  {
   "cell_type": "code",
   "execution_count": 25,
   "id": "5066db38-1b84-49ba-8cda-f8c532d46eda",
   "metadata": {},
   "outputs": [],
   "source": [
    "(* Define field and vector potential in (qx, qy, qz) cartesian coordinates *)\n",
    "(* Sextupole (cartesian) *)\n",
    "\n",
    "{aqx, aqy, aqz} = {0, 0, -(kn*(qx^3/3 - qx*qy^2)) - ks*(-(qx^2*qy) + qy^3/3)} ;\n",
    "{bqx, bqy, bqz} = {2*kn*qx*qy + ks*(qx^2 - qy^2), -2*ks*qx*qy + kn*(qx^2 - qy^2), 0} ;"
   ]
  },
  {
   "cell_type": "code",
   "execution_count": 29,
   "id": "d6268f34-8751-489a-a773-b399e3abd7d5",
   "metadata": {},
   "outputs": [
    {
     "data": {
      "text/html": [
       "<style>\n",
       "\t\t\t\t\t\t\t\t\t\t\t\t\t.grid-container {\n",
       "\t\t\t\t\t\t\t\t\t\t\t\t\t\tdisplay: inline-grid;\n",
       "\t\t\t\t\t\t\t\t\t\t\t\t\t\tgrid-template-columns: auto;\n",
       "\t\t\t\t\t\t\t\t\t\t\t\t\t}\n",
       "\t\t\t\t\t\t\t\t\t\t\t\t</style>\n",
       "\n",
       "\t\t\t\t\t\t\t\t\t\t\t\t<div><div class=\"grid-container\"><div class=\"grid-item\"><pre style=\"&#102;&#111;&#110;&#116;&#45;&#102;&#97;&#109;&#105;&#108;&#121;&#58;&#32;&#34;&#67;&#111;&#117;&#114;&#105;&#101;&#114;&#32;&#78;&#101;&#119;&#34;&#44;&#67;&#111;&#117;&#114;&#105;&#101;&#114;&#44;&#109;&#111;&#110;&#111;&#115;&#112;&#97;&#99;&#101;&#59;\">&#48;</pre></div><div class=\"grid-item\"><pre style=\"&#102;&#111;&#110;&#116;&#45;&#102;&#97;&#109;&#105;&#108;&#121;&#58;&#32;&#34;&#67;&#111;&#117;&#114;&#105;&#101;&#114;&#32;&#78;&#101;&#119;&#34;&#44;&#67;&#111;&#117;&#114;&#105;&#101;&#114;&#44;&#109;&#111;&#110;&#111;&#115;&#112;&#97;&#99;&#101;&#59;\">&#123;&#48;&#44;&#32;&#48;&#44;&#32;&#48;&#125;</pre></div><div class=\"grid-item\"><pre style=\"&#102;&#111;&#110;&#116;&#45;&#102;&#97;&#109;&#105;&#108;&#121;&#58;&#32;&#34;&#67;&#111;&#117;&#114;&#105;&#101;&#114;&#32;&#78;&#101;&#119;&#34;&#44;&#67;&#111;&#117;&#114;&#105;&#101;&#114;&#44;&#109;&#111;&#110;&#111;&#115;&#112;&#97;&#99;&#101;&#59;\">&#48;</pre></div></div></div>"
      ],
      "text/plain": [
       "0\n",
       "{0, 0, 0}\n",
       "0"
      ]
     },
     "execution_count": 31,
     "metadata": {
      "text/html": [],
      "text/plain": []
     },
     "output_type": "execute_result"
    }
   ],
   "source": [
    "(* Test *)\n",
    "(* Note, laplasian of the last vector field component being zero is a special case for this transverse field in cartesian frame *)\n",
    "\n",
    "Simplify[Div[{bqx, bqy, bqz}, {qx, qy, qz}]]\n",
    "Simplify[{bqx, bqy, bqz} - Curl[{aqx, aqy, aqz}, {qx, qy, qz}]]\n",
    "Simplify[Laplacian[Last[{aqx, aqy, aqz}], {qx, qy, qz}]]"
   ]
  },
  {
   "cell_type": "code",
   "execution_count": 34,
   "id": "a33e702a-6e3c-4cb6-b425-fbbac751dbe4",
   "metadata": {},
   "outputs": [
    {
     "data": {
      "text/html": [
       "<div><pre style=\"&#102;&#111;&#110;&#116;&#45;&#102;&#97;&#109;&#105;&#108;&#121;&#58;&#32;&#34;&#67;&#111;&#117;&#114;&#105;&#101;&#114;&#32;&#78;&#101;&#119;&#34;&#44;&#67;&#111;&#117;&#114;&#105;&#101;&#114;&#44;&#109;&#111;&#110;&#111;&#115;&#112;&#97;&#99;&#101;&#59;\">&#123;&#48;&#44;&#32;&#48;&#44;&#32;&#48;&#125;</pre></div>"
      ],
      "text/plain": [
       "{0, 0, 0}"
      ]
     },
     "execution_count": 46,
     "metadata": {
      "text/html": [],
      "text/plain": []
     },
     "output_type": "execute_result"
    }
   ],
   "source": [
    "(* Define the reference curve *)\n",
    "(* Note, the reference curve should be parameterized by its arclength *)\n",
    "\n",
    "$Assumptions = {r > 0, r + x > 0, r + y > 0} ;\n",
    "\n",
    "ClearAll[rx] ;\n",
    "ClearAll[ry] ;\n",
    "ClearAll[rz] ;\n",
    "\n",
    "(* Helix *)\n",
    "\n",
    "a = b = r ;\n",
    "rx[s_] := a (1 - Cos[s/Sqrt[a^2 + b^2]])\n",
    "ry[s_] := a Sin[s/Sqrt[a^2 + b^2]]\n",
    "rz[s_] := b s /Sqrt[a^2 + b^2]\n",
    "\n",
    "rxyz = {rx[s], ry[s], rz[s]} ;\n",
    "\n",
    "rxyz /. s -> 0"
   ]
  },
  {
   "cell_type": "code",
   "execution_count": 47,
   "id": "3a2a3f60-b622-4521-a407-43580d3d5209",
   "metadata": {},
   "outputs": [
    {
     "data": {
      "text/html": [
       "<div><img alt=\"Output\" src=\"data:image/png;base64,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\"></div>"
      ],
      "text/plain": [
       "-Graphics3D-"
      ]
     },
     "execution_count": 48,
     "metadata": {
      "text/html": [],
      "text/plain": []
     },
     "output_type": "execute_result"
    }
   ],
   "source": [
    "(* Plot *)\n",
    "\n",
    "ParametricPlot3D[rxyz /. r -> 1, {s, 0, 25}, ImageSize -> Medium, Boxed -> False, Axes -> False, PlotStyle -> Black]"
   ]
  },
  {
   "cell_type": "code",
   "execution_count": 49,
   "id": "2239c198-b5fd-45a2-afcd-db02abeabd3a",
   "metadata": {},
   "outputs": [],
   "source": [
    "(* Compute Frenet Serret data for the reference curve *)\n",
    "(* Note, generic curve can be used with FrenetSerretSystem function *)\n",
    "\n",
    "{{curvature, torsion}, {tangent, normal, binormal}} = Simplify[FrenetSerretSystem[rxyz, s]] ;\n",
    "\n",
    "(* Accelerator reference frame convension (inward-pointing normal) *)\n",
    "\n",
    "normal = - normal ;\n",
    "binormal = Cross[tangent, normal] ;"
   ]
  },
  {
   "cell_type": "code",
   "execution_count": 55,
   "id": "e3a6fd22-1d4f-44b0-ab5a-d20e87df7337",
   "metadata": {},
   "outputs": [
    {
     "data": {
      "text/html": [
       "<div><img alt=\"Output\" src=\"data:image/png;base64,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\"></div>"
      ],
      "text/plain": [
       "  1     1  1\n",
       "{---, -(-) -}\n",
       " 2 r    2  r"
      ]
     },
     "execution_count": 56,
     "metadata": {
      "text/html": [],
      "text/plain": []
     },
     "output_type": "execute_result"
    }
   ],
   "source": [
    "(* Curvature and torsion *)\n",
    "\n",
    "Simplify[{curvature, torsion}]"
   ]
  },
  {
   "cell_type": "code",
   "execution_count": 57,
   "id": "0ca256cb-0a22-4c6d-81be-7059424662ce",
   "metadata": {},
   "outputs": [],
   "source": [
    "(* Coordinates (x, y, s) are contravariant coordinates *)\n",
    "\n",
    "coordinates = {x, y, s} ;"
   ]
  },
  {
   "cell_type": "code",
   "execution_count": 59,
   "id": "902c616d-b6e6-4508-91e9-d20557f0cd1c",
   "metadata": {},
   "outputs": [
    {
     "data": {
      "text/html": [
       "<style>\n",
       "\t\t\t\t\t\t\t\t\t\t\t\t\t.grid-container {\n",
       "\t\t\t\t\t\t\t\t\t\t\t\t\t\tdisplay: inline-grid;\n",
       "\t\t\t\t\t\t\t\t\t\t\t\t\t\tgrid-template-columns: auto;\n",
       "\t\t\t\t\t\t\t\t\t\t\t\t\t}\n",
       "\t\t\t\t\t\t\t\t\t\t\t\t</style>\n",
       "\n",
       "\t\t\t\t\t\t\t\t\t\t\t\t<div><div class=\"grid-container\"><div class=\"grid-item\"><pre style=\"&#102;&#111;&#110;&#116;&#45;&#102;&#97;&#109;&#105;&#108;&#121;&#58;&#32;&#34;&#67;&#111;&#117;&#114;&#105;&#101;&#114;&#32;&#78;&#101;&#119;&#34;&#44;&#67;&#111;&#117;&#114;&#105;&#101;&#114;&#44;&#109;&#111;&#110;&#111;&#115;&#112;&#97;&#99;&#101;&#59;\">&#48;</pre></div><div class=\"grid-item\"><pre style=\"&#102;&#111;&#110;&#116;&#45;&#102;&#97;&#109;&#105;&#108;&#121;&#58;&#32;&#34;&#67;&#111;&#117;&#114;&#105;&#101;&#114;&#32;&#78;&#101;&#119;&#34;&#44;&#67;&#111;&#117;&#114;&#105;&#101;&#114;&#44;&#109;&#111;&#110;&#111;&#115;&#112;&#97;&#99;&#101;&#59;\">&#123;&#48;&#44;&#32;&#48;&#44;&#32;&#48;&#125;</pre></div><div class=\"grid-item\"><pre style=\"&#102;&#111;&#110;&#116;&#45;&#102;&#97;&#109;&#105;&#108;&#121;&#58;&#32;&#34;&#67;&#111;&#117;&#114;&#105;&#101;&#114;&#32;&#78;&#101;&#119;&#34;&#44;&#67;&#111;&#117;&#114;&#105;&#101;&#114;&#44;&#109;&#111;&#110;&#111;&#115;&#112;&#97;&#99;&#101;&#59;\">&#123;&#48;&#44;&#32;&#48;&#44;&#32;&#48;&#125;</pre></div></div></div>"
      ],
      "text/plain": [
       "0\n",
       "{0, 0, 0}\n",
       "{0, 0, 0}"
      ]
     },
     "execution_count": 81,
     "metadata": {
      "text/html": [],
      "text/plain": []
     },
     "output_type": "execute_result"
    }
   ],
   "source": [
    "(* Define radius vector expressed in (x, y, s) curvilinear coordinates *)\n",
    "(* Coordinates (x, y, s) are contravariant coordinates *)\n",
    "\n",
    "radius = Simplify[rxyz + x normal + y binormal] ;\n",
    "\n",
    "(* Covariant basis *)\n",
    "\n",
    "{ea, eb, ec} = Transpose[D[radius, {coordinates}]] ;\n",
    "\n",
    "(* Metric tensor *)\n",
    "\n",
    "forward = Simplify[Outer[Dot, {ea, eb, ec}, {ea, eb, ec}, 1]] ;\n",
    "\n",
    "(* Metric tensor inverse *)\n",
    "\n",
    "inverse = Simplify[Inverse[forward]] ;\n",
    "\n",
    "(* Scaling factor *)\n",
    "\n",
    "sqrt = Simplify[Sqrt[Det[forward]]] ;\n",
    "\n",
    "(* Contravariant basis *)\n",
    "\n",
    "{eA, eB, eC} = Transpose[inverse] . {ea, eb, ec} ;\n",
    "\n",
    "(* Transformation *)\n",
    "\n",
    "transform = Thread[{qx, qy, qz} -> radius] ;\n",
    "\n",
    "(* Construct covariant components *)\n",
    "\n",
    "{Aa, Ab, Ac} = Simplify[{ea, eb, ec} . {aqx, aqy, aqz} /. transform] ;\n",
    "{Ba, Bb, Bc} = Simplify[{ea, eb, ec} . {bqx, bqy, bqz} /. transform] ;\n",
    "\n",
    "(* Construct contravariant components *)\n",
    "\n",
    "{AA, AB, AC}  = Simplify[Transpose[inverse . {Aa, Ab, Ac}] ] ;\n",
    "{BA, BB, BC}  = Simplify[Transpose[inverse . {Ba, Bb, Bc}] ] ;\n",
    "\n",
    "(* Divergence of magnetic field *)\n",
    "\n",
    "Simplify@PowerExpand@Simplify[div[sqrt][{BA, BB, BC}, coordinates]]\n",
    "\n",
    "(* Curl of vector potential *)\n",
    "\n",
    "Simplify@PowerExpand@Simplify[{BA, BB, BC} - curl[sqrt][{Aa, Ab, Ac}, coordinates]]\n",
    "\n",
    "(* Vector potential gauge *)\n",
    "\n",
    "Simplify@PowerExpand@Simplify[{BA, BB, BC} - curl[sqrt][{Aa, Ab, Ac} + grad[sqrt][f @@ coordinates, coordinates], coordinates]]"
   ]
  },
  {
   "cell_type": "code",
   "execution_count": 86,
   "id": "9f342627-fbc7-42ec-8143-327cd7f03c01",
   "metadata": {},
   "outputs": [],
   "source": [
    "(* Transformation to cartesian *)\n",
    "\n",
    "{acx, acy, acz} = Simplify[Dot[{AA, AB, AC}, {ea, eb, ec}]] ;\n",
    "{bcx, bcy, bcz} = Simplify[Dot[{BA, BB, BC}, {ea, eb, ec}]] ;"
   ]
  },
  {
   "cell_type": "code",
   "execution_count": 89,
   "id": "d682bde8-b0a5-4097-96fa-c99274fe0455",
   "metadata": {},
   "outputs": [
    {
     "data": {
      "text/html": [
       "<style>\n",
       "\t\t\t\t\t\t\t\t\t\t\t\t\t.grid-container {\n",
       "\t\t\t\t\t\t\t\t\t\t\t\t\t\tdisplay: inline-grid;\n",
       "\t\t\t\t\t\t\t\t\t\t\t\t\t\tgrid-template-columns: auto;\n",
       "\t\t\t\t\t\t\t\t\t\t\t\t\t}\n",
       "\t\t\t\t\t\t\t\t\t\t\t\t</style>\n",
       "\n",
       "\t\t\t\t\t\t\t\t\t\t\t\t<div><div class=\"grid-container\"><div class=\"grid-item\"><pre style=\"&#102;&#111;&#110;&#116;&#45;&#102;&#97;&#109;&#105;&#108;&#121;&#58;&#32;&#34;&#67;&#111;&#117;&#114;&#105;&#101;&#114;&#32;&#78;&#101;&#119;&#34;&#44;&#67;&#111;&#117;&#114;&#105;&#101;&#114;&#44;&#109;&#111;&#110;&#111;&#115;&#112;&#97;&#99;&#101;&#59;\">&#123;&#48;&#44;&#32;&#48;&#44;&#32;&#48;&#125;</pre></div><div class=\"grid-item\"><pre style=\"&#102;&#111;&#110;&#116;&#45;&#102;&#97;&#109;&#105;&#108;&#121;&#58;&#32;&#34;&#67;&#111;&#117;&#114;&#105;&#101;&#114;&#32;&#78;&#101;&#119;&#34;&#44;&#67;&#111;&#117;&#114;&#105;&#101;&#114;&#44;&#109;&#111;&#110;&#111;&#115;&#112;&#97;&#99;&#101;&#59;\">&#123;&#48;&#44;&#32;&#48;&#44;&#32;&#48;&#125;</pre></div></div></div>"
      ],
      "text/plain": [
       "{0, 0, 0}\n",
       "{0, 0, 0}"
      ]
     },
     "execution_count": 90,
     "metadata": {
      "text/html": [],
      "text/plain": []
     },
     "output_type": "execute_result"
    }
   ],
   "source": [
    "(* Compare with initial *)\n",
    "\n",
    "Simplify[{acx, acy, acz} - {aqx, aqy, aqz} /. transform]\n",
    "Simplify[{bcx, bcy, bcz} - {bqx, bqy, bqz} /. transform]"
   ]
  },
  {
   "cell_type": "code",
   "execution_count": 92,
   "id": "c0b2a686-2d3d-47c8-9e1c-3e36fc0c6953",
   "metadata": {},
   "outputs": [
    {
     "data": {
      "text/html": [
       "<style>\n",
       "\t\t\t\t\t\t\t\t\t\t\t\t\t.grid-container {\n",
       "\t\t\t\t\t\t\t\t\t\t\t\t\t\tdisplay: inline-grid;\n",
       "\t\t\t\t\t\t\t\t\t\t\t\t\t\tgrid-template-columns: auto;\n",
       "\t\t\t\t\t\t\t\t\t\t\t\t\t}\n",
       "\t\t\t\t\t\t\t\t\t\t\t\t</style>\n",
       "\n",
       "\t\t\t\t\t\t\t\t\t\t\t\t<div><div class=\"grid-container\"><div class=\"grid-item\"><pre style=\"&#102;&#111;&#110;&#116;&#45;&#102;&#97;&#109;&#105;&#108;&#121;&#58;&#32;&#34;&#67;&#111;&#117;&#114;&#105;&#101;&#114;&#32;&#78;&#101;&#119;&#34;&#44;&#67;&#111;&#117;&#114;&#105;&#101;&#114;&#44;&#109;&#111;&#110;&#111;&#115;&#112;&#97;&#99;&#101;&#59;\">&#48;</pre></div><div class=\"grid-item\"><pre style=\"&#102;&#111;&#110;&#116;&#45;&#102;&#97;&#109;&#105;&#108;&#121;&#58;&#32;&#34;&#67;&#111;&#117;&#114;&#105;&#101;&#114;&#32;&#78;&#101;&#119;&#34;&#44;&#67;&#111;&#117;&#114;&#105;&#101;&#114;&#44;&#109;&#111;&#110;&#111;&#115;&#112;&#97;&#99;&#101;&#59;\">&#48;</pre></div></div></div>"
      ],
      "text/plain": [
       "0\n",
       "0"
      ]
     },
     "execution_count": 95,
     "metadata": {
      "text/html": [],
      "text/plain": []
     },
     "output_type": "execute_result"
    }
   ],
   "source": [
    "(* Projections (orthonormal FS basis) *)\n",
    "\n",
    "{A1, A2, A3} = Simplify[Dot[{normal, binormal, tangent}, {acx, acy, acz}]] ;\n",
    "{B1, B2, B3} = Simplify[Dot[{normal, binormal, tangent}, {bcx, bcy, bcz}]] ;\n",
    "\n",
    "Simplify[Total[{aqx, aqy, aqz}^2] - Total[{A1, A2, A3}^2] /. transform]\n",
    "Simplify[Total[{bqx, bqy, bqz}^2] - Total[{B1, B2, B3}^2] /. transform]"
   ]
  }
 ],
 "metadata": {
  "colab": {
   "collapsed_sections": [
    "myt0_gMIOq7b",
    "5d97819c"
   ],
   "name": "03_frequency.ipynb",
   "provenance": []
  },
  "kernelspec": {
   "display_name": "Python 3 (ipykernel)",
   "language": "python",
   "name": "python3"
  },
  "language_info": {
   "codemirror_mode": {
    "name": "ipython",
    "version": 3
   },
   "file_extension": ".py",
   "mimetype": "text/x-python",
   "name": "python",
   "nbconvert_exporter": "python",
   "pygments_lexer": "ipython3",
   "version": "3.12.1"
  },
  "latex_envs": {
   "LaTeX_envs_menu_present": true,
   "autoclose": false,
   "autocomplete": true,
   "bibliofile": "biblio.bib",
   "cite_by": "apalike",
   "current_citInitial": 1,
   "eqLabelWithNumbers": true,
   "eqNumInitial": 1,
   "hotkeys": {
    "equation": "Ctrl-E",
    "itemize": "Ctrl-I"
   },
   "labels_anchors": false,
   "latex_user_defs": false,
   "report_style_numbering": false,
   "user_envs_cfg": false
  }
 },
 "nbformat": 4,
 "nbformat_minor": 5
}
