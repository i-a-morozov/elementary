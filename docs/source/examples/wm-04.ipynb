{
 "cells": [
  {
   "cell_type": "markdown",
   "id": "3fcd1fc8-9a8a-42de-a976-46414e54d450",
   "metadata": {},
   "source": [
    "# WM-04: Vector potential and magnetic field in curvilinear coordinates (circle reference curve)"
   ]
  },
  {
   "cell_type": "code",
   "execution_count": 1,
   "id": "9ee3864f-dee2-4d32-8000-e68a5ffd3e95",
   "metadata": {},
   "outputs": [],
   "source": [
    "(* In this example properties and relations between vector potential and magnetic field are explored in curvilinear coordinates *)\n",
    "(* Curvilinear coordinates are constructed using Frenet Serret frame around the reference curve *)\n",
    "(* The reference curve is chosen to be a circle parameterized by its arc length *)"
   ]
  },
  {
   "cell_type": "code",
   "execution_count": 4,
   "id": "a4c1146b-bb22-4525-bcf5-d670ae711dd6",
   "metadata": {},
   "outputs": [],
   "source": [
    "(* Differential operations in curvilinear coordinates *)\n",
    "\n",
    "(* Gradient *)\n",
    "(* Input  : scalar *)\n",
    "(* Output : covariant vector *)\n",
    "\n",
    "ClearAll[grad] ;\n",
    "grad[sqrt_][scalar_, coordinates_] :=  D[scalar, {coordinates}] ;\n",
    "\n",
    "(* Divergence *)\n",
    "(* Input  : contravariant vector *)\n",
    "(* Output : scalar *)\n",
    "\n",
    "ClearAll[div] ;\n",
    "div[sqrt_][vector_, coordinates_] := 1/sqrt*Div[sqrt*vector, coordinates] ;\n",
    "\n",
    "(* Curl *)\n",
    "(* Input  : covariant vector *)\n",
    "(* Output : contravariant vector *)\n",
    "\n",
    "ClearAll[curl] ;\n",
    "curl[sqrt_][vector_, coordinates_] := 1/sqrt*Curl[vector, coordinates] ;\n",
    "\n",
    "(* Laplacian *)\n",
    "(* Input  : scalar *)\n",
    "(* Output : scalar *)\n",
    "\n",
    "ClearAll[laplacian] ;\n",
    "laplacian[sqrt_, inverse_][scalar_, coordinates_] := div[sqrt][inverse . grad[sqrt][scalar, coordinates], coordinates] ;"
   ]
  },
  {
   "cell_type": "code",
   "execution_count": 25,
   "id": "6814bef6-5bea-4994-8052-a46f2448037a",
   "metadata": {},
   "outputs": [],
   "source": [
    "(* Define field and vector potential in (qx, qy, qz) cartesian coordinates *)\n",
    "(* Sextupole (cartesian) *)\n",
    "\n",
    "{aqx, aqy, aqz} = {0, 0, -(kn*(qx^3/3 - qx*qy^2)) - ks*(-(qx^2*qy) + qy^3/3)} ;\n",
    "{bqx, bqy, bqz} = {2*kn*qx*qy + ks*(qx^2 - qy^2), -2*ks*qx*qy + kn*(qx^2 - qy^2), 0} ;"
   ]
  },
  {
   "cell_type": "code",
   "execution_count": 29,
   "id": "86efd435-89c3-4b1f-9055-088a06d38f48",
   "metadata": {},
   "outputs": [
    {
     "data": {
      "text/html": [
       "<style>\n",
       "\t\t\t\t\t\t\t\t\t\t\t\t\t.grid-container {\n",
       "\t\t\t\t\t\t\t\t\t\t\t\t\t\tdisplay: inline-grid;\n",
       "\t\t\t\t\t\t\t\t\t\t\t\t\t\tgrid-template-columns: auto;\n",
       "\t\t\t\t\t\t\t\t\t\t\t\t\t}\n",
       "\t\t\t\t\t\t\t\t\t\t\t\t</style>\n",
       "\n",
       "\t\t\t\t\t\t\t\t\t\t\t\t<div><div class=\"grid-container\"><div class=\"grid-item\"><pre style=\"&#102;&#111;&#110;&#116;&#45;&#102;&#97;&#109;&#105;&#108;&#121;&#58;&#32;&#34;&#67;&#111;&#117;&#114;&#105;&#101;&#114;&#32;&#78;&#101;&#119;&#34;&#44;&#67;&#111;&#117;&#114;&#105;&#101;&#114;&#44;&#109;&#111;&#110;&#111;&#115;&#112;&#97;&#99;&#101;&#59;\">&#48;</pre></div><div class=\"grid-item\"><pre style=\"&#102;&#111;&#110;&#116;&#45;&#102;&#97;&#109;&#105;&#108;&#121;&#58;&#32;&#34;&#67;&#111;&#117;&#114;&#105;&#101;&#114;&#32;&#78;&#101;&#119;&#34;&#44;&#67;&#111;&#117;&#114;&#105;&#101;&#114;&#44;&#109;&#111;&#110;&#111;&#115;&#112;&#97;&#99;&#101;&#59;\">&#123;&#48;&#44;&#32;&#48;&#44;&#32;&#48;&#125;</pre></div><div class=\"grid-item\"><pre style=\"&#102;&#111;&#110;&#116;&#45;&#102;&#97;&#109;&#105;&#108;&#121;&#58;&#32;&#34;&#67;&#111;&#117;&#114;&#105;&#101;&#114;&#32;&#78;&#101;&#119;&#34;&#44;&#67;&#111;&#117;&#114;&#105;&#101;&#114;&#44;&#109;&#111;&#110;&#111;&#115;&#112;&#97;&#99;&#101;&#59;\">&#48;</pre></div></div></div>"
      ],
      "text/plain": [
       "0\n",
       "{0, 0, 0}\n",
       "0"
      ]
     },
     "execution_count": 31,
     "metadata": {
      "text/html": [],
      "text/plain": []
     },
     "output_type": "execute_result"
    }
   ],
   "source": [
    "(* Test *)\n",
    "(* Note, laplasian of the last vector field component being zero is a special case for this transverse field in cartesian frame *)\n",
    "\n",
    "Simplify[Div[{bqx, bqy, bqz}, {qx, qy, qz}]]\n",
    "Simplify[{bqx, bqy, bqz} - Curl[{aqx, aqy, aqz}, {qx, qy, qz}]]\n",
    "Simplify[Laplacian[Last[{aqx, aqy, aqz}], {qx, qy, qz}]]"
   ]
  },
  {
   "cell_type": "code",
   "execution_count": 34,
   "id": "b0b810b4-b2a9-4c47-9261-a691716d3ffd",
   "metadata": {},
   "outputs": [
    {
     "data": {
      "text/html": [
       "<div><pre style=\"&#102;&#111;&#110;&#116;&#45;&#102;&#97;&#109;&#105;&#108;&#121;&#58;&#32;&#34;&#67;&#111;&#117;&#114;&#105;&#101;&#114;&#32;&#78;&#101;&#119;&#34;&#44;&#67;&#111;&#117;&#114;&#105;&#101;&#114;&#44;&#109;&#111;&#110;&#111;&#115;&#112;&#97;&#99;&#101;&#59;\">&#123;&#48;&#44;&#32;&#48;&#44;&#32;&#48;&#125;</pre></div>"
      ],
      "text/plain": [
       "{0, 0, 0}"
      ]
     },
     "execution_count": 45,
     "metadata": {
      "text/html": [],
      "text/plain": []
     },
     "output_type": "execute_result"
    }
   ],
   "source": [
    "(* Define the reference curve *)\n",
    "(* Note, the reference curve should be parameterized by its arclength *)\n",
    "\n",
    "$Assumptions = {r > 0, r + x > 0, r + y > 0} ;\n",
    "\n",
    "ClearAll[rx] ;\n",
    "ClearAll[ry] ;\n",
    "ClearAll[rz] ;\n",
    "\n",
    "(* Circle *)\n",
    "\n",
    "rx[s_] := r (1 - Cos[s/r])\n",
    "ry[s_] := 0\n",
    "rz[s_] := - r Sin[s/r] \n",
    "\n",
    "rxyz = {rx[s], ry[s], rz[s]} ;\n",
    "\n",
    "rxyz /. s -> 0"
   ]
  },
  {
   "cell_type": "code",
   "execution_count": 46,
   "id": "4544ad30-84b2-49cb-a859-af8bd47b8c6c",
   "metadata": {},
   "outputs": [
    {
     "data": {
      "text/html": [
       "<div><img alt=\"Output\" src=\"data:image/png;base64,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\"></div>"
      ],
      "text/plain": [
       "-Graphics3D-"
      ]
     },
     "execution_count": 47,
     "metadata": {
      "text/html": [],
      "text/plain": []
     },
     "output_type": "execute_result"
    }
   ],
   "source": [
    "(* Plot *)\n",
    "\n",
    "ParametricPlot3D[rxyz /. r -> 1, {s, 0, 25}, ImageSize -> Medium, Boxed -> False, Axes -> False, PlotStyle -> Black]"
   ]
  },
  {
   "cell_type": "code",
   "execution_count": 48,
   "id": "346d6afc-244f-4115-9ce3-01266130ccda",
   "metadata": {},
   "outputs": [],
   "source": [
    "(* Compute Frenet Serret data for the reference curve *)\n",
    "(* Note, generic curve can be used with FrenetSerretSystem function *)\n",
    "\n",
    "{{curvature, torsion}, {tangent, normal, binormal}} = Simplify[FrenetSerretSystem[rxyz, s]] ;\n",
    "\n",
    "(* Accelerator reference frame convension (inward-pointing normal) *)\n",
    "\n",
    "normal = - normal ;\n",
    "binormal = Cross[tangent, normal] ;"
   ]
  },
  {
   "cell_type": "code",
   "execution_count": 54,
   "id": "c0de2302-5417-40b7-845f-5ff67bda30fe",
   "metadata": {},
   "outputs": [
    {
     "data": {
      "text/html": [
       "<div><img alt=\"Output\" src=\"data:image/png;base64,iVBORw0KGgoAAAANSUhEUgAAAEAAAAApCAIAAAAK8LgbAAAAzHpUWHRSYXcgcHJvZmlsZSB0eXBlIGV4aWYAAHjabU/bDQMhDPtnio4QkuDAOFxLpW7Q8ZscqCeqWiJ2nAeQxvv1TLcAZ0parKIB5NCmjbuLShOTM7UzntBV8nzzE7fld7fKVcBY/rH7hslcfxYRTyFxg2tZV9paJDz93Gd+rH7ute6LjDbgevrfXMUYBdnUozKZobmuyaUTClMxPHEHvDHjwaR35wEzH4NFh/QYDPCwvXskiBuP+ILEKdKdbUYOR1yzwKNI5eNbje98ABIpWpbmD7e6AAAACXBIWXMAAA7EAAAOxAGVKw4bAAAAPHRFWHRTb2Z0d2FyZQBDcmVhdGVkIHdpdGggdGhlIFdvbGZyYW0gTGFuZ3VhZ2UgOiB3d3cud29sZnJhbS5jb21coqaFAAAAIXRFWHRDcmVhdGlvbiBUaW1lADIwMjU6MDc6MDcgMjM6MjY6MziJeSAfAAAEMUlEQVRYhe2YzUsyXxTHr5ZvREaMFbSwiBaGvYhFiW2KKAIVDEyGqBZFSC3KNhbkH1ARBKFFGS2iRRQhErRQyUWQSUiGlAupRZkINQpmmDbls/BHT45pzlNTBr/PzjPn3Ps99+XMGUEMD16vd319vaOjAwDgdrtxxRJELsDD8vLy6upqJBLBFUUs/5C0xWIBWbMD5J9ewM/yfwI/za9PAFuFQqHQ3NxcMBhsbW2VSCQ/oimZsbGxSCQCw3BLSwv2GeZS9/T02O329Bf/R6oQiqLDw8NHR0cYe8IRQlGUQqHw+fzvWlkc5OTkqNVqg8GAsSccIQRBWCxWqiEQBHG5XAAAp9MJALDb7T6fj0wmC4VCAgS/Q2lp6fX1NcaYkEAsFksTb7FYuru7X3/CMAwAoNFoj4+PXyfyA5IV4mglZDJZ+gx/hGwpo6FQaGRkhMVi5efnd3V1JR+VVGRLAjAMG43GlZWVnZ0dBEHa2trC4XAmgfi6UYI4ODjY29s7PT2tqakBAAgEgoqKCp1ONzo6+mFsVuzA7u5ufX19XD0AgMlkymSy5Ir5LlmRwNnZGY/HAwA4nc74W5LH452fn2cSm3CEgsFgQUEBERLTEwgE4ssvFos9Ho/X64UgyO/3J3t+UEatVmtDQwNxQj+Ez+fT6XQmk5mqXsdisUgkQqPRXi3/JRCNRo1Go81m02q1yWEGg8HhcKSalcFgqFSqz+iGIAhBEACAXq+PWxAEgSAo2VOpVI6Pj09OTrLZ7IQETCbT7Ozs2toaiURKDmtubq6rq0s1PZn82YtUXV1tNpvfWhwOx+udfktjY+Ph4eHAwMBf/9e27uHhobe3NxAIfFX/OD093dfX5/P5PvS0Wq0kEunk5CT+0+/3FxYWLi0tJXtqtdqtra23loR2en9/X6fTfULzXzweT3yBlEplJv5SqbS8vFyv15vNZqFQWFVVFQ6Hk93kcjnGkrD7lZWVl5eXnzwPcYqLiwUCAYlEcrvdmfhvbGyIRKLBwUGpVFpSUmIymeh0erIbhULBWHIxj6PR6D+LxgxltVoVCsXz83Mm/nl5eRqNRqPR4J2IwBfZ/f29wWAQiUTETQGIS+Di4qKzs7OpqUkqlRI0RRyiEjCbze3t7dvb2+/W5S+EqG5UoVAQNDIGfDugVqvlcvnLy8v8/DyHw6FSqSwW6zs/KZPBvQPBYBCG4dvb24WFBTabfXV19W69+zawZRRF0fQBZrNZLBabTKbc3FwAAIfDIVBdIiiKUqlUjDHhCEEQdHNzk34UBoOh0+ni6r+Z4+NjLpeLMWLvgEQimZiYuLu7SzUKBEFFRUVfry4tT09PNpttZmZmaGgI8wi7kP39/S6Xa3Fxsba2lugSnjkqlYrL5W5ubr5z33C1aFNTU2VlZbhCiCYrvok/w69PgBTLvn8LcfHrd+APSqpverXYh5AAAAAASUVORK5CYII=\"></div>"
      ],
      "text/plain": [
       " 1\n",
       "{-, 0}\n",
       " r"
      ]
     },
     "execution_count": 55,
     "metadata": {
      "text/html": [],
      "text/plain": []
     },
     "output_type": "execute_result"
    }
   ],
   "source": [
    "(* Curvature and torsion *)\n",
    "\n",
    "Simplify[{curvature, torsion}]"
   ]
  },
  {
   "cell_type": "code",
   "execution_count": 56,
   "id": "56fb153b-af99-444b-856b-dde3736a9811",
   "metadata": {},
   "outputs": [],
   "source": [
    "(* Coordinates (x, y, s) are contravariant coordinates *)\n",
    "\n",
    "coordinates = {x, y, s} ;"
   ]
  },
  {
   "cell_type": "code",
   "execution_count": 58,
   "id": "511bc3e5-2bf4-455b-8c1b-413078ea95dc",
   "metadata": {},
   "outputs": [
    {
     "data": {
      "text/html": [
       "<style>\n",
       "\t\t\t\t\t\t\t\t\t\t\t\t\t.grid-container {\n",
       "\t\t\t\t\t\t\t\t\t\t\t\t\t\tdisplay: inline-grid;\n",
       "\t\t\t\t\t\t\t\t\t\t\t\t\t\tgrid-template-columns: auto;\n",
       "\t\t\t\t\t\t\t\t\t\t\t\t\t}\n",
       "\t\t\t\t\t\t\t\t\t\t\t\t</style>\n",
       "\n",
       "\t\t\t\t\t\t\t\t\t\t\t\t<div><div class=\"grid-container\"><div class=\"grid-item\"><pre style=\"&#102;&#111;&#110;&#116;&#45;&#102;&#97;&#109;&#105;&#108;&#121;&#58;&#32;&#34;&#67;&#111;&#117;&#114;&#105;&#101;&#114;&#32;&#78;&#101;&#119;&#34;&#44;&#67;&#111;&#117;&#114;&#105;&#101;&#114;&#44;&#109;&#111;&#110;&#111;&#115;&#112;&#97;&#99;&#101;&#59;\">&#48;</pre></div><div class=\"grid-item\"><pre style=\"&#102;&#111;&#110;&#116;&#45;&#102;&#97;&#109;&#105;&#108;&#121;&#58;&#32;&#34;&#67;&#111;&#117;&#114;&#105;&#101;&#114;&#32;&#78;&#101;&#119;&#34;&#44;&#67;&#111;&#117;&#114;&#105;&#101;&#114;&#44;&#109;&#111;&#110;&#111;&#115;&#112;&#97;&#99;&#101;&#59;\">&#123;&#48;&#44;&#32;&#48;&#44;&#32;&#48;&#125;</pre></div><div class=\"grid-item\"><pre style=\"&#102;&#111;&#110;&#116;&#45;&#102;&#97;&#109;&#105;&#108;&#121;&#58;&#32;&#34;&#67;&#111;&#117;&#114;&#105;&#101;&#114;&#32;&#78;&#101;&#119;&#34;&#44;&#67;&#111;&#117;&#114;&#105;&#101;&#114;&#44;&#109;&#111;&#110;&#111;&#115;&#112;&#97;&#99;&#101;&#59;\">&#123;&#48;&#44;&#32;&#48;&#44;&#32;&#48;&#125;</pre></div></div></div>"
      ],
      "text/plain": [
       "0\n",
       "{0, 0, 0}\n",
       "{0, 0, 0}"
      ]
     },
     "execution_count": 80,
     "metadata": {
      "text/html": [],
      "text/plain": []
     },
     "output_type": "execute_result"
    }
   ],
   "source": [
    "(* Define radius vector expressed in (x, y, s) curvilinear coordinates *)\n",
    "(* Coordinates (x, y, s) are contravariant coordinates *)\n",
    "\n",
    "radius = Simplify[rxyz + x normal + y binormal] ;\n",
    "\n",
    "(* Covariant basis *)\n",
    "\n",
    "{ea, eb, ec} = Transpose[D[radius, {coordinates}]] ;\n",
    "\n",
    "(* Metric tensor *)\n",
    "\n",
    "forward = Simplify[Outer[Dot, {ea, eb, ec}, {ea, eb, ec}, 1]] ;\n",
    "\n",
    "(* Metric tensor inverse *)\n",
    "\n",
    "inverse = Simplify[Inverse[forward]] ;\n",
    "\n",
    "(* Scaling factor *)\n",
    "\n",
    "sqrt = Simplify[Sqrt[Det[forward]]] ;\n",
    "\n",
    "(* Contravariant basis *)\n",
    "\n",
    "{eA, eB, eC} = Transpose[inverse] . {ea, eb, ec} ;\n",
    "\n",
    "(* Transformation *)\n",
    "\n",
    "transform = Thread[{qx, qy, qz} -> radius] ;\n",
    "\n",
    "(* Construct covariant components *)\n",
    "\n",
    "{Aa, Ab, Ac} = Simplify[{ea, eb, ec} . {aqx, aqy, aqz} /. transform] ;\n",
    "{Ba, Bb, Bc} = Simplify[{ea, eb, ec} . {bqx, bqy, bqz} /. transform] ;\n",
    "\n",
    "(* Construct contravariant components *)\n",
    "\n",
    "{AA, AB, AC}  = Simplify[Transpose[inverse . {Aa, Ab, Ac}] ] ;\n",
    "{BA, BB, BC}  = Simplify[Transpose[inverse . {Ba, Bb, Bc}] ] ;\n",
    "\n",
    "(* Divergence of magnetic field *)\n",
    "\n",
    "Simplify@PowerExpand@Simplify[div[sqrt][{BA, BB, BC}, coordinates]]\n",
    "\n",
    "(* Curl of vector potential *)\n",
    "\n",
    "Simplify@PowerExpand@Simplify[{BA, BB, BC} - curl[sqrt][{Aa, Ab, Ac}, coordinates]]\n",
    "\n",
    "(* Vector potential gauge *)\n",
    "\n",
    "Simplify@PowerExpand@Simplify[{BA, BB, BC} - curl[sqrt][{Aa, Ab, Ac} + grad[sqrt][f @@ coordinates, coordinates], coordinates]]"
   ]
  },
  {
   "cell_type": "code",
   "execution_count": 85,
   "id": "7d56ce07-f988-462f-acbb-801d9de9206b",
   "metadata": {},
   "outputs": [],
   "source": [
    "(* Transformation to cartesian *)\n",
    "\n",
    "{acx, acy, acz} = Simplify[Dot[{AA, AB, AC}, {ea, eb, ec}]] ;\n",
    "{bcx, bcy, bcz} = Simplify[Dot[{BA, BB, BC}, {ea, eb, ec}]] ;"
   ]
  },
  {
   "cell_type": "code",
   "execution_count": 88,
   "id": "6dec6a1d-1093-4cfa-8efb-655d2b9fd963",
   "metadata": {},
   "outputs": [
    {
     "data": {
      "text/html": [
       "<style>\n",
       "\t\t\t\t\t\t\t\t\t\t\t\t\t.grid-container {\n",
       "\t\t\t\t\t\t\t\t\t\t\t\t\t\tdisplay: inline-grid;\n",
       "\t\t\t\t\t\t\t\t\t\t\t\t\t\tgrid-template-columns: auto;\n",
       "\t\t\t\t\t\t\t\t\t\t\t\t\t}\n",
       "\t\t\t\t\t\t\t\t\t\t\t\t</style>\n",
       "\n",
       "\t\t\t\t\t\t\t\t\t\t\t\t<div><div class=\"grid-container\"><div class=\"grid-item\"><pre style=\"&#102;&#111;&#110;&#116;&#45;&#102;&#97;&#109;&#105;&#108;&#121;&#58;&#32;&#34;&#67;&#111;&#117;&#114;&#105;&#101;&#114;&#32;&#78;&#101;&#119;&#34;&#44;&#67;&#111;&#117;&#114;&#105;&#101;&#114;&#44;&#109;&#111;&#110;&#111;&#115;&#112;&#97;&#99;&#101;&#59;\">&#123;&#48;&#44;&#32;&#48;&#44;&#32;&#48;&#125;</pre></div><div class=\"grid-item\"><pre style=\"&#102;&#111;&#110;&#116;&#45;&#102;&#97;&#109;&#105;&#108;&#121;&#58;&#32;&#34;&#67;&#111;&#117;&#114;&#105;&#101;&#114;&#32;&#78;&#101;&#119;&#34;&#44;&#67;&#111;&#117;&#114;&#105;&#101;&#114;&#44;&#109;&#111;&#110;&#111;&#115;&#112;&#97;&#99;&#101;&#59;\">&#123;&#48;&#44;&#32;&#48;&#44;&#32;&#48;&#125;</pre></div></div></div>"
      ],
      "text/plain": [
       "{0, 0, 0}\n",
       "{0, 0, 0}"
      ]
     },
     "execution_count": 89,
     "metadata": {
      "text/html": [],
      "text/plain": []
     },
     "output_type": "execute_result"
    }
   ],
   "source": [
    "(* Compare with initial *)\n",
    "\n",
    "Simplify[{acx, acy, acz} - {aqx, aqy, aqz} /. transform]\n",
    "Simplify[{bcx, bcy, bcz} - {bqx, bqy, bqz} /. transform]"
   ]
  },
  {
   "cell_type": "code",
   "execution_count": 91,
   "id": "b3db501b-b0dc-47cc-96cb-eceda58f5da4",
   "metadata": {},
   "outputs": [
    {
     "data": {
      "text/html": [
       "<style>\n",
       "\t\t\t\t\t\t\t\t\t\t\t\t\t.grid-container {\n",
       "\t\t\t\t\t\t\t\t\t\t\t\t\t\tdisplay: inline-grid;\n",
       "\t\t\t\t\t\t\t\t\t\t\t\t\t\tgrid-template-columns: auto;\n",
       "\t\t\t\t\t\t\t\t\t\t\t\t\t}\n",
       "\t\t\t\t\t\t\t\t\t\t\t\t</style>\n",
       "\n",
       "\t\t\t\t\t\t\t\t\t\t\t\t<div><div class=\"grid-container\"><div class=\"grid-item\"><pre style=\"&#102;&#111;&#110;&#116;&#45;&#102;&#97;&#109;&#105;&#108;&#121;&#58;&#32;&#34;&#67;&#111;&#117;&#114;&#105;&#101;&#114;&#32;&#78;&#101;&#119;&#34;&#44;&#67;&#111;&#117;&#114;&#105;&#101;&#114;&#44;&#109;&#111;&#110;&#111;&#115;&#112;&#97;&#99;&#101;&#59;\">&#48;</pre></div><div class=\"grid-item\"><pre style=\"&#102;&#111;&#110;&#116;&#45;&#102;&#97;&#109;&#105;&#108;&#121;&#58;&#32;&#34;&#67;&#111;&#117;&#114;&#105;&#101;&#114;&#32;&#78;&#101;&#119;&#34;&#44;&#67;&#111;&#117;&#114;&#105;&#101;&#114;&#44;&#109;&#111;&#110;&#111;&#115;&#112;&#97;&#99;&#101;&#59;\">&#48;</pre></div></div></div>"
      ],
      "text/plain": [
       "0\n",
       "0"
      ]
     },
     "execution_count": 94,
     "metadata": {
      "text/html": [],
      "text/plain": []
     },
     "output_type": "execute_result"
    }
   ],
   "source": [
    "(* Projections (orthonormal FS basis) *)\n",
    "\n",
    "{A1, A2, A3} = Simplify[Dot[{normal, binormal, tangent}, {acx, acy, acz}]] ;\n",
    "{B1, B2, B3} = Simplify[Dot[{normal, binormal, tangent}, {bcx, bcy, bcz}]] ;\n",
    "\n",
    "Simplify[Total[{aqx, aqy, aqz}^2] - Total[{A1, A2, A3}^2] /. transform]\n",
    "Simplify[Total[{bqx, bqy, bqz}^2] - Total[{B1, B2, B3}^2] /. transform]"
   ]
  }
 ],
 "metadata": {
  "colab": {
   "collapsed_sections": [
    "myt0_gMIOq7b",
    "5d97819c"
   ],
   "name": "03_frequency.ipynb",
   "provenance": []
  },
  "kernelspec": {
   "display_name": "Python 3 (ipykernel)",
   "language": "python",
   "name": "python3"
  },
  "language_info": {
   "codemirror_mode": {
    "name": "ipython",
    "version": 3
   },
   "file_extension": ".py",
   "mimetype": "text/x-python",
   "name": "python",
   "nbconvert_exporter": "python",
   "pygments_lexer": "ipython3",
   "version": "3.12.1"
  },
  "latex_envs": {
   "LaTeX_envs_menu_present": true,
   "autoclose": false,
   "autocomplete": true,
   "bibliofile": "biblio.bib",
   "cite_by": "apalike",
   "current_citInitial": 1,
   "eqLabelWithNumbers": true,
   "eqNumInitial": 1,
   "hotkeys": {
    "equation": "Ctrl-E",
    "itemize": "Ctrl-I"
   },
   "labels_anchors": false,
   "latex_user_defs": false,
   "report_style_numbering": false,
   "user_envs_cfg": false
  }
 },
 "nbformat": 4,
 "nbformat_minor": 5
}
