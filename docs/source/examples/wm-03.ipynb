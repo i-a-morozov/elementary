{
 "cells": [
  {
   "cell_type": "markdown",
   "id": "7afa0f5c-a5fd-4e3e-ac4d-cdc8b290c17d",
   "metadata": {},
   "source": [
    "# WM-03: Vector potential and magnetic field in curvilinear coordinates (orthogonal chart)"
   ]
  },
  {
   "cell_type": "code",
   "execution_count": 1,
   "id": "70445384-92e5-49ed-8fd4-a808244268c4",
   "metadata": {},
   "outputs": [],
   "source": [
    "(* In this example properties and relations between vector potential and magnetic field are explored in curvilinear orthogonal coordinates *)"
   ]
  },
  {
   "cell_type": "code",
   "execution_count": 2,
   "id": "5854e9e8-e63c-4b2c-9c3f-138abecc1385",
   "metadata": {},
   "outputs": [],
   "source": [
    "(* Differential operations in curvilinear coordinates *)\n",
    "\n",
    "(* Gradient *)\n",
    "(* Input  : scalar *)\n",
    "(* Output : covariant vector *)\n",
    "\n",
    "ClearAll[grad] ;\n",
    "grad[sqrt_][scalar_, coordinates_] :=  D[scalar, {coordinates}] ;\n",
    "\n",
    "(* Divergence *)\n",
    "(* Input  : contravariant vector *)\n",
    "(* Output : scalar *)\n",
    "\n",
    "ClearAll[div] ;\n",
    "div[sqrt_][vector_, coordinates_] := 1/sqrt*Div[sqrt*vector, coordinates] ;\n",
    "\n",
    "(* Curl *)\n",
    "(* Input  : covariant vector *)\n",
    "(* Output : contravariant vector *)\n",
    "\n",
    "ClearAll[curl] ;\n",
    "curl[sqrt_][vector_, coordinates_] := 1/sqrt*Curl[vector, coordinates] ;\n",
    "\n",
    "(* Laplacian *)\n",
    "(* Input  : scalar *)\n",
    "(* Output : scalar *)\n",
    "\n",
    "ClearAll[laplacian] ;\n",
    "laplacian[sqrt_, inverse_][scalar_, coordinates_] := div[sqrt][inverse . grad[sqrt][scalar, coordinates], coordinates] ;"
   ]
  },
  {
   "cell_type": "code",
   "execution_count": 23,
   "id": "4cd0492c-f9e2-47c6-bca6-38b434242bf1",
   "metadata": {},
   "outputs": [],
   "source": [
    "(* Vector potential and magnetic field in cartesian frame *)\n",
    "\n",
    "{aqx, aqy, aqz} = {0, 0, -(kn*(qx^3/3 - qx*qy^2)) - ks*(-(qx^2*qy) + qy^3/3)} ;\n",
    "{bqx, bqy, bqz} = {2*kn*qx*qy + ks*(qx^2 - qy^2), -2*ks*qx*qy + kn*(qx^2 - qy^2), 0} ;"
   ]
  },
  {
   "cell_type": "code",
   "execution_count": 26,
   "id": "eb29cbcc-66b1-4034-9f4a-9a48cba751e9",
   "metadata": {},
   "outputs": [
    {
     "data": {
      "text/html": [
       "<style>\n",
       "\t\t\t\t\t\t\t\t\t\t\t\t\t.grid-container {\n",
       "\t\t\t\t\t\t\t\t\t\t\t\t\t\tdisplay: inline-grid;\n",
       "\t\t\t\t\t\t\t\t\t\t\t\t\t\tgrid-template-columns: auto;\n",
       "\t\t\t\t\t\t\t\t\t\t\t\t\t}\n",
       "\t\t\t\t\t\t\t\t\t\t\t\t</style>\n",
       "\n",
       "\t\t\t\t\t\t\t\t\t\t\t\t<div><div class=\"grid-container\"><div class=\"grid-item\"><pre style=\"&#102;&#111;&#110;&#116;&#45;&#102;&#97;&#109;&#105;&#108;&#121;&#58;&#32;&#34;&#67;&#111;&#117;&#114;&#105;&#101;&#114;&#32;&#78;&#101;&#119;&#34;&#44;&#67;&#111;&#117;&#114;&#105;&#101;&#114;&#44;&#109;&#111;&#110;&#111;&#115;&#112;&#97;&#99;&#101;&#59;\">&#48;</pre></div><div class=\"grid-item\"><pre style=\"&#102;&#111;&#110;&#116;&#45;&#102;&#97;&#109;&#105;&#108;&#121;&#58;&#32;&#34;&#67;&#111;&#117;&#114;&#105;&#101;&#114;&#32;&#78;&#101;&#119;&#34;&#44;&#67;&#111;&#117;&#114;&#105;&#101;&#114;&#44;&#109;&#111;&#110;&#111;&#115;&#112;&#97;&#99;&#101;&#59;\">&#123;&#48;&#44;&#32;&#48;&#44;&#32;&#48;&#125;</pre></div><div class=\"grid-item\"><pre style=\"&#102;&#111;&#110;&#116;&#45;&#102;&#97;&#109;&#105;&#108;&#121;&#58;&#32;&#34;&#67;&#111;&#117;&#114;&#105;&#101;&#114;&#32;&#78;&#101;&#119;&#34;&#44;&#67;&#111;&#117;&#114;&#105;&#101;&#114;&#44;&#109;&#111;&#110;&#111;&#115;&#112;&#97;&#99;&#101;&#59;\">&#48;</pre></div></div></div>"
      ],
      "text/plain": [
       "0\n",
       "{0, 0, 0}\n",
       "0"
      ]
     },
     "execution_count": 28,
     "metadata": {
      "text/html": [],
      "text/plain": []
     },
     "output_type": "execute_result"
    }
   ],
   "source": [
    "(* Test *)\n",
    "(* Note, laplacian of the last vector field component being zero is a special case for this transverse field in cartesian frame *)\n",
    "\n",
    "Simplify[Div[{bqx, bqy, bqz}, {qx, qy, qz}]]\n",
    "Simplify[{bqx, bqy, bqz} - Curl[{aqx, aqy, aqz}, {qx, qy, qz}]]\n",
    "Simplify[Laplacian[Last[{aqx, aqy, aqz}], {qx, qy, qz}]]"
   ]
  },
  {
   "cell_type": "code",
   "execution_count": 31,
   "id": "69993ac3-4375-49d9-ac3a-9724ae4367d0",
   "metadata": {},
   "outputs": [],
   "source": [
    "(* Chart *)\n",
    "\n",
    "chart = \"Hyperspherical\" ;"
   ]
  },
  {
   "cell_type": "code",
   "execution_count": 33,
   "id": "16e359fb-363e-47df-a755-2d7a493fac87",
   "metadata": {},
   "outputs": [],
   "source": [
    "(* Coordinates (q1, q2, q3) are contravariant coordinates *)\n",
    "\n",
    "coordinates = {q1, q2, q3} ;"
   ]
  },
  {
   "cell_type": "code",
   "execution_count": 35,
   "id": "0a747960-1664-4d54-aaff-9c105dd1c6e8",
   "metadata": {},
   "outputs": [],
   "source": [
    "(* Transformed fields *)\n",
    "\n",
    "Achart = Simplify[TransformedField[\"Cartesian\" -> chart, {aqx, aqy, aqz}, {qx, qy, qz} -> coordinates]] ;\n",
    "Bchart = Simplify[TransformedField[\"Cartesian\" -> chart, {bqx, bqy, bqz}, {qx, qy, qz} -> coordinates]] ;"
   ]
  },
  {
   "cell_type": "code",
   "execution_count": 38,
   "id": "5912d794-6e6e-4e44-ae1b-8ec7e805551b",
   "metadata": {},
   "outputs": [
    {
     "data": {
      "text/html": [
       "<style>\n",
       "\t\t\t\t\t\t\t\t\t\t\t\t\t.grid-container {\n",
       "\t\t\t\t\t\t\t\t\t\t\t\t\t\tdisplay: inline-grid;\n",
       "\t\t\t\t\t\t\t\t\t\t\t\t\t\tgrid-template-columns: auto;\n",
       "\t\t\t\t\t\t\t\t\t\t\t\t\t}\n",
       "\t\t\t\t\t\t\t\t\t\t\t\t</style>\n",
       "\n",
       "\t\t\t\t\t\t\t\t\t\t\t\t<div><div class=\"grid-container\"><div class=\"grid-item\"><pre style=\"&#102;&#111;&#110;&#116;&#45;&#102;&#97;&#109;&#105;&#108;&#121;&#58;&#32;&#34;&#67;&#111;&#117;&#114;&#105;&#101;&#114;&#32;&#78;&#101;&#119;&#34;&#44;&#67;&#111;&#117;&#114;&#105;&#101;&#114;&#44;&#109;&#111;&#110;&#111;&#115;&#112;&#97;&#99;&#101;&#59;\">&#48;</pre></div><div class=\"grid-item\"><pre style=\"&#102;&#111;&#110;&#116;&#45;&#102;&#97;&#109;&#105;&#108;&#121;&#58;&#32;&#34;&#67;&#111;&#117;&#114;&#105;&#101;&#114;&#32;&#78;&#101;&#119;&#34;&#44;&#67;&#111;&#117;&#114;&#105;&#101;&#114;&#44;&#109;&#111;&#110;&#111;&#115;&#112;&#97;&#99;&#101;&#59;\">&#123;&#48;&#44;&#32;&#48;&#44;&#32;&#48;&#125;</pre></div></div></div>"
      ],
      "text/plain": [
       "0\n",
       "{0, 0, 0}"
      ]
     },
     "execution_count": 39,
     "metadata": {
      "text/html": [],
      "text/plain": []
     },
     "output_type": "execute_result"
    }
   ],
   "source": [
    "(* Test *)\n",
    "\n",
    "Simplify[Div[Bchart, coordinates, chart]]\n",
    "Simplify[Bchart - Curl[Achart, coordinates, chart]]"
   ]
  },
  {
   "cell_type": "code",
   "execution_count": 41,
   "id": "a1c098ac-afe8-450b-8bd5-55aed77ad2e7",
   "metadata": {},
   "outputs": [
    {
     "data": {
      "text/html": [
       "<style>\n",
       "\t\t\t\t\t\t\t\t\t\t\t\t\t.grid-container {\n",
       "\t\t\t\t\t\t\t\t\t\t\t\t\t\tdisplay: inline-grid;\n",
       "\t\t\t\t\t\t\t\t\t\t\t\t\t\tgrid-template-columns: auto;\n",
       "\t\t\t\t\t\t\t\t\t\t\t\t\t}\n",
       "\t\t\t\t\t\t\t\t\t\t\t\t</style>\n",
       "\n",
       "\t\t\t\t\t\t\t\t\t\t\t\t<div><div class=\"grid-container\"><div class=\"grid-item\"><pre style=\"&#102;&#111;&#110;&#116;&#45;&#102;&#97;&#109;&#105;&#108;&#121;&#58;&#32;&#34;&#67;&#111;&#117;&#114;&#105;&#101;&#114;&#32;&#78;&#101;&#119;&#34;&#44;&#67;&#111;&#117;&#114;&#105;&#101;&#114;&#44;&#109;&#111;&#110;&#111;&#115;&#112;&#97;&#99;&#101;&#59;\">&#48;</pre></div><div class=\"grid-item\"><pre style=\"&#102;&#111;&#110;&#116;&#45;&#102;&#97;&#109;&#105;&#108;&#121;&#58;&#32;&#34;&#67;&#111;&#117;&#114;&#105;&#101;&#114;&#32;&#78;&#101;&#119;&#34;&#44;&#67;&#111;&#117;&#114;&#105;&#101;&#114;&#44;&#109;&#111;&#110;&#111;&#115;&#112;&#97;&#99;&#101;&#59;\">&#123;&#48;&#44;&#32;&#48;&#44;&#32;&#48;&#125;</pre></div><div class=\"grid-item\"><pre style=\"&#102;&#111;&#110;&#116;&#45;&#102;&#97;&#109;&#105;&#108;&#121;&#58;&#32;&#34;&#67;&#111;&#117;&#114;&#105;&#101;&#114;&#32;&#78;&#101;&#119;&#34;&#44;&#67;&#111;&#117;&#114;&#105;&#101;&#114;&#44;&#109;&#111;&#110;&#111;&#115;&#112;&#97;&#99;&#101;&#59;\">&#123;&#48;&#44;&#32;&#48;&#44;&#32;&#48;&#125;</pre></div></div></div>"
      ],
      "text/plain": [
       "0\n",
       "{0, 0, 0}\n",
       "{0, 0, 0}"
      ]
     },
     "execution_count": 62,
     "metadata": {
      "text/html": [],
      "text/plain": []
     },
     "output_type": "execute_result"
    }
   ],
   "source": [
    "(* Radius vector *)\n",
    "\n",
    "radius = CoordinateTransform[chart -> \"Cartesian\", coordinates] ;\n",
    "\n",
    "(* Covariant basis *)\n",
    "\n",
    "{ea, eb, ec} = Transpose[D[radius, {coordinates}]] ;\n",
    "\n",
    "(* Metric tensor *)\n",
    "\n",
    "forward = Simplify[Outer[Dot, {ea, eb, ec}, {ea, eb, ec}, 1]] ;\n",
    "\n",
    "(* Metric tensor inverse *)\n",
    "\n",
    "inverse = Simplify[Inverse[forward]] ;\n",
    "\n",
    "(* Scaling factor *)\n",
    "\n",
    "sqrt = Simplify[Sqrt[Det[forward]]] ;\n",
    "\n",
    "(* Contravariant basis *)\n",
    "\n",
    "{eA, eB, eC} = Transpose[inverse] . {ea, eb, ec} ;\n",
    "\n",
    "(* Transformation *)\n",
    "\n",
    "transform = Thread[{qx, qy, qz} -> radius] ;\n",
    "\n",
    "(* Construct covariant components *)\n",
    "\n",
    "{Aa, Ab, Ac} = Simplify[{ea, eb, ec} . {aqx, aqy, aqz} /. transform] ;\n",
    "{Ba, Bb, Bc} = Simplify[{ea, eb, ec} . {bqx, bqy, bqz} /. transform] ;\n",
    "\n",
    "(* Construct contravariant components *)\n",
    "\n",
    "{AA, AB, AC}  = Simplify[Transpose[inverse . {Aa, Ab, Ac}] ] ;\n",
    "{BA, BB, BC}  = Simplify[Transpose[inverse . {Ba, Bb, Bc}] ] ;\n",
    "\n",
    "(* Divergence of magnetic field *)\n",
    "\n",
    "Simplify@PowerExpand@Simplify[div[sqrt][{BA, BB, BC}, coordinates]]\n",
    "\n",
    "(* Curl of vector potential *)\n",
    "\n",
    "Simplify@PowerExpand@Simplify[{BA, BB, BC} - curl[sqrt][{Aa, Ab, Ac}, coordinates]]\n",
    "\n",
    "(* Vector potential gauge *)\n",
    "\n",
    "Simplify@PowerExpand@Simplify[{BA, BB, BC} - curl[sqrt][{Aa, Ab, Ac} + grad[sqrt][f @@ coordinates, coordinates], coordinates]]"
   ]
  },
  {
   "cell_type": "code",
   "execution_count": 67,
   "id": "f522ba8a-d0cb-4d6b-9909-46f818a258fc",
   "metadata": {},
   "outputs": [],
   "source": [
    "(* Transformation to cartesian *)\n",
    "\n",
    "{acx, acy, acz} = Simplify[Dot[{AA, AB, AC}, {ea, eb, ec}]] ;\n",
    "{bcx, bcy, bcz} = Simplify[Dot[{BA, BB, BC}, {ea, eb, ec}]] ;"
   ]
  },
  {
   "cell_type": "code",
   "execution_count": 70,
   "id": "0c7dec39-fb95-44b5-82f9-24a5bd7acbe3",
   "metadata": {},
   "outputs": [
    {
     "data": {
      "text/html": [
       "<style>\n",
       "\t\t\t\t\t\t\t\t\t\t\t\t\t.grid-container {\n",
       "\t\t\t\t\t\t\t\t\t\t\t\t\t\tdisplay: inline-grid;\n",
       "\t\t\t\t\t\t\t\t\t\t\t\t\t\tgrid-template-columns: auto;\n",
       "\t\t\t\t\t\t\t\t\t\t\t\t\t}\n",
       "\t\t\t\t\t\t\t\t\t\t\t\t</style>\n",
       "\n",
       "\t\t\t\t\t\t\t\t\t\t\t\t<div><div class=\"grid-container\"><div class=\"grid-item\"><pre style=\"&#102;&#111;&#110;&#116;&#45;&#102;&#97;&#109;&#105;&#108;&#121;&#58;&#32;&#34;&#67;&#111;&#117;&#114;&#105;&#101;&#114;&#32;&#78;&#101;&#119;&#34;&#44;&#67;&#111;&#117;&#114;&#105;&#101;&#114;&#44;&#109;&#111;&#110;&#111;&#115;&#112;&#97;&#99;&#101;&#59;\">&#123;&#48;&#44;&#32;&#48;&#44;&#32;&#48;&#125;</pre></div><div class=\"grid-item\"><pre style=\"&#102;&#111;&#110;&#116;&#45;&#102;&#97;&#109;&#105;&#108;&#121;&#58;&#32;&#34;&#67;&#111;&#117;&#114;&#105;&#101;&#114;&#32;&#78;&#101;&#119;&#34;&#44;&#67;&#111;&#117;&#114;&#105;&#101;&#114;&#44;&#109;&#111;&#110;&#111;&#115;&#112;&#97;&#99;&#101;&#59;\">&#123;&#48;&#44;&#32;&#48;&#44;&#32;&#48;&#125;</pre></div></div></div>"
      ],
      "text/plain": [
       "{0, 0, 0}\n",
       "{0, 0, 0}"
      ]
     },
     "execution_count": 71,
     "metadata": {
      "text/html": [],
      "text/plain": []
     },
     "output_type": "execute_result"
    }
   ],
   "source": [
    "(* Compare with initial *)\n",
    "\n",
    "Simplify[{acx, acy, acz} - {aqx, aqy, aqz} /. transform]\n",
    "Simplify[{bcx, bcy, bcz} - {bqx, bqy, bqz} /. transform]"
   ]
  },
  {
   "cell_type": "code",
   "execution_count": 73,
   "id": "023eec67-2ea0-4750-a281-fc3771e84df3",
   "metadata": {},
   "outputs": [
    {
     "data": {
      "text/html": [
       "<style>\n",
       "\t\t\t\t\t\t\t\t\t\t\t\t\t.grid-container {\n",
       "\t\t\t\t\t\t\t\t\t\t\t\t\t\tdisplay: inline-grid;\n",
       "\t\t\t\t\t\t\t\t\t\t\t\t\t\tgrid-template-columns: auto;\n",
       "\t\t\t\t\t\t\t\t\t\t\t\t\t}\n",
       "\t\t\t\t\t\t\t\t\t\t\t\t</style>\n",
       "\n",
       "\t\t\t\t\t\t\t\t\t\t\t\t<div><div class=\"grid-container\"><div class=\"grid-item\"><pre style=\"&#102;&#111;&#110;&#116;&#45;&#102;&#97;&#109;&#105;&#108;&#121;&#58;&#32;&#34;&#67;&#111;&#117;&#114;&#105;&#101;&#114;&#32;&#78;&#101;&#119;&#34;&#44;&#67;&#111;&#117;&#114;&#105;&#101;&#114;&#44;&#109;&#111;&#110;&#111;&#115;&#112;&#97;&#99;&#101;&#59;\">&#123;&#48;&#44;&#32;&#48;&#44;&#32;&#48;&#125;</pre></div><div class=\"grid-item\"><pre style=\"&#102;&#111;&#110;&#116;&#45;&#102;&#97;&#109;&#105;&#108;&#121;&#58;&#32;&#34;&#67;&#111;&#117;&#114;&#105;&#101;&#114;&#32;&#78;&#101;&#119;&#34;&#44;&#67;&#111;&#117;&#114;&#105;&#101;&#114;&#44;&#109;&#111;&#110;&#111;&#115;&#112;&#97;&#99;&#101;&#59;\">&#123;&#48;&#44;&#32;&#48;&#44;&#32;&#48;&#125;</pre></div></div></div>"
      ],
      "text/plain": [
       "{0, 0, 0}\n",
       "{0, 0, 0}"
      ]
     },
     "execution_count": 78,
     "metadata": {
      "text/html": [],
      "text/plain": []
     },
     "output_type": "execute_result"
    }
   ],
   "source": [
    "(* Projections (orthonormal basis) *)\n",
    "\n",
    "e1 = ea/Sqrt[Total[ea^2]] ;\n",
    "e2 = eb/Sqrt[Total[eb^2]] ;\n",
    "e3 = ec/Sqrt[Total[ec^2]] ;\n",
    "\n",
    "{A1, A2, A3} = Simplify[Dot[{e1, e2, e3}, {acx, acy, acz}]] ;\n",
    "Simplify@PowerExpand@Simplify[{A1, A2, A3} - Achart /. transform]\n",
    "\n",
    "{B1, B2, B3} = Simplify[Dot[{e1, e2, e3}, {bcx, bcy, bcz}]] ;\n",
    "Simplify@PowerExpand@Simplify[{B1, B2, B3} - Bchart /. transform]"
   ]
  }
 ],
 "metadata": {
  "colab": {
   "collapsed_sections": [
    "myt0_gMIOq7b",
    "5d97819c"
   ],
   "name": "03_frequency.ipynb",
   "provenance": []
  },
  "kernelspec": {
   "display_name": "Python 3 (ipykernel)",
   "language": "python",
   "name": "python3"
  },
  "language_info": {
   "codemirror_mode": {
    "name": "ipython",
    "version": 3
   },
   "file_extension": ".py",
   "mimetype": "text/x-python",
   "name": "python",
   "nbconvert_exporter": "python",
   "pygments_lexer": "ipython3",
   "version": "3.12.1"
  },
  "latex_envs": {
   "LaTeX_envs_menu_present": true,
   "autoclose": false,
   "autocomplete": true,
   "bibliofile": "biblio.bib",
   "cite_by": "apalike",
   "current_citInitial": 1,
   "eqLabelWithNumbers": true,
   "eqNumInitial": 1,
   "hotkeys": {
    "equation": "Ctrl-E",
    "itemize": "Ctrl-I"
   },
   "labels_anchors": false,
   "latex_user_defs": false,
   "report_style_numbering": false,
   "user_envs_cfg": false
  }
 },
 "nbformat": 4,
 "nbformat_minor": 5
}
