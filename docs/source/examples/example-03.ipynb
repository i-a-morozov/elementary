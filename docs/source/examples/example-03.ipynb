{
 "cells": [
  {
   "attachments": {},
   "cell_type": "markdown",
   "id": "556562f3-8ece-4517-8c93-ee5e2fc29131",
   "metadata": {},
   "source": [
    "# Example-04: Quadrupole element factory"
   ]
  },
  {
   "cell_type": "code",
   "execution_count": 1,
   "id": "3e6f58e1-c7d4-44c5-adfd-1fae4c1cb66a",
   "metadata": {},
   "outputs": [],
   "source": [
    "# In this example quadrupole factory is illustrated"
   ]
  },
  {
   "cell_type": "code",
   "execution_count": 2,
   "id": "847b7a2b-96f8-4f99-bb0a-aa22fd8f68e8",
   "metadata": {},
   "outputs": [],
   "source": [
    "import jax\n",
    "from jax import jit\n",
    "from jax import jacrev\n",
    "\n",
    "from elementary.util import ptc\n",
    "from elementary.util import beta\n",
    "from elementary.quadrupole import quadrupole_factory\n",
    "\n",
    "jax.numpy.set_printoptions(linewidth=256, precision=12)"
   ]
  },
  {
   "cell_type": "code",
   "execution_count": 3,
   "id": "a4400a2e-28b8-4d9c-8e04-b11dfc6dcd01",
   "metadata": {},
   "outputs": [],
   "source": [
    "# Set data type\n",
    "\n",
    "jax.config.update(\"jax_enable_x64\", True)"
   ]
  },
  {
   "cell_type": "code",
   "execution_count": 4,
   "id": "92353bee-fd42-47b6-81ab-e994caffd8c0",
   "metadata": {},
   "outputs": [],
   "source": [
    "# Set device\n",
    "\n",
    "device, *_ = jax.devices('cpu')\n",
    "jax.config.update('jax_default_device', device)"
   ]
  },
  {
   "cell_type": "code",
   "execution_count": 5,
   "id": "550fc41d-8f33-46e9-9319-5a96a7d875fa",
   "metadata": {},
   "outputs": [],
   "source": [
    "# Set initial condition\n",
    "\n",
    "(q_x, q_y, q_s) = qs = jax.numpy.array([-0.01, 0.005, 0.001])\n",
    "(p_x, p_y, p_s) = ps = jax.numpy.array([0.001, 0.001, -0.0001])\n",
    "x = jax.numpy.hstack([qs, ps])"
   ]
  },
  {
   "cell_type": "code",
   "execution_count": 6,
   "id": "648e26c5-91f1-4f11-bae6-6d4c1aaf1859",
   "metadata": {},
   "outputs": [],
   "source": [
    "# Define generic quadrupole element\n",
    "\n",
    "gamma = 10**6\n",
    "length = 1.0\n",
    "\n",
    "element = jit(quadrupole_factory(beta=beta(gamma), gamma=gamma, order=2**1, iterations=100, settings=dict(ns=2**1)))"
   ]
  },
  {
   "cell_type": "code",
   "execution_count": 7,
   "id": "a2a6e814-a714-4f3d-a72b-d349c1f3357c",
   "metadata": {},
   "outputs": [
    {
     "name": "stdout",
     "output_type": "stream",
     "text": [
      "[-0.017335308273 -0.005444917173  0.000881618072 -0.020606852812 -0.020050030435 -0.0001        ]\n",
      "[-0.017335308273 -0.005444917173  0.000881618072 -0.020606852812 -0.020050030435 -0.0001        ]\n",
      "True\n"
     ]
    }
   ],
   "source": [
    "# Compare with PTC\n",
    "\n",
    "length = jax.numpy.float64(1.0)\n",
    "kn = jax.numpy.float64(-2.0)\n",
    "ks = jax.numpy.float64(+1.5)\n",
    "\n",
    "print(res := element(x, length, kn, ks))\n",
    "print(ref := ptc(x, 'quadrupole', {'l': float(length), 'k1': float(kn), 'k1s': float(ks)}, gamma=gamma))\n",
    "print(jax.numpy.allclose(res, ref))"
   ]
  },
  {
   "cell_type": "code",
   "execution_count": 8,
   "id": "e5e3ecbe-db6a-44f2-b5f8-4f0f34c0f5c0",
   "metadata": {},
   "outputs": [
    {
     "name": "stdout",
     "output_type": "stream",
     "text": [
      "[[ 2.279575304163e+00  7.632479527223e-01  0.000000000000e+00  1.388655261285e+00  2.520951472221e-01  9.491020612615e-03]\n",
      " [ 7.636609189649e-01  2.438324624109e-01  0.000000000000e+00  2.522344406143e-01  7.165998019815e-01  9.548550668937e-03]\n",
      " [ 2.540181616181e-02 -1.691651234625e-03  1.000000000000e+00  1.634206701237e-02  9.283951302092e-03  2.532776862723e-04]\n",
      " [ 3.154287926409e+00  1.578288131758e+00  0.000000000000e+00  2.279171804418e+00  7.632559539488e-01  9.596394525419e-03]\n",
      " [ 1.578258960749e+00 -1.054777136233e+00  0.000000000000e+00  7.631214547666e-01  2.439057832275e-01 -2.972553251711e-03]\n",
      " [-1.620874931345e-20 -2.873327146827e-21  0.000000000000e+00 -7.911773602881e-21 -1.482149988177e-21  1.000000000000e+00]]\n",
      "\n",
      "[-2.061743883357e-02 -2.006033040858e-02 -4.136622618369e-04 -4.283799230736e-02 -1.511312806386e-02  2.990889984494e-22]\n",
      "\n"
     ]
    }
   ],
   "source": [
    "# Differentiability\n",
    "\n",
    "print(jacrev(element)(x, length, kn, ks))\n",
    "print()\n",
    "\n",
    "print(jacrev(element, 1)(x, length, kn, ks))\n",
    "print()"
   ]
  }
 ],
 "metadata": {
  "colab": {
   "collapsed_sections": [
    "myt0_gMIOq7b",
    "5d97819c"
   ],
   "name": "03_frequency.ipynb",
   "provenance": []
  },
  "kernelspec": {
   "display_name": "Python 3 (ipykernel)",
   "language": "python",
   "name": "python3"
  },
  "language_info": {
   "codemirror_mode": {
    "name": "ipython",
    "version": 3
   },
   "file_extension": ".py",
   "mimetype": "text/x-python",
   "name": "python",
   "nbconvert_exporter": "python",
   "pygments_lexer": "ipython3",
   "version": "3.12.1"
  },
  "latex_envs": {
   "LaTeX_envs_menu_present": true,
   "autoclose": false,
   "autocomplete": true,
   "bibliofile": "biblio.bib",
   "cite_by": "apalike",
   "current_citInitial": 1,
   "eqLabelWithNumbers": true,
   "eqNumInitial": 1,
   "hotkeys": {
    "equation": "Ctrl-E",
    "itemize": "Ctrl-I"
   },
   "labels_anchors": false,
   "latex_user_defs": false,
   "report_style_numbering": false,
   "user_envs_cfg": false
  }
 },
 "nbformat": 4,
 "nbformat_minor": 5
}
