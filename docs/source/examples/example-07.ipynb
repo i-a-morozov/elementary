{
 "cells": [
  {
   "attachments": {},
   "cell_type": "markdown",
   "id": "556562f3-8ece-4517-8c93-ee5e2fc29131",
   "metadata": {},
   "source": [
    "# Example-08: Dipole element factory (body)"
   ]
  },
  {
   "cell_type": "code",
   "execution_count": 1,
   "id": "78b83938-3aee-44fa-904c-2c2b3422522c",
   "metadata": {},
   "outputs": [],
   "source": [
    "# In this example dipole factory is illustrated"
   ]
  },
  {
   "cell_type": "code",
   "execution_count": 2,
   "id": "ab9aa4e7-60ad-4438-8330-151b679d7a1b",
   "metadata": {},
   "outputs": [],
   "source": [
    "import jax\n",
    "from jax import jit\n",
    "from jax import jacrev\n",
    "\n",
    "from elementary.util import ptc\n",
    "from elementary.util import beta\n",
    "from elementary.dipole import dipole_factory\n",
    "\n",
    "jax.numpy.set_printoptions(linewidth=256, precision=12)"
   ]
  },
  {
   "cell_type": "code",
   "execution_count": 3,
   "id": "1ef6ede0-de0d-49d3-b533-4cdf698dc9fa",
   "metadata": {},
   "outputs": [],
   "source": [
    "# Set data type\n",
    "\n",
    "jax.config.update(\"jax_enable_x64\", True)"
   ]
  },
  {
   "cell_type": "code",
   "execution_count": 4,
   "id": "4e390f8a-da98-4b2a-93ac-20c624037a22",
   "metadata": {},
   "outputs": [],
   "source": [
    "# Set device\n",
    "\n",
    "device, *_ = jax.devices('cpu')\n",
    "jax.config.update('jax_default_device', device)"
   ]
  },
  {
   "cell_type": "code",
   "execution_count": 5,
   "id": "9f898a92-7c94-41a6-9182-9a9a0256ed59",
   "metadata": {},
   "outputs": [],
   "source": [
    "# Set initial condition\n",
    "\n",
    "(q_x, q_y, q_s) = qs = jax.numpy.array([-0.01, 0.005, 0.001])\n",
    "(p_x, p_y, p_s) = ps = jax.numpy.array([0.001, 0.001, -0.0001])\n",
    "x = jax.numpy.hstack([qs, ps])"
   ]
  },
  {
   "cell_type": "code",
   "execution_count": 6,
   "id": "bdf2efd8-929b-402c-9fcd-fd0bc3f40e68",
   "metadata": {},
   "outputs": [],
   "source": [
    "# Define generic quadrupole element\n",
    "\n",
    "gamma = 10**6\n",
    "element = jit(dipole_factory(beta=beta(gamma), gamma=gamma, order=2**1, iterations=100, settings=dict(ns=2**1)))"
   ]
  },
  {
   "cell_type": "code",
   "execution_count": 7,
   "id": "82ad4ca4-d5d7-4294-aa36-8cbb05c4e79f",
   "metadata": {},
   "outputs": [
    {
     "name": "stdout",
     "output_type": "stream",
     "text": [
      "[-0.007993633465  0.006999752089  0.001447886312  0.001006197152  0.001          -0.0001        ]\n",
      "[-0.007993633465  0.006999752089  0.001447886312  0.001006197152  0.001          -0.0001        ]\n",
      "True\n"
     ]
    }
   ],
   "source": [
    "# Compare with PTC\n",
    "\n",
    "length = jax.numpy.float64(2.0)\n",
    "angle = jax.numpy.float64(0.05)\n",
    "\n",
    "print(res := element(x, length, angle))\n",
    "print(ref := ptc(x, 'sbend', {'l': float(length), 'angle': float(angle), 'kill_ent_fringe': 'true', 'kill_exi_fringe': 'true'}, gamma=gamma))\n",
    "print(jax.numpy.allclose(res, ref))"
   ]
  },
  {
   "cell_type": "code",
   "execution_count": 8,
   "id": "8727cd2d-3215-467c-8202-db885063944b",
   "metadata": {},
   "outputs": [
    {
     "name": "stdout",
     "output_type": "stream",
     "text": [
      "[[ 9.988005543727e-01  0.000000000000e+00  0.000000000000e+00  1.998921181261e+00 -4.798292007475e-05  4.797812178277e-02]\n",
      " [ 4.998421799247e-05  1.000000000000e+00  0.000000000000e+00  5.199395592224e-05  1.999754088219e+00 -1.999122783077e-03]\n",
      " [-4.997921957070e-02  0.000000000000e+00  1.000000000000e+00 -5.198875652668e-02 -1.999122783077e-03 -8.292180969377e-04]\n",
      " [-1.249479231767e-03  0.000000000000e+00  0.000000000000e+00  9.987002761773e-01 -4.998421768169e-05  4.997921925994e-02]\n",
      " [-1.549980530634e-25  0.000000000000e+00  0.000000000000e+00  6.017762306606e-25  1.000000000000e+00  6.199014981798e-24]\n",
      " [-8.988083938862e-29  0.000000000000e+00  0.000000000000e+00 -7.109608908304e-29  2.639602544579e-29  1.000000000000e+00]]\n",
      "\n",
      "[ 9.971860391506e-04  1.000125965538e-03 -2.595294164285e-05 -6.247396158831e-06 -3.836637364804e-28 -1.379193256298e-30]\n",
      "\n"
     ]
    }
   ],
   "source": [
    "# Differentiability\n",
    "\n",
    "print(jacrev(element)(x, length, angle))\n",
    "print()\n",
    "\n",
    "print(jacrev(element, 1)(x, length, angle))\n",
    "print()"
   ]
  }
 ],
 "metadata": {
  "colab": {
   "collapsed_sections": [
    "myt0_gMIOq7b",
    "5d97819c"
   ],
   "name": "03_frequency.ipynb",
   "provenance": []
  },
  "kernelspec": {
   "display_name": "Python 3 (ipykernel)",
   "language": "python",
   "name": "python3"
  },
  "language_info": {
   "codemirror_mode": {
    "name": "ipython",
    "version": 3
   },
   "file_extension": ".py",
   "mimetype": "text/x-python",
   "name": "python",
   "nbconvert_exporter": "python",
   "pygments_lexer": "ipython3",
   "version": "3.12.1"
  },
  "latex_envs": {
   "LaTeX_envs_menu_present": true,
   "autoclose": false,
   "autocomplete": true,
   "bibliofile": "biblio.bib",
   "cite_by": "apalike",
   "current_citInitial": 1,
   "eqLabelWithNumbers": true,
   "eqNumInitial": 1,
   "hotkeys": {
    "equation": "Ctrl-E",
    "itemize": "Ctrl-I"
   },
   "labels_anchors": false,
   "latex_user_defs": false,
   "report_style_numbering": false,
   "user_envs_cfg": false
  }
 },
 "nbformat": 4,
 "nbformat_minor": 5
}
