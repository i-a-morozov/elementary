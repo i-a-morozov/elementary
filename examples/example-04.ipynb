{
 "cells": [
  {
   "attachments": {},
   "cell_type": "markdown",
   "id": "cfd89770-b82f-4d57-b009-e96ad4b4ab04",
   "metadata": {},
   "source": [
    "# Example-05: Sextupole element factory"
   ]
  },
  {
   "cell_type": "code",
   "execution_count": 1,
   "id": "efd70fdd-6802-400e-9130-08c4722e594e",
   "metadata": {},
   "outputs": [],
   "source": [
    "# In this example sextupole factory is illustrated"
   ]
  },
  {
   "cell_type": "code",
   "execution_count": 2,
   "id": "e655aa42-6a9f-4854-bbb1-239698bbcdc1",
   "metadata": {},
   "outputs": [],
   "source": [
    "import jax\n",
    "from jax import jit\n",
    "from jax import jacrev\n",
    "\n",
    "from elementary.util import ptc\n",
    "from elementary.util import beta\n",
    "from elementary.sextupole import sextupole_factory\n",
    "\n",
    "jax.numpy.set_printoptions(linewidth=256, precision=12)"
   ]
  },
  {
   "cell_type": "code",
   "execution_count": 3,
   "id": "7b8305cf-6861-42aa-bd32-9427e8e797be",
   "metadata": {},
   "outputs": [],
   "source": [
    "# Set data type\n",
    "\n",
    "jax.config.update(\"jax_enable_x64\", True)"
   ]
  },
  {
   "cell_type": "code",
   "execution_count": 4,
   "id": "0d14a00d-ba1d-49f7-b406-c408bccfd082",
   "metadata": {},
   "outputs": [],
   "source": [
    "# Set device\n",
    "\n",
    "device, *_ = jax.devices('cpu')\n",
    "jax.config.update('jax_default_device', device)"
   ]
  },
  {
   "cell_type": "code",
   "execution_count": 5,
   "id": "35ad9ae9-e14d-46a4-a91e-7740093f8639",
   "metadata": {},
   "outputs": [],
   "source": [
    "# Set initial condition\n",
    "\n",
    "(q_x, q_y, q_s) = qs = jax.numpy.array([-0.01, 0.005, 0.001])\n",
    "(p_x, p_y, p_s) = ps = jax.numpy.array([0.001, 0.001, -0.0001])\n",
    "x = jax.numpy.hstack([qs, ps])"
   ]
  },
  {
   "cell_type": "code",
   "execution_count": 6,
   "id": "4ac69bdf-9a83-4faa-a26c-0779132c825a",
   "metadata": {},
   "outputs": [],
   "source": [
    "# Define generic sextupole element\n",
    "\n",
    "gamma = 10**6\n",
    "element = jit(sextupole_factory(beta=beta(gamma), gamma=gamma, order=2**1, iterations=100, settings=dict(ns=2**1)))"
   ]
  },
  {
   "cell_type": "code",
   "execution_count": 7,
   "id": "5436ae26-969e-4f32-ba03-9818577f7329",
   "metadata": {},
   "outputs": [
    {
     "name": "stdout",
     "output_type": "stream",
     "text": [
      "[-0.009839311476  0.005305274154  0.000999691958  0.000595944971  0.002048184556 -0.0001        ]\n",
      "[-0.009839311476  0.005305274154  0.000999691958  0.000595944971  0.002048184556 -0.0001        ]\n",
      "True\n"
     ]
    }
   ],
   "source": [
    "# Compare with PTC\n",
    "\n",
    "length = jax.numpy.float64(0.2)\n",
    "kn = jax.numpy.float64(-50.0)\n",
    "ks = jax.numpy.float64(+75.0)\n",
    "\n",
    "print(res := element(x, length, kn, ks))\n",
    "print(ref := ptc(x, 'sextupole', {'l': float(length), 'k2': float(kn), 'k2s': float(ks)}, gamma=gamma))\n",
    "print(jax.numpy.allclose(res, ref))"
   ]
  },
  {
   "cell_type": "code",
   "execution_count": 8,
   "id": "6283c023-bee0-4121-9e2a-a166ecb5f667",
   "metadata": {},
   "outputs": [
    {
     "name": "stdout",
     "output_type": "stream",
     "text": [
      "[[ 9.977539230852e-01 -1.999683875914e-02  0.000000000000e+00  1.998755038415e-01 -1.333336463861e-03 -1.588878018948e-04]\n",
      " [-1.999528286317e-02  1.002381087687e+00  0.000000000000e+00 -1.333283393123e-03  2.001711272351e-01 -3.042892476466e-04]\n",
      " [ 3.567742993840e-05  1.067886227030e-05  1.000000000000e+00 -1.582181525155e-04 -3.046374640722e-04  6.130677412435e-07]\n",
      " [-2.075140977984e-02 -2.000692596676e-01  0.000000000000e+00  9.979602547484e-01 -2.001825891300e-02  2.884095678113e-05]\n",
      " [-2.000275114867e-01  2.345269216812e-02  0.000000000000e+00 -2.001650181601e-02  1.002174743629e+00  1.451546593510e-05]\n",
      " [-1.222214716319e-23  6.594282317221e-24  0.000000000000e+00  7.463717130175e-24 -6.770206730037e-24  1.000000000000e+00]]\n",
      "\n",
      "[ 5.960059281979e-04  2.048394055709e-03 -2.275568047834e-06 -2.198365452739e-03  5.184991611242e-03  1.898300850487e-25]\n",
      "\n"
     ]
    }
   ],
   "source": [
    "# Differentiability\n",
    "\n",
    "print(jacrev(element)(x, length, kn, ks))\n",
    "print()\n",
    "\n",
    "print(jacrev(element, 1)(x, length, kn, ks))\n",
    "print()"
   ]
  }
 ],
 "metadata": {
  "colab": {
   "collapsed_sections": [
    "myt0_gMIOq7b",
    "5d97819c"
   ],
   "name": "03_frequency.ipynb",
   "provenance": []
  },
  "kernelspec": {
   "display_name": "Python 3 (ipykernel)",
   "language": "python",
   "name": "python3"
  },
  "language_info": {
   "codemirror_mode": {
    "name": "ipython",
    "version": 3
   },
   "file_extension": ".py",
   "mimetype": "text/x-python",
   "name": "python",
   "nbconvert_exporter": "python",
   "pygments_lexer": "ipython3",
   "version": "3.12.1"
  },
  "latex_envs": {
   "LaTeX_envs_menu_present": true,
   "autoclose": false,
   "autocomplete": true,
   "bibliofile": "biblio.bib",
   "cite_by": "apalike",
   "current_citInitial": 1,
   "eqLabelWithNumbers": true,
   "eqNumInitial": 1,
   "hotkeys": {
    "equation": "Ctrl-E",
    "itemize": "Ctrl-I"
   },
   "labels_anchors": false,
   "latex_user_defs": false,
   "report_style_numbering": false,
   "user_envs_cfg": false
  }
 },
 "nbformat": 4,
 "nbformat_minor": 5
}
