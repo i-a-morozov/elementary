{
 "cells": [
  {
   "cell_type": "markdown",
   "id": "4fe6c1e7-9391-4d0a-b890-3691d6c5e905",
   "metadata": {},
   "source": [
    "# Example-02: Hamiltonian factory (non-autonomous integration in extended phase space)"
   ]
  },
  {
   "cell_type": "code",
   "execution_count": 1,
   "id": "9aca811d-d252-4872-b1d2-84eb2ffb50ef",
   "metadata": {},
   "outputs": [],
   "source": [
    "# In this example non-autonomous hamiltonial is integrated using midpoint and tao integrators\n",
    "# For explicitly defined hamiltonian function and factory generated one"
   ]
  },
  {
   "cell_type": "code",
   "execution_count": 2,
   "id": "936385d7-e524-4ceb-b98b-781cd68e9bb6",
   "metadata": {},
   "outputs": [],
   "source": [
    "# Import \n",
    "\n",
    "import jax\n",
    "from jax import Array\n",
    "from jax import jit\n",
    "from jax import vmap\n",
    "\n",
    "from elementary import fold\n",
    "from elementary import nest\n",
    "from elementary import midpoint\n",
    "from elementary import tao\n",
    "from elementary import sequence\n",
    "\n",
    "from elementary.hamiltonian import hamiltonian_factory\n",
    "from elementary.hamiltonian import autonomize\n",
    "\n",
    "jax.numpy.set_printoptions(linewidth=256, precision=12)"
   ]
  },
  {
   "cell_type": "code",
   "execution_count": 3,
   "id": "702bdf71-e4d6-49b8-bd42-42a68d52cb21",
   "metadata": {},
   "outputs": [],
   "source": [
    "# Set data type\n",
    "\n",
    "jax.config.update(\"jax_enable_x64\", True)"
   ]
  },
  {
   "cell_type": "code",
   "execution_count": 4,
   "id": "fa15f4d1-0702-4969-bafd-63fb23793950",
   "metadata": {},
   "outputs": [],
   "source": [
    "# Set device\n",
    "\n",
    "device, *_ = jax.devices('cpu')\n",
    "jax.config.update('jax_default_device', device)"
   ]
  },
  {
   "cell_type": "code",
   "execution_count": 5,
   "id": "bb56ad88-26ed-465f-b141-d581cb5cd324",
   "metadata": {},
   "outputs": [],
   "source": [
    "# Set parameters\n",
    "\n",
    "si = jax.numpy.float64(0.5)\n",
    "ds = jax.numpy.float64(0.01)\n",
    "kn = jax.numpy.float64(1.0)"
   ]
  },
  {
   "cell_type": "code",
   "execution_count": 6,
   "id": "43d3146a-ae63-4ad0-9971-80c40c8d7986",
   "metadata": {},
   "outputs": [],
   "source": [
    "# Set initial condition\n",
    "\n",
    "qs = jax.numpy.array([0.001, -0.005, 0.0])\n",
    "ps = jax.numpy.array([0.005, -0.001, 0.0001])\n",
    "x = jax.numpy.hstack([qs, ps])"
   ]
  },
  {
   "cell_type": "code",
   "execution_count": 7,
   "id": "3b57db3d-8b24-4220-bd76-34394cf77dcb",
   "metadata": {},
   "outputs": [],
   "source": [
    "# Define non-autonomous and extended hamiltonian (explicit)\n",
    "\n",
    "def hamiltonian(qs, ps, s, kn, *args):\n",
    "    q_x, q_y, q_s = qs\n",
    "    p_x, p_y, p_s = ps\n",
    "    return p_s - jax.numpy.sqrt((1 + p_s)**2 - p_x**2 - p_y**2) + 1/2*kn*(1 + jax.numpy.cos(s))*(q_x**2 + q_y**2)\n",
    "\n",
    "def extended(qs, ps, s, kn, *args):\n",
    "    q_x, q_y, q_s, q_t = qs\n",
    "    p_x, p_y, p_s, p_t = ps\n",
    "    return p_t + (p_s - jax.numpy.sqrt((1 + p_s)**2 - p_x**2 - p_y**2) + 1/2*kn*(1 + jax.numpy.cos(q_t))*(q_x**2 + q_y**2))"
   ]
  },
  {
   "cell_type": "code",
   "execution_count": 8,
   "id": "3cdc8a98-2453-4378-b79d-aeb4a5405f25",
   "metadata": {},
   "outputs": [],
   "source": [
    "# Set extended initial condition\n",
    "\n",
    "Qs = jax.numpy.concat([qs, si.reshape(-1)])\n",
    "Ps = jax.numpy.concat([ps, -hamiltonian(qs, ps, si, kn).reshape(-1)])\n",
    "X = jax.numpy.hstack([Qs, Ps])"
   ]
  },
  {
   "cell_type": "code",
   "execution_count": 9,
   "id": "b1a8cb34-eb7b-4e2e-9b97-99dbee504c36",
   "metadata": {},
   "outputs": [],
   "source": [
    "# Set implicit midpoint integration step\n",
    "\n",
    "integrator = jit(fold(sequence(0, 2**1, [midpoint(extended, ns=2**1)], merge=False)))"
   ]
  },
  {
   "cell_type": "code",
   "execution_count": 10,
   "id": "4c99d4c6-da3b-4330-a48e-bf7f6799895e",
   "metadata": {},
   "outputs": [
    {
     "name": "stdout",
     "output_type": "stream",
     "text": [
      "[ 4.093772217780e-03 -2.130920641490e-03 -1.157542898301e-05  1.500000000000e+00  7.828730523443e-04  5.455056721550e-03  1.000000000000e-04  9.999734128953e-01]\n"
     ]
    }
   ],
   "source": [
    "# Set and compile element\n",
    "\n",
    "element = jit(nest(10**2, integrator))\n",
    "out = element(X, ds, si, kn)\n",
    "print(out)"
   ]
  },
  {
   "cell_type": "code",
   "execution_count": 11,
   "id": "a6bfe0bf-dc77-41f7-9553-85c683c42df5",
   "metadata": {},
   "outputs": [],
   "source": [
    "# Set tao integration step\n",
    "\n",
    "integrator = jit(fold(sequence(0, 2**1, [tao(extended)], merge=False)))"
   ]
  },
  {
   "cell_type": "code",
   "execution_count": 12,
   "id": "a0290e60-2679-457e-932d-49e018ad22ff",
   "metadata": {},
   "outputs": [
    {
     "name": "stdout",
     "output_type": "stream",
     "text": [
      "[ 4.093772217780e-03 -2.130920641487e-03 -1.157542898302e-05  1.500000000000e+00  7.828730523431e-04  5.455056721550e-03  1.000000000000e-04  9.999734128953e-01]\n"
     ]
    }
   ],
   "source": [
    "# Set and compile element\n",
    "\n",
    "element = jit(nest(10**2, integrator))\n",
    "out = element(X, ds, si, kn)\n",
    "print(out)"
   ]
  },
  {
   "cell_type": "code",
   "execution_count": 13,
   "id": "f0f85ac6-0edc-4888-83f3-f13aa9fa654e",
   "metadata": {},
   "outputs": [],
   "source": [
    "# Define non-autonomous and extended hamiltonian (factory)\n",
    "\n",
    "def vector(qs:Array, s:Array, kn:Array, *args:Array) -> Array:\n",
    "    q_x, q_y, q_s = qs\n",
    "    a_x, a_y, a_s = jax.numpy.zeros_like(qs)\n",
    "    a_s = - 1/2*kn*(1 + jax.numpy.cos(s))*(q_x**2 + q_y**2)\n",
    "    return a_x, a_y, a_s\n",
    "\n",
    "def scalar(qs:Array, s:Array, kn:Array, *args:Array) -> Array:\n",
    "    q_x, q_y, q_s = qs\n",
    "    return jax.numpy.zeros_like(s)\n",
    "\n",
    "hamiltonian = hamiltonian_factory(vector, scalar)\n",
    "\n",
    "extended = autonomize(hamiltonian)"
   ]
  },
  {
   "cell_type": "code",
   "execution_count": 14,
   "id": "7281a8c6-e48e-412c-8a7a-4171568cfc3d",
   "metadata": {},
   "outputs": [],
   "source": [
    "# Set extended initial condition\n",
    "\n",
    "Qs = jax.numpy.concat([qs, si.reshape(-1)])\n",
    "Ps = jax.numpy.concat([ps, -hamiltonian(qs, ps, si, kn).reshape(-1)])\n",
    "X = jax.numpy.hstack([Qs, Ps])"
   ]
  },
  {
   "cell_type": "code",
   "execution_count": 15,
   "id": "0f0d5d1c-e319-4903-870b-5a5c889e01ca",
   "metadata": {},
   "outputs": [],
   "source": [
    "# Set implicit midpoint integration step\n",
    "\n",
    "integrator = jit(fold(sequence(0, 2**1, [midpoint(extended, ns=2**1)], merge=False)))"
   ]
  },
  {
   "cell_type": "code",
   "execution_count": 16,
   "id": "7ee34eb9-5831-499d-acb2-2d7bb47845ff",
   "metadata": {},
   "outputs": [
    {
     "name": "stdout",
     "output_type": "stream",
     "text": [
      "[ 4.093772217780e-03 -2.130920641490e-03 -1.157542898301e-05  1.500000000000e+00  7.828730523443e-04  5.455056721550e-03  1.000000000000e-04  9.999734128953e-01]\n"
     ]
    }
   ],
   "source": [
    "# Set and compile element\n",
    "\n",
    "element = jit(nest(10**2, integrator))\n",
    "out = element(X, ds, si, kn)\n",
    "print(out)"
   ]
  },
  {
   "cell_type": "code",
   "execution_count": 17,
   "id": "f3e51caf-9d1d-4e4f-9c13-f091eddc705f",
   "metadata": {},
   "outputs": [],
   "source": [
    "# Set tao integration step\n",
    "\n",
    "integrator = jit(fold(sequence(0, 2**1, [tao(extended)], merge=False)))"
   ]
  },
  {
   "cell_type": "code",
   "execution_count": 18,
   "id": "a7bfdfe6-9287-4301-9db8-b28ab3482e88",
   "metadata": {},
   "outputs": [
    {
     "name": "stdout",
     "output_type": "stream",
     "text": [
      "[ 4.093772217780e-03 -2.130920641487e-03 -1.157542898302e-05  1.500000000000e+00  7.828730523431e-04  5.455056721550e-03  1.000000000000e-04  9.999734128953e-01]\n"
     ]
    }
   ],
   "source": [
    "# Set and compile element\n",
    "\n",
    "element = jit(nest(10**2, integrator))\n",
    "out = element(X, ds, si, kn)\n",
    "print(out)"
   ]
  },
  {
   "cell_type": "code",
   "execution_count": 19,
   "id": "3d4ed639-5ede-4c3c-bd0a-29faca01499e",
   "metadata": {},
   "outputs": [
    {
     "data": {
      "text/plain": [
       "Array([[ 2.733638829123e-01, -5.073806420139e-06,  0.000000000000e+00,  8.507003015250e-04,  7.640867440566e-01,  3.911335010850e-06, -2.099797209399e-03,  0.000000000000e+00],\n",
       "       [-5.073787794666e-06,  2.733566344460e-01,  0.000000000000e+00, -1.445226318313e-03,  3.911295686010e-06,  7.640874081955e-01, -2.608613878958e-03,  0.000000000000e+00],\n",
       "       [ 1.815088641299e-03,  2.754207969965e-03,  1.000000000000e+00,  3.912375857701e-06, -2.607918123372e-03, -1.844346610617e-03,  1.977826577988e-05,  0.000000000000e+00],\n",
       "       [ 0.000000000000e+00,  0.000000000000e+00,  0.000000000000e+00,  1.000000000000e+00,  0.000000000000e+00,  0.000000000000e+00,  0.000000000000e+00,  0.000000000000e+00],\n",
       "       [-1.169086112155e+00,  2.508455236989e-06,  0.000000000000e+00,  2.194571127834e-03,  3.903836816403e-01, -2.470173985962e-06,  2.340302050291e-03,  0.000000000000e+00],\n",
       "       [ 2.508450612498e-06, -1.169086571022e+00,  0.000000000000e+00, -2.552292481525e-03, -2.470160046831e-06,  3.903899102544e-01,  1.080983794292e-03,  0.000000000000e+00],\n",
       "       [ 0.000000000000e+00,  0.000000000000e+00,  0.000000000000e+00,  0.000000000000e+00,  0.000000000000e+00,  0.000000000000e+00,  1.000000000000e+00,  0.000000000000e+00],\n",
       "       [ 1.594474968020e-03, -2.387294032472e-03,  0.000000000000e+00,  9.568051265768e-06,  1.344729639275e-03, -1.385962089381e-03, -2.291214027951e-06,  1.000000000000e+00]], dtype=float64)"
      ]
     },
     "execution_count": 19,
     "metadata": {},
     "output_type": "execute_result"
    }
   ],
   "source": [
    "# Diffirentiability (initial condition)\n",
    "\n",
    "jax.jacrev(element)(X, ds, si, kn)"
   ]
  },
  {
   "cell_type": "code",
   "execution_count": 20,
   "id": "a0944868-7d08-4841-9a51-3d71fdec59b5",
   "metadata": {},
   "outputs": [
    {
     "data": {
      "text/plain": [
       "Array([-1.720422619828e-03,  3.372942592063e-03, -8.584999600196e-06,  0.000000000000e+00, -3.509583906528e-03,  4.764367089934e-03,  0.000000000000e+00,  5.002086081004e-06], dtype=float64)"
      ]
     },
     "execution_count": 20,
     "metadata": {},
     "output_type": "execute_result"
    }
   ],
   "source": [
    "# Diffirentiability (parameter)\n",
    "\n",
    "jax.jacrev(element, argnums=-1)(X, ds, si, kn)"
   ]
  }
 ],
 "metadata": {
  "colab": {
   "collapsed_sections": [
    "myt0_gMIOq7b",
    "5d97819c"
   ],
   "name": "03_frequency.ipynb",
   "provenance": []
  },
  "kernelspec": {
   "display_name": "Python 3 (ipykernel)",
   "language": "python",
   "name": "python3"
  },
  "language_info": {
   "codemirror_mode": {
    "name": "ipython",
    "version": 3
   },
   "file_extension": ".py",
   "mimetype": "text/x-python",
   "name": "python",
   "nbconvert_exporter": "python",
   "pygments_lexer": "ipython3",
   "version": "3.12.1"
  },
  "latex_envs": {
   "LaTeX_envs_menu_present": true,
   "autoclose": false,
   "autocomplete": true,
   "bibliofile": "biblio.bib",
   "cite_by": "apalike",
   "current_citInitial": 1,
   "eqLabelWithNumbers": true,
   "eqNumInitial": 1,
   "hotkeys": {
    "equation": "Ctrl-E",
    "itemize": "Ctrl-I"
   },
   "labels_anchors": false,
   "latex_user_defs": false,
   "report_style_numbering": false,
   "user_envs_cfg": false
  }
 },
 "nbformat": 4,
 "nbformat_minor": 5
}
