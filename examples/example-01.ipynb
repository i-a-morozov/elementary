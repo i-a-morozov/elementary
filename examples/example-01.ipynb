{
 "cells": [
  {
   "cell_type": "markdown",
   "id": "4fe6c1e7-9391-4d0a-b890-3691d6c5e905",
   "metadata": {},
   "source": [
    "# Example-02: Hamiltonian factory (non-autonomous integration in extended phase space)"
   ]
  },
  {
   "cell_type": "code",
   "execution_count": 1,
   "id": "1a9d9643-611a-4884-814c-7368a78c1f60",
   "metadata": {},
   "outputs": [],
   "source": [
    "# In this example non-autonomous hamiltonial is integrated using midpoint and tao integrators\n",
    "# For explicitly defined hamiltonian function and factory generated one"
   ]
  },
  {
   "cell_type": "code",
   "execution_count": 2,
   "id": "dd7bf577-98a7-4a71-ac6c-55d46a323bff",
   "metadata": {},
   "outputs": [],
   "source": [
    "# Import \n",
    "\n",
    "import jax\n",
    "from jax import Array\n",
    "from jax import jit\n",
    "from jax import vmap\n",
    "\n",
    "from elementary import fold\n",
    "from elementary import nest\n",
    "from elementary import midpoint\n",
    "from elementary import tao\n",
    "from elementary import sequence\n",
    "\n",
    "from elementary.hamiltonian import hamiltonian_factory\n",
    "from elementary.hamiltonian import autonomize\n",
    "\n",
    "jax.numpy.set_printoptions(linewidth=256, precision=12)"
   ]
  },
  {
   "cell_type": "code",
   "execution_count": 3,
   "id": "28237b06-af4b-40c1-be71-7a636fbab442",
   "metadata": {},
   "outputs": [],
   "source": [
    "# Set data type\n",
    "\n",
    "jax.config.update(\"jax_enable_x64\", True)"
   ]
  },
  {
   "cell_type": "code",
   "execution_count": 4,
   "id": "86be9a60-816c-4991-ba37-1f44e29dec4c",
   "metadata": {},
   "outputs": [],
   "source": [
    "# Set device\n",
    "\n",
    "device, *_ = jax.devices('cpu')\n",
    "jax.config.update('jax_default_device', device)"
   ]
  },
  {
   "cell_type": "code",
   "execution_count": 5,
   "id": "bc6db1cc-c523-471f-8a3c-07aa24c15a0f",
   "metadata": {},
   "outputs": [],
   "source": [
    "# Set parameters\n",
    "\n",
    "si = jax.numpy.float64(0.5)\n",
    "ds = jax.numpy.float64(0.01)\n",
    "kn = jax.numpy.float64(1.0)"
   ]
  },
  {
   "cell_type": "code",
   "execution_count": 6,
   "id": "1fadeddc-cd27-4437-ab4b-e79e710bcb6e",
   "metadata": {},
   "outputs": [],
   "source": [
    "# Set initial condition\n",
    "\n",
    "qs = jax.numpy.array([0.001, -0.005, 0.0])\n",
    "ps = jax.numpy.array([0.005, -0.001, 0.0001])\n",
    "x = jax.numpy.hstack([qs, ps])"
   ]
  },
  {
   "cell_type": "code",
   "execution_count": 7,
   "id": "2e6c639a-e20f-4b6b-8cb0-0b934a4a978c",
   "metadata": {},
   "outputs": [],
   "source": [
    "# Define non-autonomous and extended hamiltonian (explicit)\n",
    "\n",
    "def hamiltonian(qs, ps, s, kn, *args):\n",
    "    q_x, q_y, q_s = qs\n",
    "    p_x, p_y, p_s = ps\n",
    "    return p_s - jax.numpy.sqrt((1 + p_s)**2 - p_x**2 - p_y**2) + 1/2*kn*(1 + jax.numpy.cos(s))*(q_x**2 + q_y**2)\n",
    "\n",
    "def extended(qs, ps, s, kn, *args):\n",
    "    q_x, q_y, q_s, q_t = qs\n",
    "    p_x, p_y, p_s, p_t = ps\n",
    "    return p_t + (p_s - jax.numpy.sqrt((1 + p_s)**2 - p_x**2 - p_y**2) + 1/2*kn*(1 + jax.numpy.cos(q_t))*(q_x**2 + q_y**2))"
   ]
  },
  {
   "cell_type": "code",
   "execution_count": 8,
   "id": "c972363d-4f5b-4ab9-bca9-c193ed415bf7",
   "metadata": {},
   "outputs": [],
   "source": [
    "# Set extended initial condition\n",
    "\n",
    "Qs = jax.numpy.concat([qs, si.reshape(-1)])\n",
    "Ps = jax.numpy.concat([ps, -hamiltonian(qs, ps, si, kn).reshape(-1)])\n",
    "X = jax.numpy.hstack([Qs, Ps])"
   ]
  },
  {
   "cell_type": "code",
   "execution_count": 9,
   "id": "5ab2addf-68dd-406f-8873-a5af58dba6a9",
   "metadata": {},
   "outputs": [],
   "source": [
    "# Set implicit midpoint integration step\n",
    "\n",
    "integrator = jit(fold(sequence(0, 2**1, [midpoint(extended, ns=2**1)], merge=False)))"
   ]
  },
  {
   "cell_type": "code",
   "execution_count": 10,
   "id": "cf550423-e58b-456f-8a53-7298a4cec140",
   "metadata": {},
   "outputs": [
    {
     "name": "stdout",
     "output_type": "stream",
     "text": [
      "[ 4.093772217780e-03 -2.130920641490e-03 -1.157542898301e-05  1.500000000000e+00  7.828730523443e-04  5.455056721550e-03  1.000000000000e-04  9.999734128953e-01]\n"
     ]
    }
   ],
   "source": [
    "# Set and compile element\n",
    "\n",
    "element = jit(nest(10**2, integrator))\n",
    "out = element(X, ds, si, kn)\n",
    "print(out)"
   ]
  },
  {
   "cell_type": "code",
   "execution_count": 11,
   "id": "a62cad3c-c55a-4199-840f-e6bccb6c4663",
   "metadata": {},
   "outputs": [],
   "source": [
    "# Set tao integration step\n",
    "\n",
    "integrator = jit(fold(sequence(0, 2**1, [tao(extended)], merge=False)))"
   ]
  },
  {
   "cell_type": "code",
   "execution_count": 12,
   "id": "9a53216c-e4d4-4715-98b7-5fe112464a63",
   "metadata": {},
   "outputs": [
    {
     "name": "stdout",
     "output_type": "stream",
     "text": [
      "[ 4.093772217780e-03 -2.130920641487e-03 -1.157542898302e-05  1.500000000000e+00  7.828730523431e-04  5.455056721550e-03  1.000000000000e-04  9.999734128953e-01]\n"
     ]
    }
   ],
   "source": [
    "# Set and compile element\n",
    "\n",
    "element = jit(nest(10**2, integrator))\n",
    "out = element(X, ds, si, kn)\n",
    "print(out)"
   ]
  },
  {
   "cell_type": "code",
   "execution_count": 13,
   "id": "27218b88-9378-4f73-8e60-fb2d02675140",
   "metadata": {},
   "outputs": [],
   "source": [
    "# Define non-autonomous and extended hamiltonian (factory)\n",
    "\n",
    "def vector(qs:Array, s:Array, kn:Array, *args:Array) -> Array:\n",
    "    q_x, q_y, q_s = qs\n",
    "    a_x, a_y, a_s = jax.numpy.zeros_like(qs)\n",
    "    a_s = - 1/2*kn*(1 + jax.numpy.cos(s))*(q_x**2 + q_y**2)\n",
    "    return a_x, a_y, a_s\n",
    "\n",
    "def scalar(qs:Array, s:Array, kn:Array, *args:Array) -> Array:\n",
    "    q_x, q_y, q_s = qs\n",
    "    return jax.numpy.zeros_like(s)\n",
    "\n",
    "hamiltonian = hamiltonian_factory(vector, scalar)\n",
    "\n",
    "extended = autonomize(hamiltonian)"
   ]
  },
  {
   "cell_type": "code",
   "execution_count": 14,
   "id": "527a839d-f747-46b7-b90e-c746ea37da7a",
   "metadata": {},
   "outputs": [],
   "source": [
    "# Set extended initial condition\n",
    "\n",
    "Qs = jax.numpy.concat([qs, si.reshape(-1)])\n",
    "Ps = jax.numpy.concat([ps, -hamiltonian(qs, ps, si, kn).reshape(-1)])\n",
    "X = jax.numpy.hstack([Qs, Ps])"
   ]
  },
  {
   "cell_type": "code",
   "execution_count": 15,
   "id": "a37a13f7-a089-46bd-9936-c4f5dbe98eda",
   "metadata": {},
   "outputs": [],
   "source": [
    "# Set implicit midpoint integration step\n",
    "\n",
    "integrator = jit(fold(sequence(0, 2**1, [midpoint(extended, ns=2**1)], merge=False)))"
   ]
  },
  {
   "cell_type": "code",
   "execution_count": 16,
   "id": "4aad65f9-3065-4d74-9cff-2a7e8b8e3c19",
   "metadata": {},
   "outputs": [
    {
     "name": "stdout",
     "output_type": "stream",
     "text": [
      "[ 4.093772217780e-03 -2.130920641490e-03 -1.157542898301e-05  1.500000000000e+00  7.828730523443e-04  5.455056721550e-03  1.000000000000e-04  9.999734128953e-01]\n"
     ]
    }
   ],
   "source": [
    "# Set and compile element\n",
    "\n",
    "element = jit(nest(10**2, integrator))\n",
    "out = element(X, ds, si, kn)\n",
    "print(out)"
   ]
  },
  {
   "cell_type": "code",
   "execution_count": 17,
   "id": "69f6de67-0c75-4b64-9ddb-ffa8572bc776",
   "metadata": {},
   "outputs": [],
   "source": [
    "# Set tao integration step\n",
    "\n",
    "integrator = jit(fold(sequence(0, 2**1, [tao(extended)], merge=False)))"
   ]
  },
  {
   "cell_type": "code",
   "execution_count": 18,
   "id": "c27f30af-f754-449f-95ba-d05acb842626",
   "metadata": {},
   "outputs": [
    {
     "name": "stdout",
     "output_type": "stream",
     "text": [
      "[ 4.093772217780e-03 -2.130920641487e-03 -1.157542898302e-05  1.500000000000e+00  7.828730523431e-04  5.455056721550e-03  1.000000000000e-04  9.999734128953e-01]\n"
     ]
    }
   ],
   "source": [
    "# Set and compile element\n",
    "\n",
    "element = jit(nest(10**2, integrator))\n",
    "out = element(X, ds, si, kn)\n",
    "print(out)"
   ]
  },
  {
   "cell_type": "code",
   "execution_count": 19,
   "id": "39742942-0fd4-4c46-b830-c7908278d121",
   "metadata": {},
   "outputs": [
    {
     "data": {
      "text/plain": [
       "Array([[ 2.733638829123e-01, -5.073806420139e-06,  0.000000000000e+00,  8.507003015250e-04,  7.640867440566e-01,  3.911335010850e-06, -2.099797209399e-03,  0.000000000000e+00],\n",
       "       [-5.073787794666e-06,  2.733566344460e-01,  0.000000000000e+00, -1.445226318313e-03,  3.911295686010e-06,  7.640874081955e-01, -2.608613878958e-03,  0.000000000000e+00],\n",
       "       [ 1.815088641299e-03,  2.754207969965e-03,  1.000000000000e+00,  3.912375857701e-06, -2.607918123372e-03, -1.844346610617e-03,  1.977826577988e-05,  0.000000000000e+00],\n",
       "       [ 0.000000000000e+00,  0.000000000000e+00,  0.000000000000e+00,  1.000000000000e+00,  0.000000000000e+00,  0.000000000000e+00,  0.000000000000e+00,  0.000000000000e+00],\n",
       "       [-1.169086112155e+00,  2.508455236989e-06,  0.000000000000e+00,  2.194571127834e-03,  3.903836816403e-01, -2.470173985962e-06,  2.340302050291e-03,  0.000000000000e+00],\n",
       "       [ 2.508450612498e-06, -1.169086571022e+00,  0.000000000000e+00, -2.552292481525e-03, -2.470160046831e-06,  3.903899102544e-01,  1.080983794292e-03,  0.000000000000e+00],\n",
       "       [ 0.000000000000e+00,  0.000000000000e+00,  0.000000000000e+00,  0.000000000000e+00,  0.000000000000e+00,  0.000000000000e+00,  1.000000000000e+00,  0.000000000000e+00],\n",
       "       [ 1.594474968020e-03, -2.387294032472e-03,  0.000000000000e+00,  9.568051265768e-06,  1.344729639275e-03, -1.385962089381e-03, -2.291214027951e-06,  1.000000000000e+00]], dtype=float64)"
      ]
     },
     "execution_count": 19,
     "metadata": {},
     "output_type": "execute_result"
    }
   ],
   "source": [
    "# Diffirentiability (initial condition)\n",
    "\n",
    "jax.jacrev(element)(X, ds, si, kn)"
   ]
  },
  {
   "cell_type": "code",
   "execution_count": 20,
   "id": "f200078c-7779-4a7a-9f66-ced21f64f53a",
   "metadata": {},
   "outputs": [
    {
     "data": {
      "text/plain": [
       "Array([-1.720422619828e-03,  3.372942592063e-03, -8.584999600196e-06,  0.000000000000e+00, -3.509583906528e-03,  4.764367089934e-03,  0.000000000000e+00,  5.002086081004e-06], dtype=float64)"
      ]
     },
     "execution_count": 20,
     "metadata": {},
     "output_type": "execute_result"
    }
   ],
   "source": [
    "# Diffirentiability (parameter)\n",
    "\n",
    "jax.jacrev(element, argnums=-1)(X, ds, si, kn)"
   ]
  }
 ],
 "metadata": {
  "colab": {
   "collapsed_sections": [
    "myt0_gMIOq7b",
    "5d97819c"
   ],
   "name": "03_frequency.ipynb",
   "provenance": []
  },
  "kernelspec": {
   "display_name": "Python 3 (ipykernel)",
   "language": "python",
   "name": "python3"
  },
  "language_info": {
   "codemirror_mode": {
    "name": "ipython",
    "version": 3
   },
   "file_extension": ".py",
   "mimetype": "text/x-python",
   "name": "python",
   "nbconvert_exporter": "python",
   "pygments_lexer": "ipython3",
   "version": "3.12.1"
  },
  "latex_envs": {
   "LaTeX_envs_menu_present": true,
   "autoclose": false,
   "autocomplete": true,
   "bibliofile": "biblio.bib",
   "cite_by": "apalike",
   "current_citInitial": 1,
   "eqLabelWithNumbers": true,
   "eqNumInitial": 1,
   "hotkeys": {
    "equation": "Ctrl-E",
    "itemize": "Ctrl-I"
   },
   "labels_anchors": false,
   "latex_user_defs": false,
   "report_style_numbering": false,
   "user_envs_cfg": false
  }
 },
 "nbformat": 4,
 "nbformat_minor": 5
}
