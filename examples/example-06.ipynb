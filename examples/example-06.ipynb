{
 "cells": [
  {
   "attachments": {},
   "cell_type": "markdown",
   "id": "556562f3-8ece-4517-8c93-ee5e2fc29131",
   "metadata": {},
   "source": [
    "# Example-07: Multipole element factory"
   ]
  },
  {
   "cell_type": "code",
   "execution_count": 1,
   "id": "5e7e737b-09de-45bb-9360-340818480e9d",
   "metadata": {},
   "outputs": [],
   "source": [
    "# In this example multipole factory is illustrated"
   ]
  },
  {
   "cell_type": "code",
   "execution_count": 2,
   "id": "f0c00b3e-221d-4e99-b1c3-00d953146d6e",
   "metadata": {},
   "outputs": [],
   "source": [
    "import jax\n",
    "from jax import jit\n",
    "from jax import jacrev\n",
    "\n",
    "from elementary.util import ptc\n",
    "from elementary.util import beta\n",
    "from elementary.multipole import multipole_factory\n",
    "\n",
    "jax.numpy.set_printoptions(linewidth=256, precision=12)"
   ]
  },
  {
   "cell_type": "code",
   "execution_count": 3,
   "id": "144c559a-2dd7-479e-a7f4-ce582d0917c7",
   "metadata": {},
   "outputs": [],
   "source": [
    "# Set data type\n",
    "\n",
    "jax.config.update(\"jax_enable_x64\", True)"
   ]
  },
  {
   "cell_type": "code",
   "execution_count": 4,
   "id": "4dc3519b-2741-4956-bbbf-420610f066ed",
   "metadata": {},
   "outputs": [],
   "source": [
    "# Set device\n",
    "\n",
    "device, *_ = jax.devices('cpu')\n",
    "jax.config.update('jax_default_device', device)"
   ]
  },
  {
   "cell_type": "code",
   "execution_count": 5,
   "id": "a4e3548e-2836-463c-b37c-03fb54cab0ad",
   "metadata": {},
   "outputs": [],
   "source": [
    "# Set initial condition\n",
    "\n",
    "(q_x, q_y, q_s) = qs = jax.numpy.array([-0.01, 0.005, 0.001])\n",
    "(p_x, p_y, p_s) = ps = jax.numpy.array([0.001, 0.001, -0.0001])\n",
    "x = jax.numpy.hstack([qs, ps])"
   ]
  },
  {
   "cell_type": "code",
   "execution_count": 6,
   "id": "2f328156-f601-4567-91b2-0532d8a7d9e1",
   "metadata": {},
   "outputs": [],
   "source": [
    "# Define generic sextupole element\n",
    "\n",
    "gamma = 10**6\n",
    "element = jit(multipole_factory(beta=beta(gamma), gamma=gamma, order=2**1, iterations=100, settings=dict(ns=2**1)))"
   ]
  },
  {
   "cell_type": "code",
   "execution_count": 7,
   "id": "6b7d88d7-bd29-49b9-8b2f-ef31a6267b36",
   "metadata": {},
   "outputs": [
    {
     "name": "stdout",
     "output_type": "stream",
     "text": [
      "[-0.010195569406  0.004634631697  0.000999272345 -0.002587384238 -0.003898816771 -0.0001        ]\n",
      "[-0.010195569406  0.004634631697  0.000999272345 -0.002587384238 -0.003898816771 -0.0001        ]\n",
      "True\n"
     ]
    }
   ],
   "source": [
    "# Compare with PTC\n",
    "\n",
    "length = jax.numpy.float64(0.25)\n",
    "\n",
    "kq_n = jax.numpy.float64(-2.0)\n",
    "kq_s = jax.numpy.float64(+1.5)\n",
    "ks_n = jax.numpy.float64(-50.0)\n",
    "ks_s = jax.numpy.float64(+75.0)\n",
    "ko_n = jax.numpy.float64(-100.0)\n",
    "ko_s = jax.numpy.float64(+500.0)\n",
    "\n",
    "print(res := element(x, length, kq_n, kq_s, ks_n, ks_s, ko_n, ko_s))\n",
    "print(ref := ptc(x, 'quadrupole', {'l': float(length), 'knl': f'{{0.0,{float(kq_n*length)}, {float(ks_n*length)}, {float(ko_n*length)}}}', 'ksl': f'{{0.0,{float(kq_s*length)}, {float(ks_s*length)}, {float(ko_s*length)}}}'}, gamma=gamma))\n",
    "print(jax.numpy.allclose(res, ref))"
   ]
  },
  {
   "cell_type": "code",
   "execution_count": 8,
   "id": "4ba8b30b-ecf5-454b-8553-3ca3fff77cc7",
   "metadata": {},
   "outputs": [
    {
     "name": "stdout",
     "output_type": "stream",
     "text": [
      "[[ 1.058513409508e+00  1.641931362481e-02  0.000000000000e+00  2.548728245136e-01  1.371326922561e-03  1.953576941092e-04]\n",
      " [ 1.642278685170e-02  9.426914513911e-01  0.000000000000e+00  1.371531111274e-03  2.452402248601e-01  3.641387859174e-04]\n",
      " [ 1.183448542480e-04 -1.074854969909e-04  1.000000000000e+00  2.074101491120e-04  3.548722956512e-04  1.451592817300e-06]\n",
      " [ 4.713919361344e-01  1.315473343451e-01  0.000000000000e+00  1.058139548854e+00  1.647371074327e-02  2.099929059292e-05]\n",
      " [ 1.316213051530e-01 -4.522013363616e-01  0.000000000000e+00  1.647803989950e-02  9.430571887065e-01 -3.375925241435e-05]\n",
      " [-6.192865626461e-23  4.745338216997e-23  0.000000000000e+00 -2.057783281331e-23 -6.577614444340e-24  1.000000000000e+00]]\n",
      "\n",
      "[-2.587671336604e-03 -3.899249387940e-03 -1.095003441633e-05 -1.481596650448e-02 -1.916336194108e-02  6.001644775824e-24]\n",
      "\n"
     ]
    }
   ],
   "source": [
    "# Differentiability\n",
    "\n",
    "print(jacrev(element)(x, length, kq_n, kq_s, ks_n, ks_s, ko_n, ko_s))\n",
    "print()\n",
    "\n",
    "print(jacrev(element, 1)(x, length, kq_n, kq_s, ks_n, ks_s, ko_n, ko_s))\n",
    "print()"
   ]
  }
 ],
 "metadata": {
  "colab": {
   "collapsed_sections": [
    "myt0_gMIOq7b",
    "5d97819c"
   ],
   "name": "03_frequency.ipynb",
   "provenance": []
  },
  "kernelspec": {
   "display_name": "Python 3 (ipykernel)",
   "language": "python",
   "name": "python3"
  },
  "language_info": {
   "codemirror_mode": {
    "name": "ipython",
    "version": 3
   },
   "file_extension": ".py",
   "mimetype": "text/x-python",
   "name": "python",
   "nbconvert_exporter": "python",
   "pygments_lexer": "ipython3",
   "version": "3.12.1"
  },
  "latex_envs": {
   "LaTeX_envs_menu_present": true,
   "autoclose": false,
   "autocomplete": true,
   "bibliofile": "biblio.bib",
   "cite_by": "apalike",
   "current_citInitial": 1,
   "eqLabelWithNumbers": true,
   "eqNumInitial": 1,
   "hotkeys": {
    "equation": "Ctrl-E",
    "itemize": "Ctrl-I"
   },
   "labels_anchors": false,
   "latex_user_defs": false,
   "report_style_numbering": false,
   "user_envs_cfg": false
  }
 },
 "nbformat": 4,
 "nbformat_minor": 5
}
